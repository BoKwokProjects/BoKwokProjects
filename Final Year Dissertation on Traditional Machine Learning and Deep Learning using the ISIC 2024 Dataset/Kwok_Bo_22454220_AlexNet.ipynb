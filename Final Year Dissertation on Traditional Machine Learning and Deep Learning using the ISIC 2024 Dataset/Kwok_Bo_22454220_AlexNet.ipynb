{
 "cells": [
  {
   "cell_type": "markdown",
   "metadata": {
    "id": "SckuPb3U5qyK"
   },
   "source": [
    "**Import Libraries**"
   ]
  },
  {
   "cell_type": "code",
   "execution_count": 1,
   "metadata": {
    "executionInfo": {
     "elapsed": 26033,
     "status": "ok",
     "timestamp": 1745486916859,
     "user": {
      "displayName": "Bo Kwok",
      "userId": "02865672638441406614"
     },
     "user_tz": -60
    },
    "id": "qb-5XIr5y1p4"
   },
   "outputs": [],
   "source": [
    "import os\n",
    "import random\n",
    "import shutil\n",
    "import time\n",
    "import collections\n",
    "import pandas as pd\n",
    "import copy\n",
    "\n",
    "import torch\n",
    "import torch.utils.data as data\n",
    "import torchvision.transforms as transforms\n",
    "import torchvision.datasets as datasets\n",
    "import torchvision.models as models\n",
    "\n",
    "\n",
    "from sklearn.preprocessing import label_binarize\n",
    "from sklearn.metrics import confusion_matrix, roc_curve, auc, ConfusionMatrixDisplay\n",
    "from sklearn.utils.multiclass import unique_labels\n",
    "import matplotlib.pyplot as plt\n",
    "import numpy as np\n",
    "\n",
    "import torch.nn as nn\n",
    "import torch.optim as optim\n",
    "import torch.nn.functional as F\n",
    "from tqdm.notebook import tqdm, trange\n"
   ]
  },
  {
   "cell_type": "markdown",
   "metadata": {
    "id": "cvlMsh1d6Yqs"
   },
   "source": [
    "**Random Seed Initialization**"
   ]
  },
  {
   "cell_type": "code",
   "execution_count": 2,
   "metadata": {
    "executionInfo": {
     "elapsed": 43,
     "status": "ok",
     "timestamp": 1745486919841,
     "user": {
      "displayName": "Bo Kwok",
      "userId": "02865672638441406614"
     },
     "user_tz": -60
    },
    "id": "n5_84qfAqbag"
   },
   "outputs": [],
   "source": [
    "SEED = 1234\n",
    "\n",
    "random.seed(SEED)\n",
    "np.random.seed (SEED)\n",
    "torch.manual_seed(SEED)\n",
    "torch.cuda.manual_seed(SEED)\n",
    "torch.backends.cudnn.deterministic = True"
   ]
  },
  {
   "cell_type": "markdown",
   "metadata": {
    "id": "tZaG6w0cI74G"
   },
   "source": [
    "**Mount to Google drive**"
   ]
  },
  {
   "cell_type": "code",
   "execution_count": 3,
   "metadata": {
    "colab": {
     "base_uri": "https://localhost:8080/"
    },
    "executionInfo": {
     "elapsed": 22255,
     "status": "ok",
     "timestamp": 1745486945059,
     "user": {
      "displayName": "Bo Kwok",
      "userId": "02865672638441406614"
     },
     "user_tz": -60
    },
    "id": "TnFDfL-8t6AH",
    "outputId": "5d4f4d61-0504-4228-d680-c35d59c87ace"
   },
   "outputs": [
    {
     "name": "stdout",
     "output_type": "stream",
     "text": [
      "Mounted at /content/drive/\n"
     ]
    }
   ],
   "source": [
    "from google.colab import drive\n",
    "drive.mount('/content/drive/')"
   ]
  },
  {
   "cell_type": "markdown",
   "metadata": {
    "id": "6jkBX_KSJDjp"
   },
   "source": [
    "**Unpack the dataset**"
   ]
  },
  {
   "cell_type": "code",
   "execution_count": 4,
   "metadata": {
    "executionInfo": {
     "elapsed": 10,
     "status": "ok",
     "timestamp": 1745486948217,
     "user": {
      "displayName": "Bo Kwok",
      "userId": "02865672638441406614"
     },
     "user_tz": -60
    },
    "id": "xl5FoykAweWo"
   },
   "outputs": [],
   "source": [
    "#shutil.unpack_archive(\"/content/drive/MyDrive/Kwok_Bo_22454220_Code/train-image.zip\", \"/content/drive/MyDrive/Kwok_Bo_22454220_Code/\")"
   ]
  },
  {
   "cell_type": "markdown",
   "metadata": {
    "id": "IIWGzzdW7hHk"
   },
   "source": [
    "**Data Preparation**"
   ]
  },
  {
   "cell_type": "code",
   "execution_count": 5,
   "metadata": {
    "executionInfo": {
     "elapsed": 1608030,
     "status": "ok",
     "timestamp": 1745488560091,
     "user": {
      "displayName": "Bo Kwok",
      "userId": "02865672638441406614"
     },
     "user_tz": -60
    },
    "id": "BxWddZ7l1Rmw"
   },
   "outputs": [],
   "source": [
    "csv_file = '/content/drive/My Drive/Kwok_Bo_22454220_Code/train-metadata-preparation.csv'\n",
    "original_images_folder = '/content/drive/My Drive/Kwok_Bo_22454220_Code/train-image/image'\n",
    "extracted_images_folder = '/content/drive/My Drive/Kwok_Bo_22454220_Code/image'\n",
    "\n",
    "\n",
    "data = pd.read_csv(csv_file, dtype={51: str, 52: str})\n",
    "\n",
    "for index, row in data.iterrows():\n",
    "\n",
    "  image_name = str(row['isic_id']) + \".jpg\"\n",
    "  image_class = row['target']\n",
    "\n",
    "  if image_class == 0 :\n",
    "      target_folder = extracted_images_folder\n",
    "  elif image_class == 1 :\n",
    "      target_folder = extracted_images_folder\n",
    "  else:\n",
    "      continue\n",
    "\n",
    "  source_path = os.path.join(original_images_folder, image_name)\n",
    "  destination_path = os.path.join(extracted_images_folder, image_name)\n",
    "\n",
    "  if os.path.exists(source_path):\n",
    "    shutil.copy(source_path, destination_path)\n",
    "  else:\n",
    "    print(f\"Image {image_name} not found in {original_images_folder}\")\n",
    "\n"
   ]
  },
  {
   "cell_type": "code",
   "execution_count": 6,
   "metadata": {
    "executionInfo": {
     "elapsed": 747491,
     "status": "ok",
     "timestamp": 1745490194005,
     "user": {
      "displayName": "Bo Kwok",
      "userId": "02865672638441406614"
     },
     "user_tz": -60
    },
    "id": "HjRT-LltOvnB"
   },
   "outputs": [],
   "source": [
    "from sklearn.model_selection import train_test_split\n",
    "\n",
    "train_data_csv_file = '/content/drive/My Drive/Kwok_Bo_22454220_Code/train_data.csv'\n",
    "valid_data_csv_file = '/content/drive/My Drive/Kwok_Bo_22454220_Code/valid_data.csv'\n",
    "test_data_csv_file = '/content/drive/My Drive/Kwok_Bo_22454220_Code/test_data.csv'\n",
    "extracted_images_folder = '/content/drive/My Drive/Kwok_Bo_22454220_Code/image'\n",
    "output_folder = '/content/drive/My Drive/Kwok_Bo_22454220_Code'\n",
    "\n",
    "train_image_folder = os.path.join(output_folder, 'train_image')\n",
    "valid_image_folder = os.path.join(output_folder, 'valid_image')\n",
    "test_image_folder = os.path.join(output_folder, 'test_image')\n",
    "\n",
    "os.makedirs(os.path.join(train_image_folder, 'benign'), exist_ok=True)\n",
    "os.makedirs(os.path.join(train_image_folder, 'malignant'), exist_ok=True)\n",
    "os.makedirs(os.path.join(valid_image_folder, 'benign'), exist_ok=True)\n",
    "os.makedirs(os.path.join(valid_image_folder, 'malignant'), exist_ok=True)\n",
    "os.makedirs(os.path.join(test_image_folder, 'benign'), exist_ok=True)\n",
    "os.makedirs(os.path.join(test_image_folder, 'malignant'), exist_ok=True)\n",
    "#os.makedirs(test_image_folder, exist_ok=True)\n",
    "\n",
    "train_csv_path = os.path.join(output_folder, \"train_data.csv\")\n",
    "valid_csv_path = os.path.join(output_folder, \"valid_data.csv\")\n",
    "test_csv_path = os.path.join(output_folder, \"test_data.csv\")\n",
    "\n",
    "#train_data.to_csv(train_csv_path, index=False)\n",
    "\n",
    "train_data = pd.read_csv(train_data_csv_file)\n",
    "valid_data = pd.read_csv(valid_data_csv_file)\n",
    "test_data = pd.read_csv(test_data_csv_file)\n",
    "\n",
    "def allocate_images(data, target_folder, classify=False):\n",
    "  for _, row in data.iterrows():\n",
    "    image_name = row['isic_id']\n",
    "    image_class = row[\"target\"]\n",
    "\n",
    "    if classify:\n",
    "        subfolder = 'benign' if image_class == 0 else 'malignant'\n",
    "        target_path = os.path.join(target_folder, subfolder, image_name+\".jpg\")\n",
    "    else:\n",
    "        target_path = os.path.join(target_folder,image_name+\".jpg\")\n",
    "\n",
    "    source_path = os.path.join(extracted_images_folder, image_name+\".jpg\")\n",
    "\n",
    "    if os.path.exists(source_path):\n",
    "      shutil.copy(source_path, target_path)\n",
    "    else:\n",
    "      print(f\"Image {image_name}) not found in {extracted_images_folder}\")\n",
    "\n",
    "allocate_images(train_data, train_image_folder, classify=True)\n",
    "allocate_images(valid_data, valid_image_folder, classify=True)\n",
    "allocate_images(test_data, test_image_folder, classify=True)"
   ]
  },
  {
   "cell_type": "code",
   "execution_count": 7,
   "metadata": {
    "colab": {
     "base_uri": "https://localhost:8080/",
     "height": 206
    },
    "executionInfo": {
     "elapsed": 906,
     "status": "ok",
     "timestamp": 1745490201509,
     "user": {
      "displayName": "Bo Kwok",
      "userId": "02865672638441406614"
     },
     "user_tz": -60
    },
    "id": "UoJa1EiQZykZ",
    "outputId": "107f917f-fc5c-49fe-aba3-7564f4dfb8d1"
   },
   "outputs": [
    {
     "data": {
      "application/vnd.google.colaboratory.intrinsic+json": {
       "summary": "{\n  \"name\": \"test_image_data_isic_id_target_only\",\n  \"rows\": 96,\n  \"fields\": [\n    {\n      \"column\": \"isic_id\",\n      \"properties\": {\n        \"dtype\": \"string\",\n        \"num_unique_values\": 96,\n        \"samples\": [\n          \"ISIC_8480895\",\n          \"ISIC_8440077\",\n          \"ISIC_8137894\"\n        ],\n        \"semantic_type\": \"\",\n        \"description\": \"\"\n      }\n    },\n    {\n      \"column\": \"target\",\n      \"properties\": {\n        \"dtype\": \"number\",\n        \"std\": 0,\n        \"min\": 0,\n        \"max\": 1,\n        \"num_unique_values\": 2,\n        \"samples\": [\n          0,\n          1\n        ],\n        \"semantic_type\": \"\",\n        \"description\": \"\"\n      }\n    }\n  ]\n}",
       "type": "dataframe",
       "variable_name": "test_image_data_isic_id_target_only"
      },
      "text/html": [
       "\n",
       "  <div id=\"df-4fcfc8ea-62fa-4654-9730-a946303cbbbd\" class=\"colab-df-container\">\n",
       "    <div>\n",
       "<style scoped>\n",
       "    .dataframe tbody tr th:only-of-type {\n",
       "        vertical-align: middle;\n",
       "    }\n",
       "\n",
       "    .dataframe tbody tr th {\n",
       "        vertical-align: top;\n",
       "    }\n",
       "\n",
       "    .dataframe thead th {\n",
       "        text-align: right;\n",
       "    }\n",
       "</style>\n",
       "<table border=\"1\" class=\"dataframe\">\n",
       "  <thead>\n",
       "    <tr style=\"text-align: right;\">\n",
       "      <th></th>\n",
       "      <th>isic_id</th>\n",
       "      <th>target</th>\n",
       "    </tr>\n",
       "  </thead>\n",
       "  <tbody>\n",
       "    <tr>\n",
       "      <th>21</th>\n",
       "      <td>ISIC_0119495</td>\n",
       "      <td>1</td>\n",
       "    </tr>\n",
       "    <tr>\n",
       "      <th>25</th>\n",
       "      <td>ISIC_0211092</td>\n",
       "      <td>1</td>\n",
       "    </tr>\n",
       "    <tr>\n",
       "      <th>79</th>\n",
       "      <td>ISIC_0412100</td>\n",
       "      <td>0</td>\n",
       "    </tr>\n",
       "    <tr>\n",
       "      <th>27</th>\n",
       "      <td>ISIC_0415078</td>\n",
       "      <td>0</td>\n",
       "    </tr>\n",
       "    <tr>\n",
       "      <th>74</th>\n",
       "      <td>ISIC_0417507</td>\n",
       "      <td>0</td>\n",
       "    </tr>\n",
       "  </tbody>\n",
       "</table>\n",
       "</div>\n",
       "    <div class=\"colab-df-buttons\">\n",
       "\n",
       "  <div class=\"colab-df-container\">\n",
       "    <button class=\"colab-df-convert\" onclick=\"convertToInteractive('df-4fcfc8ea-62fa-4654-9730-a946303cbbbd')\"\n",
       "            title=\"Convert this dataframe to an interactive table.\"\n",
       "            style=\"display:none;\">\n",
       "\n",
       "  <svg xmlns=\"http://www.w3.org/2000/svg\" height=\"24px\" viewBox=\"0 -960 960 960\">\n",
       "    <path d=\"M120-120v-720h720v720H120Zm60-500h600v-160H180v160Zm220 220h160v-160H400v160Zm0 220h160v-160H400v160ZM180-400h160v-160H180v160Zm440 0h160v-160H620v160ZM180-180h160v-160H180v160Zm440 0h160v-160H620v160Z\"/>\n",
       "  </svg>\n",
       "    </button>\n",
       "\n",
       "  <style>\n",
       "    .colab-df-container {\n",
       "      display:flex;\n",
       "      gap: 12px;\n",
       "    }\n",
       "\n",
       "    .colab-df-convert {\n",
       "      background-color: #E8F0FE;\n",
       "      border: none;\n",
       "      border-radius: 50%;\n",
       "      cursor: pointer;\n",
       "      display: none;\n",
       "      fill: #1967D2;\n",
       "      height: 32px;\n",
       "      padding: 0 0 0 0;\n",
       "      width: 32px;\n",
       "    }\n",
       "\n",
       "    .colab-df-convert:hover {\n",
       "      background-color: #E2EBFA;\n",
       "      box-shadow: 0px 1px 2px rgba(60, 64, 67, 0.3), 0px 1px 3px 1px rgba(60, 64, 67, 0.15);\n",
       "      fill: #174EA6;\n",
       "    }\n",
       "\n",
       "    .colab-df-buttons div {\n",
       "      margin-bottom: 4px;\n",
       "    }\n",
       "\n",
       "    [theme=dark] .colab-df-convert {\n",
       "      background-color: #3B4455;\n",
       "      fill: #D2E3FC;\n",
       "    }\n",
       "\n",
       "    [theme=dark] .colab-df-convert:hover {\n",
       "      background-color: #434B5C;\n",
       "      box-shadow: 0px 1px 3px 1px rgba(0, 0, 0, 0.15);\n",
       "      filter: drop-shadow(0px 1px 2px rgba(0, 0, 0, 0.3));\n",
       "      fill: #FFFFFF;\n",
       "    }\n",
       "  </style>\n",
       "\n",
       "    <script>\n",
       "      const buttonEl =\n",
       "        document.querySelector('#df-4fcfc8ea-62fa-4654-9730-a946303cbbbd button.colab-df-convert');\n",
       "      buttonEl.style.display =\n",
       "        google.colab.kernel.accessAllowed ? 'block' : 'none';\n",
       "\n",
       "      async function convertToInteractive(key) {\n",
       "        const element = document.querySelector('#df-4fcfc8ea-62fa-4654-9730-a946303cbbbd');\n",
       "        const dataTable =\n",
       "          await google.colab.kernel.invokeFunction('convertToInteractive',\n",
       "                                                    [key], {});\n",
       "        if (!dataTable) return;\n",
       "\n",
       "        const docLinkHtml = 'Like what you see? Visit the ' +\n",
       "          '<a target=\"_blank\" href=https://colab.research.google.com/notebooks/data_table.ipynb>data table notebook</a>'\n",
       "          + ' to learn more about interactive tables.';\n",
       "        element.innerHTML = '';\n",
       "        dataTable['output_type'] = 'display_data';\n",
       "        await google.colab.output.renderOutput(dataTable, element);\n",
       "        const docLink = document.createElement('div');\n",
       "        docLink.innerHTML = docLinkHtml;\n",
       "        element.appendChild(docLink);\n",
       "      }\n",
       "    </script>\n",
       "  </div>\n",
       "\n",
       "\n",
       "<div id=\"df-7f21a88c-22c4-43d1-80f8-25199f2fbe97\">\n",
       "  <button class=\"colab-df-quickchart\" onclick=\"quickchart('df-7f21a88c-22c4-43d1-80f8-25199f2fbe97')\"\n",
       "            title=\"Suggest charts\"\n",
       "            style=\"display:none;\">\n",
       "\n",
       "<svg xmlns=\"http://www.w3.org/2000/svg\" height=\"24px\"viewBox=\"0 0 24 24\"\n",
       "     width=\"24px\">\n",
       "    <g>\n",
       "        <path d=\"M19 3H5c-1.1 0-2 .9-2 2v14c0 1.1.9 2 2 2h14c1.1 0 2-.9 2-2V5c0-1.1-.9-2-2-2zM9 17H7v-7h2v7zm4 0h-2V7h2v10zm4 0h-2v-4h2v4z\"/>\n",
       "    </g>\n",
       "</svg>\n",
       "  </button>\n",
       "\n",
       "<style>\n",
       "  .colab-df-quickchart {\n",
       "      --bg-color: #E8F0FE;\n",
       "      --fill-color: #1967D2;\n",
       "      --hover-bg-color: #E2EBFA;\n",
       "      --hover-fill-color: #174EA6;\n",
       "      --disabled-fill-color: #AAA;\n",
       "      --disabled-bg-color: #DDD;\n",
       "  }\n",
       "\n",
       "  [theme=dark] .colab-df-quickchart {\n",
       "      --bg-color: #3B4455;\n",
       "      --fill-color: #D2E3FC;\n",
       "      --hover-bg-color: #434B5C;\n",
       "      --hover-fill-color: #FFFFFF;\n",
       "      --disabled-bg-color: #3B4455;\n",
       "      --disabled-fill-color: #666;\n",
       "  }\n",
       "\n",
       "  .colab-df-quickchart {\n",
       "    background-color: var(--bg-color);\n",
       "    border: none;\n",
       "    border-radius: 50%;\n",
       "    cursor: pointer;\n",
       "    display: none;\n",
       "    fill: var(--fill-color);\n",
       "    height: 32px;\n",
       "    padding: 0;\n",
       "    width: 32px;\n",
       "  }\n",
       "\n",
       "  .colab-df-quickchart:hover {\n",
       "    background-color: var(--hover-bg-color);\n",
       "    box-shadow: 0 1px 2px rgba(60, 64, 67, 0.3), 0 1px 3px 1px rgba(60, 64, 67, 0.15);\n",
       "    fill: var(--button-hover-fill-color);\n",
       "  }\n",
       "\n",
       "  .colab-df-quickchart-complete:disabled,\n",
       "  .colab-df-quickchart-complete:disabled:hover {\n",
       "    background-color: var(--disabled-bg-color);\n",
       "    fill: var(--disabled-fill-color);\n",
       "    box-shadow: none;\n",
       "  }\n",
       "\n",
       "  .colab-df-spinner {\n",
       "    border: 2px solid var(--fill-color);\n",
       "    border-color: transparent;\n",
       "    border-bottom-color: var(--fill-color);\n",
       "    animation:\n",
       "      spin 1s steps(1) infinite;\n",
       "  }\n",
       "\n",
       "  @keyframes spin {\n",
       "    0% {\n",
       "      border-color: transparent;\n",
       "      border-bottom-color: var(--fill-color);\n",
       "      border-left-color: var(--fill-color);\n",
       "    }\n",
       "    20% {\n",
       "      border-color: transparent;\n",
       "      border-left-color: var(--fill-color);\n",
       "      border-top-color: var(--fill-color);\n",
       "    }\n",
       "    30% {\n",
       "      border-color: transparent;\n",
       "      border-left-color: var(--fill-color);\n",
       "      border-top-color: var(--fill-color);\n",
       "      border-right-color: var(--fill-color);\n",
       "    }\n",
       "    40% {\n",
       "      border-color: transparent;\n",
       "      border-right-color: var(--fill-color);\n",
       "      border-top-color: var(--fill-color);\n",
       "    }\n",
       "    60% {\n",
       "      border-color: transparent;\n",
       "      border-right-color: var(--fill-color);\n",
       "    }\n",
       "    80% {\n",
       "      border-color: transparent;\n",
       "      border-right-color: var(--fill-color);\n",
       "      border-bottom-color: var(--fill-color);\n",
       "    }\n",
       "    90% {\n",
       "      border-color: transparent;\n",
       "      border-bottom-color: var(--fill-color);\n",
       "    }\n",
       "  }\n",
       "</style>\n",
       "\n",
       "  <script>\n",
       "    async function quickchart(key) {\n",
       "      const quickchartButtonEl =\n",
       "        document.querySelector('#' + key + ' button');\n",
       "      quickchartButtonEl.disabled = true;  // To prevent multiple clicks.\n",
       "      quickchartButtonEl.classList.add('colab-df-spinner');\n",
       "      try {\n",
       "        const charts = await google.colab.kernel.invokeFunction(\n",
       "            'suggestCharts', [key], {});\n",
       "      } catch (error) {\n",
       "        console.error('Error during call to suggestCharts:', error);\n",
       "      }\n",
       "      quickchartButtonEl.classList.remove('colab-df-spinner');\n",
       "      quickchartButtonEl.classList.add('colab-df-quickchart-complete');\n",
       "    }\n",
       "    (() => {\n",
       "      let quickchartButtonEl =\n",
       "        document.querySelector('#df-7f21a88c-22c4-43d1-80f8-25199f2fbe97 button');\n",
       "      quickchartButtonEl.style.display =\n",
       "        google.colab.kernel.accessAllowed ? 'block' : 'none';\n",
       "    })();\n",
       "  </script>\n",
       "</div>\n",
       "\n",
       "    </div>\n",
       "  </div>\n"
      ],
      "text/plain": [
       "         isic_id  target\n",
       "21  ISIC_0119495       1\n",
       "25  ISIC_0211092       1\n",
       "79  ISIC_0412100       0\n",
       "27  ISIC_0415078       0\n",
       "74  ISIC_0417507       0"
      ]
     },
     "execution_count": 7,
     "metadata": {},
     "output_type": "execute_result"
    }
   ],
   "source": [
    "test_image_data_path = '/content/drive/My Drive/Kwok_Bo_22454220_Code/test_data.csv'\n",
    "output_path = '/content/drive/My Drive/Kwok_Bo_22454220_Code/test_image_isic_id_target.csv'\n",
    "test_image_data_isic_id_target_only = pd.read_csv(test_image_data_path)\n",
    "test_image_data_isic_id_target_only = test_image_data_isic_id_target_only[[\"isic_id\", \"target\"]]\n",
    "test_image_data_isic_id_target_only = test_image_data_isic_id_target_only.sort_values(by='isic_id', ascending=True)\n",
    "test_image_data_isic_id_target_only.to_csv(output_path, index=False)\n",
    "\n",
    "test_image_data_isic_id_target_only.head()"
   ]
  },
  {
   "cell_type": "markdown",
   "metadata": {
    "id": "YKoA5Lze9O3Y"
   },
   "source": [
    "**Mean and Standard Deviation Calculation on Train Image Dataset**"
   ]
  },
  {
   "cell_type": "code",
   "execution_count": 8,
   "metadata": {
    "colab": {
     "base_uri": "https://localhost:8080/"
    },
    "executionInfo": {
     "elapsed": 3269,
     "status": "ok",
     "timestamp": 1745490209912,
     "user": {
      "displayName": "Bo Kwok",
      "userId": "02865672638441406614"
     },
     "user_tz": -60
    },
    "id": "i6hs7pxL2pWC",
    "outputId": "5dd9a878-9445-4027-818e-d37f19e51dc0"
   },
   "outputs": [
    {
     "name": "stdout",
     "output_type": "stream",
     "text": [
      "Calculated means: tensor([0.6808, 0.5039, 0.4142])\n",
      "Calculated stds: tensor([0.0557, 0.0621, 0.0578])\n"
     ]
    }
   ],
   "source": [
    "train_image = datasets.ImageFolder (root = '/content/drive/My Drive/Kwok_Bo_22454220_Code/train_image',\n",
    "                                    transform = transforms.ToTensor())\n",
    "\n",
    "means = torch.zeros(3)\n",
    "stds = torch.zeros(3)\n",
    "\n",
    "for img, label in train_image:\n",
    "    means += torch. mean(img, dim = (1,2))\n",
    "    stds += torch.std(img, dim = (1,2))\n",
    "\n",
    "means /= len(train_image)\n",
    "stds /= len(train_image)\n",
    "\n",
    "print(f'Calculated means: {means}')\n",
    "print(f'Calculated stds: {stds}')"
   ]
  },
  {
   "cell_type": "markdown",
   "metadata": {
    "id": "k0K69ZDs9t3C"
   },
   "source": [
    "**Image Augmentation and Image Normalization**"
   ]
  },
  {
   "cell_type": "code",
   "execution_count": 9,
   "metadata": {
    "executionInfo": {
     "elapsed": 48,
     "status": "ok",
     "timestamp": 1745490222402,
     "user": {
      "displayName": "Bo Kwok",
      "userId": "02865672638441406614"
     },
     "user_tz": -60
    },
    "id": "Wa3_C2Gh7YK8"
   },
   "outputs": [],
   "source": [
    "batch_size = 32\n",
    "\n",
    "transform_train_image = transforms.Compose([\n",
    "    transforms.Resize((32,32)),\n",
    "    transforms.RandomHorizontalFlip(),\n",
    "    transforms.ColorJitter(brightness=0.4,\n",
    "                                contrast=0.4,\n",
    "                                saturation=0.4),\n",
    "    transforms.ToTensor(),\n",
    "    transforms.Normalize([0.6808, 0.5039, 0.4142],[0.0557, 0.0621, 0.0578])\n",
    "    ])\n",
    "\n",
    "transform_test_image = transforms.Compose([\n",
    "      transforms.Resize((32,32)),\n",
    "      transforms.ToTensor(),\n",
    "      transforms.Normalize([0.6808, 0.5039, 0.4142],[0.0557, 0.0621, 0.0578])\n",
    "      ])\n"
   ]
  },
  {
   "cell_type": "markdown",
   "metadata": {
    "id": "F7-IRFA0-UrP"
   },
   "source": [
    "**Image Loading**"
   ]
  },
  {
   "cell_type": "code",
   "execution_count": 10,
   "metadata": {
    "executionInfo": {
     "elapsed": 21,
     "status": "ok",
     "timestamp": 1745490229258,
     "user": {
      "displayName": "Bo Kwok",
      "userId": "02865672638441406614"
     },
     "user_tz": -60
    },
    "id": "0G6tjMu1AlDq"
   },
   "outputs": [],
   "source": [
    "data_dir = '/content/drive/My Drive/Kwok_Bo_22454220_Code/'\n",
    "\n",
    "train_image_ds = datasets.ImageFolder(\n",
    "    os.path.join(data_dir, 'train_image'),\n",
    "    transform=transform_train_image)\n",
    "\n",
    "valid_image_ds, test_image_ds = [datasets.ImageFolder(\n",
    "    os.path.join(data_dir, folder),\n",
    "    transform=transform_test_image) for folder in ['valid_image', 'test_image']]"
   ]
  },
  {
   "cell_type": "code",
   "execution_count": 11,
   "metadata": {
    "executionInfo": {
     "elapsed": 5,
     "status": "ok",
     "timestamp": 1745490232532,
     "user": {
      "displayName": "Bo Kwok",
      "userId": "02865672638441406614"
     },
     "user_tz": -60
    },
    "id": "6NaiMM8A54Sb"
   },
   "outputs": [],
   "source": [
    "train_image_iter = torch.utils.data.DataLoader(train_image_ds, batch_size, shuffle=True,\n",
    "                                               drop_last=True)\n",
    "\n",
    "valid_image_iter = torch.utils.data.DataLoader(valid_image_ds, batch_size, shuffle=False,\n",
    "                                               drop_last=True)\n",
    "\n",
    "test_image_iter = torch.utils.data.DataLoader(test_image_ds, batch_size, shuffle=False,\n",
    "                                               drop_last=True)"
   ]
  },
  {
   "cell_type": "markdown",
   "metadata": {
    "id": "56rw7jvF-6oL"
   },
   "source": [
    "**Image Display for observation**"
   ]
  },
  {
   "cell_type": "code",
   "execution_count": 12,
   "metadata": {
    "executionInfo": {
     "elapsed": 6,
     "status": "ok",
     "timestamp": 1745490235196,
     "user": {
      "displayName": "Bo Kwok",
      "userId": "02865672638441406614"
     },
     "user_tz": -60
    },
    "id": "XF2c9OTK9qp9"
   },
   "outputs": [],
   "source": [
    "def normalize_image(image):\n",
    "    image_min = image.min()\n",
    "    image_max = image.max()\n",
    "    image.clamp_(min = image_min, max = image_max)\n",
    "    image.add_(-image_min).div_(image_max - image_min + 1e-5)\n",
    "    return image\n",
    "\n",
    "def plot_images(images, labels, classes, normalize = True):\n",
    "\n",
    "    n_images = len(images)\n",
    "\n",
    "    rows = int(np.sqrt(n_images))\n",
    "    cols = int(np.sqrt(n_images))\n",
    "\n",
    "    fig = plt.figure(figsize = (15,15))\n",
    "\n",
    "    for i in range(rows*cols):\n",
    "\n",
    "        ax = fig.add_subplot(rows, cols, i+1)\n",
    "\n",
    "        image = images[i]\n",
    "\n",
    "        if normalize:\n",
    "            image = normalize_image(image)\n",
    "\n",
    "        ax.imshow(image.permute(1,2,0).cpu().numpy())\n",
    "        label =classes[labels[i]]\n",
    "        ax.set_title(label)\n",
    "        ax.axis(\"off\")"
   ]
  },
  {
   "cell_type": "code",
   "execution_count": 13,
   "metadata": {
    "colab": {
     "base_uri": "https://localhost:8080/",
     "height": 991
    },
    "executionInfo": {
     "elapsed": 853,
     "status": "ok",
     "timestamp": 1745490240541,
     "user": {
      "displayName": "Bo Kwok",
      "userId": "02865672638441406614"
     },
     "user_tz": -60
    },
    "id": "zFo392TzEE4H",
    "outputId": "b04547bf-30d6-4eb7-f107-b87b89d76309"
   },
   "outputs": [
    {
     "data": {
      "image/png": "[encoded data removed]",
      "text/plain": [
       "<Figure size 1500x1500 with 9 Axes>"
      ]
     },
     "metadata": {},
     "output_type": "display_data"
    }
   ],
   "source": [
    "N_IMAGES = 10\n",
    "j=int(len(train_image_ds)/2) - int(N_IMAGES/2)\n",
    "\n",
    "images, labels = zip(*[(image, label) for image, label in\n",
    "                          [train_image_ds[i+j] for i in range(N_IMAGES)]])\n",
    "\n",
    "classes = train_image_ds.classes\n",
    "\n",
    "plot_images(images, labels, classes)"
   ]
  },
  {
   "cell_type": "markdown",
   "metadata": {
    "id": "ytKmZAJh_1RQ"
   },
   "source": [
    "**Model**"
   ]
  },
  {
   "cell_type": "code",
   "execution_count": 14,
   "metadata": {
    "executionInfo": {
     "elapsed": 10,
     "status": "ok",
     "timestamp": 1745490247744,
     "user": {
      "displayName": "Bo Kwok",
      "userId": "02865672638441406614"
     },
     "user_tz": -60
    },
    "id": "KLcuRpTUHVEN"
   },
   "outputs": [],
   "source": [
    "class AlexNet(nn.Module):\n",
    "    def __init__(self, output_dim):\n",
    "        super().__init__()\n",
    "\n",
    "        self.features = nn.Sequential(\n",
    "            nn.Conv2d(3, 64,3,2,1),\n",
    "            nn.MaxPool2d(2),\n",
    "            nn.ReLU(inplace=True),\n",
    "            nn.Conv2d(64,192,3, padding=1),\n",
    "            nn.MaxPool2d(2),\n",
    "            nn.ReLU(inplace=True),\n",
    "            nn.Conv2d(192,384,3, padding=1),\n",
    "            nn.ReLU(inplace=True),\n",
    "            nn.Conv2d(384, 256, 3, padding=1),\n",
    "            nn.ReLU(inplace=True),\n",
    "            nn.Conv2d(256, 256, 3, padding=1),\n",
    "            nn.MaxPool2d(2),\n",
    "            nn.ReLU(inplace=True)\n",
    "        )\n",
    "\n",
    "        self.classifier = nn.Sequential(\n",
    "            nn.Dropout(0.5),\n",
    "            nn.Linear(256 *2 *2, 4096),\n",
    "            nn.ReLU(inplace=True),\n",
    "            nn.Dropout(0.5),\n",
    "            nn.Linear(4096, 4096),\n",
    "            nn.ReLU(inplace=True),\n",
    "            nn.Linear(4096, output_dim)\n",
    "        )\n",
    "\n",
    "    def forward(self, x):\n",
    "        x = self.features(x)\n",
    "        h = x.view(x.shape[0], -1)\n",
    "        x = self.classifier(h)\n",
    "        return x, h"
   ]
  },
  {
   "cell_type": "code",
   "execution_count": 15,
   "metadata": {
    "colab": {
     "base_uri": "https://localhost:8080/"
    },
    "executionInfo": {
     "elapsed": 342,
     "status": "ok",
     "timestamp": 1745490251727,
     "user": {
      "displayName": "Bo Kwok",
      "userId": "02865672638441406614"
     },
     "user_tz": -60
    },
    "id": "75dxNUa5Lq5E",
    "outputId": "81251fc3-d780-4b8b-bb10-f8364a3323c1"
   },
   "outputs": [
    {
     "data": {
      "text/plain": [
       "AlexNet(\n",
       "  (features): Sequential(\n",
       "    (0): Conv2d(3, 64, kernel_size=(3, 3), stride=(2, 2), padding=(1, 1))\n",
       "    (1): MaxPool2d(kernel_size=2, stride=2, padding=0, dilation=1, ceil_mode=False)\n",
       "    (2): ReLU(inplace=True)\n",
       "    (3): Conv2d(64, 192, kernel_size=(3, 3), stride=(1, 1), padding=(1, 1))\n",
       "    (4): MaxPool2d(kernel_size=2, stride=2, padding=0, dilation=1, ceil_mode=False)\n",
       "    (5): ReLU(inplace=True)\n",
       "    (6): Conv2d(192, 384, kernel_size=(3, 3), stride=(1, 1), padding=(1, 1))\n",
       "    (7): ReLU(inplace=True)\n",
       "    (8): Conv2d(384, 256, kernel_size=(3, 3), stride=(1, 1), padding=(1, 1))\n",
       "    (9): ReLU(inplace=True)\n",
       "    (10): Conv2d(256, 256, kernel_size=(3, 3), stride=(1, 1), padding=(1, 1))\n",
       "    (11): MaxPool2d(kernel_size=2, stride=2, padding=0, dilation=1, ceil_mode=False)\n",
       "    (12): ReLU(inplace=True)\n",
       "  )\n",
       "  (classifier): Sequential(\n",
       "    (0): Dropout(p=0.5, inplace=False)\n",
       "    (1): Linear(in_features=1024, out_features=4096, bias=True)\n",
       "    (2): ReLU(inplace=True)\n",
       "    (3): Dropout(p=0.5, inplace=False)\n",
       "    (4): Linear(in_features=4096, out_features=4096, bias=True)\n",
       "    (5): ReLU(inplace=True)\n",
       "    (6): Linear(in_features=4096, out_features=2, bias=True)\n",
       "  )\n",
       ")"
      ]
     },
     "execution_count": 15,
     "metadata": {},
     "output_type": "execute_result"
    }
   ],
   "source": [
    "OUTPUT_DIM = 2\n",
    "\n",
    "model = AlexNet(OUTPUT_DIM)\n",
    "\n",
    "def initialize_parameters(m):\n",
    "    if isinstance(m, nn.Conv2d):\n",
    "        nn.init.kaiming_normal_(m.weight.data, nonlinearity='relu')\n",
    "        nn.init.constant_(m.bias.data, 0)\n",
    "    elif isinstance(m, nn.Linear):\n",
    "        nn.init.xavier_normal_(m.weight.data, gain=nn.init.calculate_gain('relu'))\n",
    "        nn.init.constant_(m.bias.data, 0)\n",
    "\n",
    "model.apply(initialize_parameters)"
   ]
  },
  {
   "cell_type": "markdown",
   "metadata": {
    "id": "Ao0FyZ0H_79o"
   },
   "source": [
    "**Number of Trainable Parameters Calculation**"
   ]
  },
  {
   "cell_type": "code",
   "execution_count": 16,
   "metadata": {
    "colab": {
     "base_uri": "https://localhost:8080/"
    },
    "executionInfo": {
     "elapsed": 11,
     "status": "ok",
     "timestamp": 1745490256615,
     "user": {
      "displayName": "Bo Kwok",
      "userId": "02865672638441406614"
     },
     "user_tz": -60
    },
    "id": "okcAL4zpLyDC",
    "outputId": "e0a4ecfb-885f-4a89-b940-5bd309efcb45"
   },
   "outputs": [
    {
     "name": "stdout",
     "output_type": "stream",
     "text": [
      "The model has 23,239,490 trainable parameters\n"
     ]
    }
   ],
   "source": [
    "def count_parameters(model):\n",
    "    return sum(p.numel() for p in model.parameters() if p.requires_grad)\n",
    "\n",
    "print(f'The model has {count_parameters(model):,} trainable parameters')"
   ]
  },
  {
   "cell_type": "markdown",
   "metadata": {
    "id": "Il3J8vmyDLD_"
   },
   "source": [
    "**Device configuration and Pipeline Setup**"
   ]
  },
  {
   "cell_type": "code",
   "execution_count": 17,
   "metadata": {
    "executionInfo": {
     "elapsed": 330,
     "status": "ok",
     "timestamp": 1745490260321,
     "user": {
      "displayName": "Bo Kwok",
      "userId": "02865672638441406614"
     },
     "user_tz": -60
    },
    "id": "TzFrVxQ7NjnE"
   },
   "outputs": [],
   "source": [
    "device = torch.device('cuda' if torch.cuda.is_available() else 'cpu')\n",
    "criterion = nn.CrossEntropyLoss()\n",
    "\n",
    "model = model.to(device)\n",
    "criterion = criterion.to(device)\n"
   ]
  },
  {
   "cell_type": "markdown",
   "metadata": {
    "id": "6-baSCtB9gPd"
   },
   "source": [
    "**Model Training and Validation and Hyperparameter Tuning**"
   ]
  },
  {
   "cell_type": "code",
   "execution_count": 18,
   "metadata": {
    "executionInfo": {
     "elapsed": 3,
     "status": "ok",
     "timestamp": 1745490263414,
     "user": {
      "displayName": "Bo Kwok",
      "userId": "02865672638441406614"
     },
     "user_tz": -60
    },
    "id": "NoJ1CZevDyBT"
   },
   "outputs": [],
   "source": [
    "def train(model, iterator, optimizer, criterion, device):\n",
    "\n",
    "    epoch_loss = 0\n",
    "    epoch_acc = 0\n",
    "\n",
    "    model.train()\n",
    "\n",
    "    for (x, y) in tqdm(iterator, desc=\"Training\", leave=False):\n",
    "\n",
    "        x = x.to(device)\n",
    "        y = y.to(device)\n",
    "\n",
    "        optimizer.zero_grad()\n",
    "\n",
    "        y_pred, _ = model(x)\n",
    "\n",
    "        loss = criterion(y_pred, y)\n",
    "\n",
    "        acc = calculate_accuracy(y_pred, y)\n",
    "\n",
    "        loss.backward()\n",
    "\n",
    "        optimizer.step()\n",
    "\n",
    "        epoch_loss += loss.item()\n",
    "        epoch_acc += acc.item()\n",
    "\n",
    "    return epoch_loss / len(iterator), epoch_acc / len(iterator)\n",
    "\n",
    "def evaluate(model, iterator, criterion, device):\n",
    "\n",
    "    epoch_loss =0\n",
    "    epoch_acc = 0\n",
    "\n",
    "    model.eval()\n",
    "\n",
    "    with torch.no_grad():\n",
    "\n",
    "        for (x, y) in tqdm(iterator, desc=\"Evaluating\", leave=False):\n",
    "\n",
    "            x = x.to(device)\n",
    "            y = y.to(device)\n",
    "\n",
    "            y_pred, _ = model(x)\n",
    "\n",
    "            loss = criterion(y_pred, y)\n",
    "\n",
    "            acc = calculate_accuracy(y_pred, y)\n",
    "\n",
    "            epoch_loss += loss.item()\n",
    "            epoch_acc += acc.item()\n",
    "\n",
    "    return epoch_loss / len(iterator), epoch_acc / len(iterator)\n",
    "\n"
   ]
  },
  {
   "cell_type": "code",
   "execution_count": 19,
   "metadata": {
    "executionInfo": {
     "elapsed": 10,
     "status": "ok",
     "timestamp": 1745490269303,
     "user": {
      "displayName": "Bo Kwok",
      "userId": "02865672638441406614"
     },
     "user_tz": -60
    },
    "id": "HLippmw6BoTU"
   },
   "outputs": [],
   "source": [
    "def calculate_accuracy(y_pred, y):\n",
    "    top_pred = y_pred.argmax(1, keepdim=True)\n",
    "    correct = top_pred.eq(y.view_as(top_pred)).sum()\n",
    "    acc = correct.float() / y.shape[0]\n",
    "    return acc"
   ]
  },
  {
   "cell_type": "code",
   "execution_count": 20,
   "metadata": {
    "executionInfo": {
     "elapsed": 4,
     "status": "ok",
     "timestamp": 1745490271777,
     "user": {
      "displayName": "Bo Kwok",
      "userId": "02865672638441406614"
     },
     "user_tz": -60
    },
    "id": "qASouV_MJBp7"
   },
   "outputs": [],
   "source": [
    "def epoch_time(start_time, end_time):\n",
    "    elapsed_time = end_time - start_time\n",
    "    elapsed_mins = int(elapsed_time / 60)\n",
    "    elapsed_secs = int(elapsed_time - (elapsed_mins*60))\n",
    "    return elapsed_mins, elapsed_secs"
   ]
  },
  {
   "cell_type": "code",
   "execution_count": 21,
   "metadata": {
    "executionInfo": {
     "elapsed": 3,
     "status": "ok",
     "timestamp": 1745490274857,
     "user": {
      "displayName": "Bo Kwok",
      "userId": "02865672638441406614"
     },
     "user_tz": -60
    },
    "id": "B5HRtUUUJp-_"
   },
   "outputs": [],
   "source": [
    "def get_predictions(model, iterator, device):\n",
    "\n",
    "    model.eval()\n",
    "\n",
    "    images =[]\n",
    "    labels =[]\n",
    "    probs = []\n",
    "\n",
    "    with torch.no_grad():\n",
    "\n",
    "        for (x, y) in iterator:\n",
    "\n",
    "            x = x.to(device)\n",
    "\n",
    "            y_pred, _ = model(x)\n",
    "\n",
    "            y_prob = F.softmax(y_pred, dim=-1)\n",
    "\n",
    "            images.append(x.cpu())\n",
    "            labels.append(y.cpu())\n",
    "            probs.append(y_prob.cpu())\n",
    "            #batch_size = x.shape[0]\n",
    "        images = torch.cat(images, dim=0)\n",
    "        labels = torch.cat(labels, dim=0)\n",
    "        probs = torch.cat(probs, dim=0)\n",
    "\n",
    "        return images, labels, probs"
   ]
  },
  {
   "cell_type": "code",
   "execution_count": 22,
   "metadata": {
    "colab": {
     "base_uri": "https://localhost:8080/",
     "height": 1000,
     "referenced_widgets": [
      "533cebceebd740339d886cb58b0fe568",
      "0a9c71a8ddf1481e8052cdde3f2c9266",
      "f5f9252c3f1b4827ac8eab5af91fee04",
      "dd853e823b17444d8a49f6dbd9c340dd",
      "aaf2d9340127496d89997cbedf87a97f",
      "be7cb9f72a0f4e9cba17cf018eed6eaf",
      "6832f591b7f142a08ddb1133e4a432e5",
      "9817be46663442bc96dfb21f06776de6",
      "bf4c08614e6f42ff93d8ebbeddb0cf70",
      "2f2a7b0211b64220bbcea22479094214",
      "55abb4debc114e10966c8b58c981310d",
      "3c630157a7c04e05b7fdf2c10c065933",
      "b0a1243f047a4dcd81a15f74b649edfe",
      "428e437f2b174520b41ee5c8b7a16ac1",
      "54875056da7d453abf2ff755cfeffe04",
      "3ea0a62cedd54a1e99833878d1e8d973",
      "2449136ad6904e28b4568bab5cada425",
      "b9bd398ff59749ac813f77ff2a64a4ff",
      "86bc4cbe3ea04c88aea949a9f3a7aa90",
      "70973a4a9eef44cda20c80cd64d8227b",
      "1c98eaa383904c969df15f123e0a0076",
      "60277842d94243a89f08fd520c84486c",
      "a1ebebf22a9a41eaafd64fdf13278ff6",
      "f303a5ba61964b77838cf4e119ed5db4",
      "8762bdfcc1ee47ffbbaf27b32106cf92",
      "a82a2ce08df14f209a451d19d9814f45",
      "c290c49573284da289bd8921837623dd",
      "23dec1628ce44cde99c7d98750ac897f",
      "d3622586b9124e4589b8e5f2407b3a4c",
      "cf44ade8597a415291989ec6ac610a17",
      "78509d94f6b0492099dd8f93cd6510a2",
      "c372e43ca56240a1a1921fb2f592842f",
      "db2949d302254bc7bfa7fef2bfedc929",
      "f1a897d477274428b828bdd0ebe271ab",
      "4d841f13d9024ec5a5fa714f635333e8",
      "1dd2a918eaf74c30ad18d4c44560cd9f",
      "14867d3693424bb0a931913dfbb2219d",
      "9468ae68697f40a98609ab4983545992",
      "4374026d790949f999906163bd8c5679",
      "6afd93b86dfd48eb9c62213505fc3def",
      "33bc3e61be6b4124b728ecc5d8b30724",
      "da3f273f45164722870764128940401d",
      "1ae58d814d1345ed9fc195fbfa18eca1",
      "14d2daaf1c5d4ef0bd40d960e610c599",
      "92c8666a96ae4d35bc58dacf8a6693e8",
      "a46e9c5aadb647f691b3b4d540ffa73a",
      "051c1255df544662ac8b0e1b79d9654f",
      "8d3a2b6cd42f411f81e40909e33cd5fc",
      "5df806462d8c4caa987e5e92970e8029",
      "a6f7278735f44075b919c3d7a232d06a",
      "005d881bdaa240f6af63c7a618299f39",
      "038a5cbc55004064a6bb650396f07dd3",
      "aa192b25147349da8a880b2a8324fb32",
      "b6cf6d2472e34c68aa0ed60131fe90ba",
      "21224aff21804a70ac240394f06789b7",
      "9fc8e6538a0c4763a8ae0088904176a0",
      "9b84f99d4f164e0dbc6f800f86f17cb1",
      "df4671cea4d5431793fc4774a580eb25",
      "223c4e5fd4604a338089d65ef1bfdbca",
      "981421cdbdc24dacbfb462af60a1a389",
      "147e3b84dad84bf79887e31d6bc539e0",
      "99afbde06ba4419bb5b3ce44be1e7cfb",
      "96772c0e4b674f318010dfaac3459f91",
      "81e9c0df8830412f95eb653bb63e9156",
      "515fe125ed3f4cd1af26cc8f2a4fb46d",
      "1113828f230d45479ad3d3a4bffcf9b9",
      "ea3e14ae9bd840409cadcf7c684dc9a8",
      "0fc3965bf5ed4754bf0183283954814e",
      "91177ef3aed146d99202a1fb8c4aee24",
      "450b3601bc104b8c85779883f525e8f8",
      "07c3d377ffa64ed4b52a642aef0fe964",
      "49c792297a1648768f272fbd12979dd9",
      "007efa3db9d24564b8793c3650785170",
      "d8c3a29584d44e8f8cf6e377ab4f6d72",
      "9e817b1e74ed41d6bb21579c4e9feae8",
      "b940d67c8c3445189622b8b1b8ecc505",
      "6fc8b7472f4d4fe5a501324366688aa0",
      "c10266bed37147d288fc1084855c0a7f",
      "e507cbcdac6f4dda8edf5b8035bcaa34",
      "6c4feee350ee4425885fcd15cee5dce9",
      "8820fe91cf9849bfa3acf4df96a4d8b1",
      "343051b9e19d4bb1ba5bfd0224b18233",
      "b1fae94350874ce09d60b141c06106b3",
      "ada4f735f1fc46aeb3f423d7da34c0a6",
      "874d6be7515c47bf9e1ae14cba8c8f01",
      "9802ceae7ad847fd99c7ea73dba9a352",
      "f43b59e7809a487ba756e1b425fb517b",
      "c9dee9467d4d4c43a48c4a91632ff8b0",
      "81b501c3e4b2481fb5be931c368a1e46",
      "105e26a6a5654c80aaebd5d269779195",
      "41b01ead35c44662ac483f28d9f12e95",
      "85649c1a5ed4449890224de46e409706",
      "efea2ab2aeb64ac1a81312c1c458d784",
      "47dd7903184f488eb05b592e7e78624c",
      "d87d62349e694c0b8c999a6dd5a89112",
      "9fba8738bcac40cc9fc3ae45459c152e",
      "690ed76ab0bc4629a6f092ab4ac96844",
      "b388cf35be8e4f0fac0cab349952e4bc",
      "aeb7d859730f44918b565d711c400158",
      "26f818ef1baa4c13ad7e0ffd1885a6ed",
      "cb5340a4a0a84aa8b13c0498e04fce03",
      "ef081bbfeb434f9ab8c3463c3ecaf60a",
      "29fe0e2a81b44d75b1a278edf3af432b",
      "cf75689faf6949a58839b50cc945dd53",
      "dcea17e46a67468dab8fd674b7dd5e65",
      "9b844bbe96c840eaa48f68e371748c4f",
      "bb97e32089a945829dc143657a595987",
      "c01b4452aaca4e5f968df11617e4c8f6",
      "b13d67954cb249da9e7abca7e00223b2",
      "e76dc8c349774adb801f2a49463fbd8d",
      "c71a4a811da14641815a3e0a838e381a",
      "a56ccd951a3e4af6bf07521622cc5a5a",
      "b952ee31d5624d1f8281886c00d19dc1",
      "278700db30944fab8aa9507bbe8055f8",
      "e2a2d8c026d145728f15cc488e07a411",
      "30438c5eed4740138bfffbbc1110967f",
      "aaf6e1f1addf41fdbe11034f357ac705",
      "8d74ae6e49454375b12b59d5fe61c034",
      "dd9f12ba95bb4d49b005d0261e409554",
      "e56bb27f128544b6a95bc59e6f8eea71",
      "cb292d5671854e67a017a3aced597f4c",
      "ac2985049f0d42afaaf506e6b6bbdeda",
      "f2ed879328194ad7815f3d6248824ae5",
      "d247319c29fa43b487aa848060afd5c7",
      "27eb6bae30304c2b93e022f1c143ba8a",
      "a3bc9514a7904560bafe6b235190dab5",
      "c4d656ec3e9141939fac16c2a810726c",
      "4f90097d7dec4a8ab7d95a3d47c32d85",
      "fd97a9e1711b4ea1808315ec09938240",
      "5a8b63ce1c6a4b5f8a7e46ad87b45910",
      "ad92b9011c7b4329b9341773db7aaf99",
      "41a88ef49627431180f4d903d581eacc",
      "f99014f6df1d4eeca720510bad19aee1",
      "da74c5268ee345eaaa5e2f4d9ef50baf",
      "8d69e613a56a431aa44e65123bf4148b",
      "bd7543862dc2469794297e4a3acd6baa",
      "98c78bb2088644c8b7abc16e8a9a557a",
      "f9438192dd694c7fade55ccfbcafa804",
      "bc818e2750044f629c92d6c97fd50e26",
      "6907622a8b604d98b9722e63cb34cdbc",
      "0fc60a8ae18749d995ad9d32cf68d450",
      "767ec751b4b7471c875a2e283bfb5ee6",
      "31e84376bff04690851c472cb617f659",
      "6dc64fb98729484d9614f23058405a5b",
      "9d0059b139a4492bbffa26ca784c71d1",
      "47cb746343114b42b1fb1086246511a3",
      "4ec8e8ba1ac04791870efb87bc4a3c3a",
      "68a9a206b3334e07a6c12ddef5cff432",
      "835c9de575754c49be80ecb457220073",
      "00f680ce76c244a19e8f3d3a98ea0da4",
      "2563ca9c2bff40c693fa6491b3699334",
      "c9368cfa63fd4436a597a69cc808a6c4",
      "59745f29222c4050a12da708fa2cac25",
      "5037d30f462c478f836dd311e26c6728",
      "0d623b5e62284882a396f32f9a116934",
      "701c8b85fddd498ab75de3c9499d2e4c",
      "f6c5a6cbdd64425b9ccdf1a8cc53c767",
      "a601ba821f034480b0ae160f904cbcb6",
      "88c3fc38c157434c9d0fd3a2d65e01ed",
      "30575e2ffa534f91922a360706daf2b4",
      "64fc77337fad4ad4a0ce24b52317cfe9",
      "5e082b79c0ea40879c7e094eb0f51c6d",
      "82e8cb7a53ef490e997e7938c40a0d8d",
      "6ccb49feae4c42be9faab398b7b81cd2",
      "83a8fdbb13a14a67aadbecf973e1b626",
      "4f9817fe954b4b47ae50f40592e44cee",
      "3c4b50e497da4d9093535de9ae309660",
      "3b896b35bae44b57bde3ec2f1cf805c2",
      "5131733425f04ed2abb2d186a13e747c",
      "1e7648cc065549a4a96c55c09c41cd43",
      "3e5307166f6c4a16812d00c7537c4ed5",
      "7f58dc5eb5c34e0ea445a7e8a6a1d7ec",
      "79c66e3b1c73414fbbc3c4f84d5b70b4",
      "abc6c8379e0e43c7b1564981313087b8",
      "9f6a8b6d7bbe458492c0de34808898a2",
      "3846e969499d4317a00708b28bc3d2de",
      "c30f13b1e1c14dafaf0bd6de0880892c",
      "1701bbcab5b7488a8e5bcf7579fdf855",
      "0b379358184042acb08cc3e3de8d4003",
      "c1c3407f3a2e46c59791d64b6a716058",
      "78216774d0bb4083be6ebb22317d75ea",
      "8646fcb071784448b88f198c3eba9dfa",
      "8c9011674fb146169079bd13efc18033",
      "3362cea6f681486b893972dca5dad58e",
      "f443eb9c75f24c13903d6ba95c1ed26d",
      "ec243dea15c54950b9f302ea01f49681",
      "b32c2fead5c8496792145b0da97e5b5b",
      "56061e5f3466406e8135615c4e1b0747",
      "084ccdf6a62741acaacf1b6d26cb87e9",
      "1aa47e54734940dd9cb3bb94008c1eb0",
      "142b211b2ed544caaa702b193199970f",
      "5aefd827076f437f8111a0019019ae08",
      "a2b68c896af04670b6124ce552168f4d",
      "18131a0e85f340b1affd0d1c1a15d1b1",
      "38471c0352dd416abd047cab0c09fb3f",
      "b643c17ad647411e8f54aa8272c775f4",
      "afff4a0ab01040a89bc253c5cae8659f",
      "7e2dfe5ccfb24f9aad98cfd54017fb8f",
      "718a3ec7271a40b8b8011d9659a11197",
      "d506ffea19734aa0bffcfceb4855749a",
      "05cd250672fb48d7abbdf54715492060",
      "7a502cae05b74c4e8cf8c08b2df8d694",
      "48ad5d860fb04f3a8450f547bda6be41",
      "b50e04540a17495881939c4741995e48",
      "f0448fb489fc448aa7ff0c5b9ac65825",
      "09419f8a8eb441fd9507de7295a32079",
      "94022abd897a4624971af96029bfbfca",
      "1e6f4d1d336740978005d584228a2f00",
      "5a5cebdc76244808a36f5383595cc4bd",
      "dc15ceb047434a5288678006c04a7638",
      "d060cf16b27249d3b89817f6e4ae16bc",
      "13cc17de6836441387ad124474c86eba",
      "14ac9a6be29f4f67ab56b6a106f67c2b",
      "be6064c7d9cb40e597481f68ce19ef70",
      "1e1af33489a54e2babb463ff3b0debbc",
      "f8e4aadbd4674efd99d135b33a6a71e3",
      "8f85ae90db204afb92b2923b4bf19721",
      "6c105955de2b477faf6a375f7e169d87",
      "def74db6458c40c78928753d34d337a6",
      "0e1ad892efda450986c240bc32c4be08",
      "d3c356bbf80e462a83247b425b128890",
      "65965cb201c74d168e6946cbaed8fa14",
      "f9d994e85b0541f3a0a29e32c50077f8",
      "da1172667dd74272b63f15df7c9b82e0",
      "66aa1d1c007d4624bea4283811595854",
      "3bb1c5fd841742af88a031a1bb53fbdc",
      "ca1c9ff3ad144532828f3f3ef52f3651",
      "df9bee18492c4386a5eea3eeee9d6494",
      "e644b11e94854935a568962943f96978",
      "6ca222d14fd340af854ae5fba0f78b39",
      "75b7761536f340109ef5bd3739b900cc",
      "986d65d4250c422697c9b171ef8f7484",
      "d7b5654ca5d04ed4865306fefd34d50e",
      "e75f7dc744ff42e99c02da96efc67c89",
      "e01bb128089d42a1b3f2df7d5192ca0c",
      "579701954e1645d28e0d677611670376",
      "c78aff5d88f24f1ca51c95bfd001d549",
      "8b0e124b411b46e0a1733272d7e79da1",
      "ad0870f50f084ef092cb6c48eed014e6",
      "4443d512a7024b9aacc007d4771693a4",
      "e5664ea434274beb87abc23515acb6a9",
      "fe207eff63d94e7cb8605fbb9e4cf8e9",
      "bd3e9427d4004efd8ff3fcb4869a859d",
      "cf0e73b8d83943e9ad30e132e81001dc",
      "468dd8c894eb45ed88015b196f0a34f1",
      "e58347ab88e54afd9ef5b08235dff60f",
      "eb9c9d9bb5a0461d91442372d3df6749",
      "e3a6347ad13f4198a314fc517d87f336",
      "ad28f07a23194b59a2bb57f9b0a0afb5",
      "2da7ca8984c042f4823ab5d8e736dcb9",
      "16f01a7dfa084eebbc40414caced0feb",
      "30557f4a73c84105b05ed017fe263311",
      "bd06b2d1994a4476a710feb93d0d6c7c",
      "35208fbcbb7c4cd89805ca0f1b968d61",
      "a19b1eef059b4d0eba24928c94a91faa",
      "a849c17cfecd4d06b8859519374fed36",
      "d57370063b5948f791cf7c9fafa7f000",
      "f4611e6b08e54ab1890fb44e8396951f",
      "773abdfe100a4409975abe5363375ede",
      "83bdfdbea6ff49a89e2afa63829b893e",
      "11bb6e9ea62c42d7953c9f4f554a38d8",
      "48406c440e4948a1b46b371929933402",
      "a970038d527343b3a3842f91919d8ec9",
      "bbe6622a2e49473f894ae4d6b3d5ca80",
      "de105d8c208e43d5a8c97ce90ebc1a09",
      "c54b0f5016b7435cbcef5d4b910ccff7",
      "3cfff7bbc5344e4eb90b5c3c029f0767",
      "d62cb5fd20734127b588d2535e1c0231",
      "2df2c4dcbc094d6d8d5d489ef9a1c1c7",
      "be22accd92804f728667a09772056d2d",
      "4b2a8b362e2d4b119dd21bcbb7fd94e1",
      "e3ac52ef0a89484b80d3611c9bc66301",
      "19f21d191fd2413e9cd5d7b7f8a05af3",
      "83abd79215274f44a607a8cdc7aecffa",
      "94a2257680974edf91194197373a7fa5",
      "2b6d81c7fb2347a7b6d7222af25632f7",
      "1edd12e79baa4d5da46322779b4a7250",
      "36137e6da2d346e6a136735e45297656",
      "8aa39232d99c47fda57d85c5febcaeed",
      "171c8fd55c594e478d3fe224fa306b54",
      "7d2fd532c1fd4b1399fceff7b6e77010",
      "e7695df8cd30419a8c1a951928739d10",
      "f733509f54d440f6ae17cb9aa56e9719",
      "468984e2ec6c45c2a739d59d44560822",
      "cc2ed17394f4483ab0cfc719b3f333e0",
      "37ced904f8c8422da40c25a7dce9d3e3",
      "92c80fd78f6e42319b8017bae0c34071",
      "458884493ae449839b9e3a1b53b546d4",
      "06aec04881e3422a887209be84349344",
      "6d12e590daad464dbd9d0fbb7ac73186",
      "33a3bdd57a204da0854a6c0548aeee5c",
      "16d550e7bd584ca68c9b62a338094291",
      "ef23b315ab5f4907bdffa122a9f76e63",
      "ed1e523fdb454028985a66ecbc70a0ef",
      "2093fa10dbe74edd93a806c6489421ce",
      "72a86dcff68241f784ea28ef465f4f6f",
      "0cc6a0b828c04a2b9011ff4a2c24eadf",
      "532a861a1b684888bd394f28a18a0049",
      "3584b7f0f1f449edb7bb0a88667262e7",
      "66a1c6a8e36247b08b1bbf183c26910c",
      "d3e49688179d44a6a55d2d485b831931",
      "118ac23d79f141d4bdaa8b3c9810fc46",
      "976f9833eae14073b7e4f841dd93a663",
      "90f71959e28a451eb3c7a46e52493b67",
      "de0c5b25b5b84ecbaa046cb8a28557cf",
      "766d555c50c241698f8e37db6b2bc601",
      "03d7fc8b9ccc4cd2bc2b66c4b101315d",
      "4681a788ff8b4e16abc44b2b2f96d524",
      "02f1c0f195814f7fb77ce48d9269bd94",
      "92b0df18cf3b405b90567ee2959bde3c",
      "f97a1a4e9a5b4ab5bf86b34b9b19b1f1",
      "fc9456cb7fb548e887eec9209f9e9c97",
      "8294e29d2f634712b0296f15d5a4a40d",
      "6442042bdec84da5af2a70be3ecbc7e8",
      "d1e1bca0921f4453a86253d4325ed084",
      "e6606a78ee6f4ec9ab4549125a5db3ad",
      "7e0821c005f146ce890a6b805e658ae6",
      "4446aecbf1c343b0a4f2d569918e6b61",
      "2aee68db630645c583832481aa4a5131",
      "9baf965551c0405fb9032462e93d12cc",
      "bb5a7f02fd054b0a9a455f22c9c43c59",
      "feb9714d8d5847258daa9df589919860",
      "83909c10b9914cf884b6cc0fb75b6ff9",
      "9b4de30870a946818fec3c1394d1392b",
      "a1b0c50037474ce281d4959d7b761f22",
      "516f9821c70740599a31f996cba5d2d3",
      "8108ea3e1d0f481a8cee9a1ee357b0a1",
      "af759fc746414135912f8fdc47e49fa2",
      "68436c0a6ded47e0b431908f5c7c95aa",
      "44a6a92b06df4dbc8704015a96087d68",
      "8d9609bfac554ffeb59c03456a329c54",
      "ceb550740c1d49eb88ccce91de8a01d9",
      "8f0fc9818e5746f48859c8b38f39d40a",
      "88a9ab0b0389493d86d4f01cefbb0c7e",
      "fc3ebc6a95d142ac94c4a75166d95efd",
      "19d10eac340040e598c21a7516df9398",
      "8d2f22d142be472ba1e3b66534f7b606",
      "b5ae3257facf4cca933c9415036a9439",
      "9483a95209ed47bdaadebf37631cc1fd",
      "68fefe705ae4402faf2ef34e32e3f65c",
      "2011cbd5301443ad9f7fcfef4182b3e8",
      "ae9682a9f16e4a0e9d408f4f25fa7c4e",
      "8075cf3187814a62942fc3e0e6de47df",
      "2de19e541fec4cd68533557499c554d0",
      "2621e619ba494fdf80d79b6df64eb9e3",
      "2dd0c93810254cf694815292438564b1",
      "439b6b6a40dd4b1d8d0c925afa78665e",
      "6e1046a3307a46d184440116129aac9b",
      "a2cb785555c94d289c6d69e9f4dd6e67",
      "9c2dce8c89264d26a4ea252a0f54c794",
      "bebac938a4104f3eaf4002c9269c7f2c",
      "5a343e2aea5d4fc6aa94a3094d2f1231",
      "a3521c79109748a394d6db4861c2f47b",
      "d996e6a42cb94c58be01113d420480b1",
      "547507dc479b4506b06d556b7bb3040b",
      "81b5053825de407ab6e36ccb5b68f626",
      "de73ed46d2e247329ccaf2e67c18357d",
      "8f0c10e6c8b5456383dcf0fff3959317",
      "ee489f3f12404520ad250c8b207fd30c",
      "a7437954409d4a3c9492dcf0425f7c68",
      "9fbc105c0c604bd8a32a3874a5cb8f6e",
      "8d5b8445e51e4700b433a13800f209d2",
      "8d8ff4423a904998aa27a3abede547e4",
      "225ccc921d464b5d85ad734ce939d0b4",
      "cfdfe0c8fe1d42b6b02f7c245d8c8006",
      "13fd6e14eafa4469959f61e74dada9d6",
      "c1d03a4c7b3d4d3e88238a0a38a84876",
      "349a221f7f6841c3a6fa357dd1ff5d9b",
      "fc7f9c0d8bc8481cbc8eb57bcc405a2b",
      "da9fb267063e42acb424bf02a1dfbb28",
      "a3df7a96e0644dcf9523bc25001f73fd",
      "0cd12892b30c49d0b663cd4fadabc0dc",
      "7baf7d6c05b2452da55ccc15b9741dda",
      "4b69018d148d446293762d47cda49058",
      "0458c3e119c841bd84bf0766162637ae",
      "ec2f156d7e85429d82981857c409475d",
      "667660197dea458bbc1903534935e607",
      "302dc9156b8040cab031fc582302eb9e",
      "b60aa89bfebd4b4eba8782e306391554",
      "d8ff38a7eb9547589c48a05ac32080a3",
      "b2266e4b298c4922b806ed9e750b5de2",
      "822f60d2669d424bb83e443cfd43be0d",
      "e855f1ce84a14b2699afd74739f74f05",
      "839a9e3604164994bba8855a864292a4",
      "d21733f7a9e3467da6653421ff89ae99",
      "fb2103401dbe4c3ebaebdf6650457fb3",
      "cd362027a3d942218defab8df9d733b3",
      "1ed92970603d40768123a44c35033b43",
      "557da1d0347d45fba064230f9ca622b0",
      "1a3e821262894a258e36e2be901c333c",
      "bedf9c560481486fae4e56c8d5e43629",
      "3d552148e2ba473086bc0a68018ddd6b",
      "d3f1c4174a18469d9c94c1b9a3c6ed4b",
      "1de331dd9edb48d09886b8de01479322",
      "bf6e1560e2554025a8109cce5a8338ba",
      "b6a3ba4855dd4e74b1ab8f306c6e9ee1",
      "2f6cd64b07cb453aa8255d53c7251625",
      "81fc78cb7ef54ec5ab7bf741cfd19c0c",
      "caba31e6529949c5ad9900712bfdc36b",
      "a01037e20dda462cbefe9348768e835b",
      "c6fe187f9b0b4f57a58ca455ed8dac41",
      "c7f11a46691c417db1a79d8991334caf",
      "aef853ab3de246478d6b1a2fbaaf56f0",
      "898cc0f97ea34ecb984a5d4525ae28cd",
      "9de22896e6e44ab69c49d53b9124c264",
      "d9754fd2fbf44b0f9f6c017e89156d3a",
      "a2134f51345e405da7c5b4dddf0a7814",
      "280f59c3583545c3970f17688f464a45",
      "02c64886490d4469a7fa31ffd82544aa",
      "0fcdf6e36e4d4abe9dd43f3d92f4fd25",
      "992558e034034155b05ac37e6c42daf5",
      "7027db8db7da48498313e897774c96a6",
      "cb414f5e59d34641915c743a53395cc1",
      "191cf46ba9874e8294c9288d92c8c847",
      "bc53ea03c943402eb19d560a4065617e",
      "6f8821c0f3fa4b33ac367d858e05d792",
      "210bdba5870549f8897565d13a98b602",
      "65a1eedefbe9488ca6fcd8bf6cf0de23",
      "e7f992fbc1224eed834b39ed58311e57",
      "69c737c6fa6e4ec4876771e7f0a8a71d",
      "5634f6d91b6749bead7be01bdcaee53d",
      "33b7db7d2cc74750b99efb09ed33bb2f",
      "21cc02e233224a5798d92a8d948245f9",
      "9ce4e94cfda8414ebe3334cb111926b6",
      "13c83fd14ebe442783f1dc3abd27ae69",
      "d8c4474ea98f434ca78349fc3adfd0e6",
      "9606222de2654209ae527a747ab2d16d",
      "52728fda0e534b9595c5de7c17973834",
      "1571397809e6479aae4b2f8a93c02cba",
      "354d37f75b534ff5988ad5532573ee75",
      "af1d6e1bd29441a1a46283cdd0266174",
      "8eaf3cf14a624e86aa4c4c1afd5637c1",
      "96b3d2926e9e4de68825bc94bf4076d6",
      "f6fee29c3df44f6f93be1ce2beb5e109",
      "39420eb5f09e4a5495dd8de801b33b7e",
      "5473c4fe77a94cb4a5ccefab9e7eb706",
      "659acf6fd788459aaadf891ba8b5f7b9",
      "6014494644644df9912386a3045795c6",
      "51c497e7be9542c5b982fefed97b288c",
      "c1c7831781214fc5abcc9caa4d4e187b",
      "8d20f7474266453292362376efbe2855",
      "338c3aaa65cd4942882a550512b3bef8",
      "b7ba5a9cb9ed4f48891b483813e966d0",
      "2279fb3f72cd4732ac2cca61f855f20f",
      "df7161e070f44fd398be43e4399767c5",
      "bbaced03b55a42f089e2fc57e8fabc56",
      "676adb82b397477b800e9fcfcfce0699",
      "c8c0c52ef8114abda896df825c5e0cf1",
      "cc6d9b4dcade400fad14b032635803f1",
      "efb3821e1d0d4aa3ab5132cd679894e5",
      "a7a54793d0fd46758a43ff7373787948",
      "5cd6b8bd6257425ba0415b0f74239b2b",
      "74013e1a19544bbbb47bacbab18710b3",
      "dc1f134a1e9845bf9ed783b41ac0a283",
      "9b0d540f1c3f4874a50f3fde92ccfa03",
      "d6c30b92e11b4ccda4075c9f14445bc3",
      "1e53a3b9c7e64720944cb1abf2fb15bb",
      "f9310abb7cfa4e7b809c781e4b11c301",
      "a8968486ba16476ea891a6bc291fddfd",
      "c63c0ba12edd4b969d56904b2fd3bc86",
      "b4a44358d78149ac9c7fd269e70ad268",
      "426f9534558046928a04e13b8041544e",
      "8d778516c5a749e199d302af61601189",
      "4f5726719a70478298a287da88372c5e",
      "08fd14ee8c9a48ca9f4726d8979886ff",
      "2f29417f9a0848a38068fdcff974aa5c",
      "d5512a4b4c0249dba9e3dbc76b09a514",
      "623a346859754293a4a91d4649a11cfc",
      "a0d1b38cd1274ebeb3b750b2e8f70680",
      "1eee67380b634e98b457d6abce76ff57",
      "ac703dd39c6d4e98993610d05092f6c6",
      "de54f4747e75438f8c2e909a15550e9a",
      "90cfebaf919e4f2fa921cb7eace321d7",
      "b7fefa218bb94dd988cbe46734082530",
      "6249a550f3194093b4e6550d1d84694b",
      "50b8a242888f4095a132fc5b7f4be88e",
      "70d5dd9b210d4a889d3a08a4e41b8bee",
      "75659b43f204458cb1acfdcc2a87d069",
      "b0f15886d9a64e679499e4e2295c582b",
      "40f306b896ed43cdb2fca37554898310",
      "b472308f90724a319e112d9dc470689f",
      "155b1eb34f4d411aa7df6b887e9a4392",
      "b17fc4cd05cf418298a540a4b61e8d3b",
      "a38ad95f7be648fba6936418189f4440",
      "2cfc80ae6adb4981a88c23b3e2e9f466",
      "e4eaeb6d05fe4d58bba367337ead75d1",
      "a920030351fb437c8d3ad8ded84caaca",
      "936be5570af943a8ade3973363b04b17",
      "6b52941f4d754db3a76fa7b9980ba9bb",
      "de16b4e48d9e48ba9ad56b3264672626",
      "c6b959e8a4644449ae197b3ce2f2c177",
      "242bcdaed6074ae98b320f297f1be981",
      "7d8c076f537a40fa85694e890403c3e4",
      "3dc60dd0576c41349b63cf286361fac5",
      "d3d3ee00b3a745e6adb77559cff708e7",
      "9f4ba79bc92e4409b3074f8f77bed3d1",
      "32081b68181f441ca16e9dd26283bd7e",
      "54756f7aba9d4154804838e1292da7e5",
      "98275d2af39c4d38a4006a848b57bbb9",
      "3f5aaaba69ea4423b22b8f92f3dedd19",
      "af568b04e719414dacdac51170ee885b",
      "7e12d3cdfadc49a3bd8a43f6a032ad1f",
      "f2ba9692c7874878acdb1fc3a968bc92",
      "a7881d058cf14ae287c8f2d0f54fd532",
      "08baa72915d94fceaaee94cb3846920c",
      "7a8ac280b32e42eb9f9180f106580f73",
      "962411f89a7b43b599da003c383c8636",
      "07901e77b206422a968dfd310fedaace",
      "b6012d472c934681bf454fe47300e110",
      "ac2c68875efe48d0a6dfd92298e606bc",
      "3417b961547a408a8fbee7f185e7e16f",
      "b068c956837f416bbf65b7105b53740c",
      "e05c4c278cb24aa3bbf26ac39fc11427",
      "c1583a6b68cd4078b063268bddd3c527",
      "cbe658096a63450bb296f6ed2a3274b8",
      "1d65e7bf1a4f4e68960eec425fac883e",
      "3be5d5d4f54b45b6ba309edec93a05ff",
      "b6e3abc803fc44e292a32cc6a3920471",
      "dcbed00f61b74a46ad69f7a70f05af08",
      "88755c0e08464a3f86b1596bbf9863ba",
      "edf5cb57b4eb46b3ae0f5630e0ab3b8e",
      "f73b124fea4c4694b7849a43c9cb92b7",
      "09a3f77874124870b100cc5d3786db6a",
      "28e5a49532d84fe4b8f666153a4df865",
      "797f5a2f3f514f87a7213e24a4e6943f",
      "d215f99f4be94a5ab287ef00d0337fb9",
      "614d278e63b04604b05068c141c13d84",
      "a5165f1b80d845d5b2dd408437dfebb5",
      "2c85f7692cac4007b77f2fe66ba3c095",
      "47c5c34bb70f4423bceb00766b1cbefe",
      "15c988baaaab4aa7a87fa6b35a0a8713",
      "1d4eb1705adc4cdd99d4785ad86834e7",
      "d51f4b3c26104965a3c4a0e7279dc764",
      "bade891079b743cfacdaaecf36faea27",
      "455c87ac3f1f49c794f70f9d1b7036cf",
      "fe6b3f54f5c145609e3c8266fb820c15",
      "c9c80cf9b5cf4dd5842a156cc6abdedd",
      "594399c0caae4d2e90b80e69c0a736ed",
      "2ee2007bf4b7481a8bed3316490506e9",
      "ea36bdb68a954c379759f3bc9ae1dd12",
      "13dbfd1779574d9eae26543ed8aedda4",
      "3262eb2cc6054d39bf847fa9eaa1fee8",
      "24f334285e30460099cce29b35d2eaa0",
      "d4756fcbd4de481d8392fe6a78b06ea1",
      "c7b62b149d99418687fded65a7596e2f",
      "178d2ba4dcf249dcb3fc4df6c1f9e049",
      "1ae5eb716028499ba040fa05e1e02e01",
      "072c4c1a187e416f8cfe68d620b3371e",
      "4348b089013d42d598cdb3603b6cf36c",
      "7fdc4d24c16b433696183a4103d9b60b",
      "32c23e8ff56a4ee7aa6d7362c3580f95",
      "8bcb7b94c5414c4ebc4021d0fb5ccbdd",
      "a1b370726a0a4ea9a7b97724e6934cc0",
      "9b3248a0b3f848a1a18fd83585f192e5",
      "1061f13b9dcc4d1ab995a0778a6ae8fe",
      "d16c1447e97d459fab75af36bb997dd7",
      "61399cb4c09c4bbe89bfa06b377e53a0",
      "3aad453b63af4b9981a9667cacead6e8",
      "d97c14a5956b49a9a12eacc01d5ae1fb",
      "d835ba2e339743d2b7639bed96ae4b50",
      "0cb980ef7f9646248fe11709833b30cd",
      "68ee92532ad742cf9a14c964b1326daf",
      "c7f56b8099ed4f7d8f7d03964e13dc28",
      "35cec00c4a8b400d921a5531db0d2edb",
      "433c29648785487c9539c286ba8c5699",
      "7f62a366110849d48eb444e9be20f909",
      "504fd07a6d9941159704333765ae92e2",
      "94ec227a05854283849c04bd030878bf",
      "c332a98c59b44170b3b852d3a66e5850",
      "55471bc904c64a918af19cc79e6c1423",
      "d78bde0ef8824e8aa9628aaf0191c804",
      "393839d5bc114ff7be0f4855b97199e2",
      "296eda102edd449f80925b3849acdaaf",
      "1234d1044ad346399ac305ce6b5d895e",
      "329980b42b154f3bb6483d2145790f67",
      "ff014d47949545feadf29b6b18b2941d",
      "ceea6dac96744090b406553b74494274",
      "20d3a0c965c64caea02f73e459e0d9c5",
      "274506e1e3e04d7ebf63eff551de810f",
      "afcf17810b4b4b8b956af989a29e34ba",
      "7b9e6001c0eb4774944e4b741471642f",
      "92eb4aaeb4bf4ec8ae16c769f8e92e5b",
      "e5d20e046b474ff5a442c700df2ce63f",
      "382cc33fbb3540f396c718c5826e6840",
      "909134d325be4d1e9e49e186b72fb5c8",
      "117a5c598289461ca45999a19fdf7f51",
      "022366d428d346cba90f99a1476e3ed6",
      "4e5c5efcdee84297ac9dc791e8d96886",
      "d6a9f6f1e7e548e6b5d59ac7f3c5f498",
      "1637745998a24275b744e6ea87c9cebc",
      "31593dfa73db4f13b5d2adf20263daf4",
      "6f6c900cc33d4b5c8c79a10343e0fbbe",
      "c8aabcd160e84902b209a5eb72f93371",
      "c85420e2604c46f18cce168cda9512e2",
      "c752048ba96f4a08aaeff095bd409121",
      "46c861135dc9450e8e43abf69ef9b74d",
      "1752dcd12bab472ab4cc540c13b90394",
      "b04556a93a3c478e972e6e4cd030032f",
      "578e4f7582594c878f21bf90189e45e5",
      "3597ea508aeb41368e4880c3b0ebd223",
      "d17cdcc3288f4b049e49214b6885c285",
      "b21eb8e7dcd54624aae8f7319dc5ec95",
      "68cac13923bc43b7a64a2c2c9fdfe47d",
      "db49bf2d18144043a03732b522af5802",
      "eae877e84fb44075905c377a7a4f6650",
      "3df929575cc74cde881be9433e71c3e8",
      "5b6f6c2bf7ea403fa632a4778c0f16e3",
      "aa734e0199f04bea804acca41adfa84b",
      "9e8b596309724628b5c46854f1bc445e",
      "ae8bea9005d246e496cab0803fd1ed40",
      "cddc99eedcee45798f0a121f1e889013",
      "c1e3e3f8f59f44fb8094512d85b32402",
      "4fd43d6a8c1744829ca2d30953debc3a",
      "d7d201bec0c540abbdf191cb06739b9c",
      "9c659b1df8864b57acd3b9d3ba691155",
      "83dfc0c81aed4adb923b4b7e09fffc2a",
      "0f81524b42004e8eb8c50ed2bef6c8df",
      "5370a1afca4749cfa96f04fc8433a7d5",
      "821b35367e504600b7aa55b6d5b9c023",
      "96dd2cad3ce34aeaa5c67525b975cbb1",
      "aba466fb15d4437a80b902f33fc0e5d2",
      "462d60eb879f4ccfaf04156a5ed2232b",
      "539d2f4733504025a01e389adde3225b",
      "d3dff7c74ccd466f9cdae9bd86f938e7",
      "e0bc29d0f6d6401fac703c933a31e142",
      "d7e7ba99a7334c419b434c83dad068e3",
      "a99e51de11464d7ba06b28a0e89f44fa",
      "9ac7cba1097b41c997825c15eabd5aa6",
      "2952d7eea2db4565be3f3a7441ae75c3",
      "766712f88aa947ddb21ee5d3acc1e02d",
      "0f60197d7e9043e79f0662955dea5a22",
      "d506cfbab7954f2b8a423972ccafce23",
      "1127f5cf5e4b44328a35203a5fe76f56",
      "fdba5af0e5df44fd80eeac396159b0b8",
      "0c4ba9b063a24f5489564c6948999b9b",
      "55e1dcf1b1bf4c70b205017a1e57605d",
      "509f34beca1b4bf9984079d92b6bfbd2",
      "35edd90f645041d187651fdfaf4d0827",
      "2ed7f32358d04afda9b4ddb4895270cc",
      "011767a184ff4a219c58f96c81319b5e",
      "3de3744e12554e1fb4a143eac2a2d69c",
      "0cdb489ce2c6482b84b769c0266a953d",
      "8f86aef5393b45238534e5da162f7843",
      "d91f3fcff52d414290bf5c4ca755b67b",
      "ad0862b5a06b4feaa955d55e7f67a0c2",
      "c24dc7b12a704a8dbed5b5d5e1895107",
      "286c8660d1c54e918c7d0ac9723d3f62",
      "61f8b30b74a04e5ea126e1bafff1c968",
      "a7b2f97959724d06882fa290e4d7736d",
      "6a7f1535d894465daf929d2b1d293bb1",
      "31779fc47e8f4848b0dbb87f90d7ef35",
      "a573d48bbff348ac85c0d23518b15bff",
      "981ddabbc80142118c8c406926e0a780",
      "815a563ad94c4a93a07bd3647083c0c6",
      "ca066e5c8b96421f8a135a08f1d80ab8",
      "4ae4070336a747618825800349bb3ae4",
      "4b5fa06a3b544abeb586c787af6e347c",
      "03a1472b9d4d4242841a56ae27e44777",
      "74f1568c7aac492c8e08b4aeaf42c716",
      "f82b3ec6395b49faac3a379a671d8983",
      "659b49fbf0df4e82b8b954717623c254",
      "266cfd55d1a4428cb93827bd3fc9be43",
      "66cac2486a244af8a92f456bb6270e50",
      "3ff98f4d6bf24fbfbc03d4aec0f0068e",
      "05cccc4c4ea74fd1be7bb1e12e35c3b7",
      "a032cce98b9c4389af91284e197e6ae8",
      "99c0c8c244984984912f519005b190dd",
      "a1d9e562c3c2442cb4380343321118f4",
      "7bc66f6474034afa9d0ebfaf4cbc8860",
      "697036f5dd2947d48627bd244741ab66",
      "37e61b8f4fa542e48f596548a8e52e0b",
      "b1f530aac2b8428589df6b861a971fa2",
      "e2a1f11f7e0c4ac7bb418604f27ad452",
      "b0feaaaf8f7247bd9022c1e44c0c7f4c",
      "11f601fe73e84718bbffcdd5c963d43e",
      "6826a6a0f1864583a7de57ff98670306",
      "22d7a2623f894e9b99729d0b1a805f40",
      "f2cfa89dd4374a94b512fe2b700e8edf",
      "f0798585cd6d4179a68deb723e925b20",
      "f3de1ec0b8bd473d823bd80670b289a7",
      "bb6f6bff0f004a3a9d0c584890f237c0",
      "a4abd589e95848e1bea7b4f5b45ab28c",
      "c2575bf6db6b46eea3aa2b651b400705",
      "afac0bfdb0a94e04afcf668ab3052708",
      "19c59b7378c1480bbbb39003a6dfc75f",
      "e30af2e6ad41403088e28ebb052af158",
      "3f9d556b7f314453b9ee75cce18b171a",
      "c6cd37f06855469aa22dd8f45a113425",
      "6c5e3fdac0974fa496c18e5dfd2aa389",
      "ffe89af7779a49f8a16ea13830837918",
      "453515d89fbb464aa63c9f52daf860fb",
      "e61483acdef14fda80cba2b2f0742c3f",
      "b2c2798f123e434b894782a9536ddca5",
      "1627467e15ef4d3d9ee33fe42ba2bb5a",
      "21a1c3925fe6457784d25c28d2079e59",
      "f188d016ea2a413e976c4bf203ceecc9",
      "9803187c5d7d41fd9fd9d97d5269c7a9",
      "e0a43e9c57fa4c5ab963f1b6c306edf8",
      "fb428aaf860a4eb6bf87d4768f37e937",
      "172dba6af38b4d6a94f51a92afdaf37c",
      "0c16e651bb78422d87d178bcb124fa94",
      "a2b6a64860ae41bfa4a3f7671e6cbffb",
      "54520f74935448e084e006aff8411dde",
      "38ad40baaca54af09c2ba22c85e710c6",
      "1bc185e29b444d4586de6229a6842d1e",
      "76fbfaf68d0543388639ed9902e6c98e",
      "2c05dee68c9747b0845e27a63f13415f",
      "ba8b8cbfd0b94f919ccd6ab2a668e4ce",
      "9f08cb4231704d71a0bb3156392726e4",
      "cdc9e37173e7419c9ebd5cdedadd87eb",
      "8580ca331a5f45f48c52daf820129b66",
      "da9ce313b504449bb68cef74650baab7",
      "14d64c5f031c44708dd98e8710cbd1d4",
      "69fc30d3bb7d4a7ca02dae0a51a534b1",
      "21115f92c5e04254a73644b8dcd415f0",
      "0a06cd66fab8448c80e45f1a0d5c79c8",
      "ec0560eab9e24e8687a67efe3a4e07d5",
      "7063cc70afa4450caa01e81ea1f973c9",
      "5451623e15944a38be29bf2843fb4e23",
      "d75ed8d5b60a4cccbd800d4235cb2409",
      "6daca938339847299b923459841a2ed4",
      "a36a1fb6c22a41aca05173671bc67b40",
      "89974a52b4044ccbbd33b66c2ef0b544",
      "a70bbf077f624f3ba937f6bbc7018bc6",
      "1ccd1dcc454d446aa26fd9089f4ccf6d",
      "bbf1635d0ad9489a84512eb9b82bd1ca",
      "3efc7f523a364e68b8d547c2e75454cd",
      "ae2c7a82d540468893ef3862d41b4344",
      "ad83989a80fb40e69770725ca3755269",
      "a1a54d50e1674a168fe0212b03370edb",
      "da2920c7cce843a88d8f9e363b2d2f0f",
      "7ed3dd7f24fc4e7ab9873f03976fa54e",
      "672c64458e6e47ceae5cdda452fba3f9",
      "abf4d770184b44b997186487db799327",
      "eef6a0bc07664685b71b18661229c9b7",
      "42b5d530c8ff41528fcac6beaf77a7a9",
      "0d91295c262f4029b40f9eb2419d68ca",
      "97bd4dd1ca8c4ddcbd4d470d10b57e4f",
      "0231030fe5be4129b49dc96b37c4b942",
      "d9d3899c8ca24b7d8235e947c64ee558",
      "53b8f7f22474458fb0bf01c303bd142b",
      "9b75076c6e4f41a6b31844fe26fdeac6",
      "cac6bef10ea34a38b04dae82d445a6dc",
      "af37c0caa243488cb3513d59d6b5c9db",
      "c60a5eea1c0549918d7c959e85ec5121",
      "afe178159c674183b36635994fd587fd",
      "bd298192492d443b8d414d6a3cdcbe32",
      "d223219cceee40e4ac4a33468bd6f872",
      "b87da1b0d0ff4b6d9ac077163e52887f",
      "d21f810101b64fadaba1d1a6199d9cb8",
      "20f78a1717ce43a58fcf80a4df75e409",
      "40d4247f979741de88ff78cb4d5148ca",
      "5635faaebdb6476c8e1798792b56f87d",
      "66a8895c72ca4d6aba32b96de7ebc6c2",
      "ff89264b76f64cf5924330fdd2ced88d",
      "f17d38e84a4f40a4ac60f90308c9252d",
      "c3de21a932744e788db347b0962c43c3",
      "762602a7823e4d868857ba31d52dacb1",
      "9ccef0fb6a1f4ef0be5bc6cf349227d6",
      "28c98faf54e2421fabb437dd9f79f444",
      "c9642ddbf0a54d13b6438d344b34f920",
      "6f776659249d47ddb6dbcc0c030213e2",
      "e0d38491a0364bdd9cf573f1a1d5be29",
      "e423403acab64c3899042224d0ddb52a",
      "5e878dbc352e40318f089cec7b8c13e2",
      "16b2675d6baf44ec8056119ad0804af8",
      "6499863cd75d4d57b202f1270439983d",
      "287f1ffa7bcd44ce8775cb5da2ce4697",
      "3d837bac740d4aea9e0aef534b063b0e",
      "c01e014e8a1044c39c5538a0d65ad272",
      "a188f734233d470fadd1fd1b754cda22",
      "1bb6126476a1499d8d59e4c514fcf9c3",
      "b57db9b5c231440d84a17660665c3274",
      "9425cf1b74394e9295190c59734e787c",
      "b86f1862bcbb4b12bdbfa18a31036ec0",
      "9be07f0ae0344b7590398af06465de7a",
      "8a6aa33ddc7a4b66a969ce39793b2784",
      "5f5c1a340c8f4841aa9592d5fa52b9b4",
      "53c289655ab84572be95adbdf5a19266",
      "a071902d258f4460adc63156c3393b58",
      "1b3bd2bfaefd4d9381738d47b5e9e1e5",
      "2ee48b114fb34aa2bb294d959af7237d",
      "acb2ab16ff064958a8c5f4dbe5486745",
      "34b314a940d7420daf75134596cf6c91",
      "a0414dc8b661464db3ffbc2021fa8308",
      "33507e9e58dc4f91b5f1b97aa8f5825a",
      "33f8a7366593449fa42d3d5ee2c46037",
      "d3a6d898b78a4d679875a4bfd2d8f01c",
      "557e5ad35e094e86a3b9119e736573c0",
      "ba90b95b0d434b05a2bf9568fc4b7a79",
      "7f4ecaae5e984775a2c710117d07160d",
      "3d4ab0a928f74738b579f1881494170e",
      "61259e8a359f4943902da9470a6cd89c",
      "24bd826dfc6c49bfafd51397a23daf2a",
      "b03170fc0c9a4a50b7bd7abe434ba3f1",
      "e076e4aad0a348cbb67dc95618e6d8f6",
      "2dd703940b704f21a3f3ec157d948625",
      "5a84cbf0a7a9422db8458f4633e34437",
      "3112012b3bf3471e9f20dfa361872ce7",
      "633d138e02144c3780ba6386c28e84e3",
      "4ff7f2941e64463fad27769f20c577be",
      "ad3d4d7cb42f45719ea3582477190b6f",
      "67cca82e74bc440292a19098d2024f92",
      "8dffa52f54514ca79d8630b540e0f1c1",
      "e41c8ab3341245499e720057b5366527",
      "84b3d6615c0d412faefbf435ea0cce25",
      "de0d2c745b91492ca139d457ebc43e62",
      "e079bf3017c34b2cbe9c873ca19ae9bf",
      "74af055f63384418b3f4be7b947b4544",
      "7086ed8565c245468d9945b94cacbb5a",
      "55e4d7144d66462fb97bdbfb1aa70bd4",
      "8cee5f1e0dac42e5b3a2339c3e729f09",
      "b9668d2fedce4a9498d459dd0b1e6575",
      "4056c14634c64d70b8610b1def810c13",
      "5b410d7e4b1c4cc680dd951c9e2548bc",
      "4e4cd75cf3a246ee9d04ae394521ef81",
      "9c72a516959d4ac78f0163dc47314f37",
      "e3667b59f51f4d219cb396f07515cacd",
      "975f5f66d519482582a24f34840b42b4",
      "53a28e1b353643d7acc117aa906b5124",
      "d8db7d730ec0426a863f7b31c535bca7",
      "34138718975c489da6401499f7c9024a",
      "c6c3d7a1cda94678b94b732063a1df60",
      "2ec7120c87664adb8f279404d189cc3d",
      "0962cc21cb354552943aadb769e03858",
      "76c9e13bc555468181607ad822619332",
      "b85fcca502094f27b92332bbe7efc378",
      "e4250c09fc114e9ca5c8e3d22c26983e",
      "b047001f2d7f4e528564902106f88772",
      "6f836fcaf36348e3854851f2d60ee912",
      "a39d11b23c0e4d089019abe3c6717838",
      "0f583a3313ae49fb97d175cf34661862",
      "086f799242304a0584cd8b093369fdc9",
      "9cc32d07da154730acf703b32b25ab2b",
      "c854931d3c354c229ad369a4d65eeb23",
      "1ab9a405101749128fe214cf0cb22824",
      "5b40e8fd07d84c6d90ee3a24d2ced821",
      "05237438f2044698855b54ff23c505f9",
      "7ea589913ae4459eb1552a7e72f600af",
      "81921169842e41a5a7d79900fd03f9c0",
      "c8e98969707340398ef1453dbd7f8a7c",
      "3cb1587e731945e3b608d373874e6bcf",
      "179150cd7565478a92a21718f65d88f6",
      "2e4748af1cd24be38f66e364613bda4c",
      "a371c276dcd14e618d65f9cb7a3a4020",
      "1ed7adbe3dfb4007a3be71a7fe2a6dc5",
      "e70c97fb614748268a5c44f3204a4dcb",
      "1c73ca8f6d474718b3bab5800042bffc",
      "4053699c43a046ccad20a2e63a4e8268",
      "f80e901a0240427a8d0ff1eadaa1fad1",
      "b252feaf58524fdf8a8e7ee5caf90f92",
      "eaa6b4aee6cf45a4807d1dd6c4640d69",
      "41d85f64ce7d4ca0a97d53e930909bf9",
      "4f61f56e234142b08c13b8573e638531",
      "e8c83a7ac1fa4aeaaa0565cecb029228",
      "377be4ae195a4d4e9b8edcfab5409a29",
      "4b19f984e9164d61a271eef7c6c26cdc",
      "b4d20f2359344dad84b7783bfb3887c8",
      "ff0531e0edff4a1592a8f5eee27c315b",
      "3a0fcd7f5ffd4c9481c9c6cd8b273b3c",
      "3bdae72ba676421dab69d24dbfc5b716",
      "db7e3e3880904db1ae69afc5a5830c14",
      "80a614b5198a420e9d20dc041f9f9180",
      "4008fcd77b4f4632870883ff9c85d90f",
      "38df42733db34262be1ea3280b561741",
      "6f80704f481649e3b58422e6aaf3d7ec",
      "d6b62b6a2fe54721a5240fef726dfe8f",
      "6e346f6238c64d2aaee11c0f7bbb35f5",
      "d91240ed6fc44281942ab5ab8ad6aeb7",
      "56639739232542689a667b65800baa74",
      "2b0b16109ae34da081c78d015f699952",
      "12b3d7faf255444e87d11843558209a7",
      "dbd21948e99c4cf8b9423e7fd05010fd",
      "38bacf42c3e446518d03e4f3a116795b",
      "0981375f853d48888a1066d4183f63a2",
      "e6e4152484f04e038c408e8d644472f1",
      "b39b834680ee4034865e3a044a689928",
      "8a5d6a754d3a404e92e71d89adaf7ae5",
      "e1905545545140108bdfb6bd7ca81bce",
      "c8c4f044055d490b8bb12993701c801c",
      "9a0bd271deea4360b426042da2446c69",
      "ea26723ccde54a2aabc74fb12eeeb9ef",
      "ad48ae5d13914fd49ca83a75b7905566",
      "918c59045b674e1586a00adc66f4fa1f",
      "be9b9cebd9c64c259ef5476701bfd69c",
      "8aac78afa137499d892e672f8dbadfd3",
      "fcc049eebe3a47229e8bb56adfab44af",
      "b845c3017cbc4cf4949a369bd2937d99",
      "27a02107f44542db87b3183f3f43be35",
      "8b516085ae9c4d0f885effb8651a960b",
      "5be2b26ceb854b0597a3f278a2378273",
      "2c2e55e7a98c48f0a5a9e7ffbe4a6038",
      "4e0731b187724ae7bc1e003ced26d096",
      "4ba942a9358a4ed4ada54a6309562ba2",
      "0f47269758854c9dbd5dfa99f430afe7",
      "beaaee2f385f443d8e38c71b75b1d319",
      "0a5665ac4eb446cbadbeeafb0b99d9d8",
      "8929faff08984ae39bb8237724e61723",
      "208a86f82cdc4ce0bc49a4fa0f67f8ec",
      "de7c4b21ea054a90b09188b25bf9771e",
      "80f708c5827a4f2d8a21a3984d52c7df",
      "e514fa65ae254ef69652344645febe33",
      "221228892f7c4d969c3258372a7a670b",
      "ff827f14b16e43119f6b47952b11f182",
      "a5e89c8137264acc82668bcc7d5dd3b2",
      "47f55345b8744450a6f9e2d3a73878c3",
      "56ad7fe19d5a4a698c917392a304e96c",
      "4c1402f766344acebe6b1fe44a595a59",
      "0abb07bd3ea0464bbb085409183a01c1",
      "b022aac2865f4aea80ec78a798736e58",
      "2386f8a52d35494488a1a7f9b3ab2408",
      "4346a688d3344e38a1985c61acb20079",
      "cf2896c3d8ad44768173ba27bc1a51c8",
      "ca4f3e3e42a8424d8ab74e5245d23a6f",
      "c40dd3134f11485994ad9531113a68f1",
      "26afd191a8b84cc9bd977f6b8cea3dc3",
      "e630f66dcca34830a94952a930e94902",
      "8a9b306851f649998da48fbcc195a841",
      "98812f7995ac413b950895ef312a6611",
      "fc7b27692f854dd1a24011fd7c416663",
      "67343859aebf42cd89d0e31ff2c7f02b",
      "f61f6c235ee144acac8b3ce8caae02d9",
      "c5ed1affdef244f48e4e03a6369b95b0",
      "90f9add8f47b4a43ba8ac26c9b974f30",
      "ea44a42b95ab45fbaa629ea1731ecc71",
      "564df81bf0304e02aeaa24c54b212b26",
      "7d8ab5feab1943a2af0f4f802a220ed0",
      "9e75b3111172411ab996715877fff765",
      "1d768946c07b4134b90a86a7aa3a84cf",
      "792195a892ba4ac099fae232327e4d90",
      "f34b9cdeb20e4238b1000c7e00e57248",
      "c3393145e0c74c97adf80786fe3a5621",
      "b62398e4453c499f90d92fb821fdd307",
      "a3f483c3b9294629bb49b4e43864bb57",
      "2193c5fabe244244ba4bcff13f0f3a13",
      "9dcca17eab0b48d5a14fac7c0e4824ab",
      "51a49f859cd6476aab79a32f32efd04f",
      "7a4af4e2d3fe44cca4b13183c88cc774",
      "970b87485d7d4647825dcada5aeae6af",
      "61f5599c74b046ec9a9075b6cc3e9d7c",
      "5973307b8588447095fc622303a324a2",
      "92a94a38330b47f092b70d82fe6e8458",
      "bdd2866d81274e3c9fa3a8040efa8e7b",
      "009880ad1aad4807ba87ba0c98093158",
      "f7624b2333db4930ba4177880c11ff2a",
      "8506742d92b943c09de5d9b37c17f012",
      "b066c026c2e44680a2c6789388196314",
      "8366cee30b594b4b855087f5e07d69db",
      "2165b7cdeb25429e86c08f150e0fb2f6",
      "119b2d772dd546ceb34785b94a1502de",
      "1dd71b02ec374d8692a82b68282bc497",
      "773be9ddaca6460497e5bcbf3bd08dd4",
      "18fd281cbd1e4c4b8fec6148b07ed16e",
      "66c52700245941f9b2dc8cd8916dd05e",
      "0217bd0920d448a9a2881c39b6c46c7b",
      "51b862ed86294292afc810f233f3b5b0",
      "8bb6c98c6a584eba88de2b74fe171653",
      "ad03b76405e846038fc5c9defe0197e2",
      "f728514b59dc43c4a75b7f07b6a1fb6a",
      "63388a6af2d349f2882eed2a73c19736",
      "a672c70d50f24978a1d85c1558d30bb6",
      "17605092052349499288e66c45feac24",
      "02dd200882f043208d83215d64ef7d1d",
      "90d16643bc9a446f894df4cdebd73715",
      "e6759cda419d4ce49ce2cf4049473f55",
      "cd3f033fa0ba4f048a6af2dfc9cbfcf7",
      "8cab629f4dd147fda4404d3e4077e5c1",
      "95e3da787fd14e74ba7a10825f5aee87",
      "4ad505f8efa64d938aa44a6ba39fb669",
      "294c7bf6048e4bfda700776786ddf821",
      "5ef90621f2b945afb857b7781bea9709",
      "a144a2471ac34a40962870e824d3bcd5",
      "84e2efd3bd074468aa75d9a7677d18dd",
      "09aa901b150248c8894d6d0098c4c76b",
      "0f414d0f632a4914b67f1beab8434b64",
      "69eb11a99a2e424d933a439bdfae6e47",
      "9123de69043146e18182ebad7c1cd2a8",
      "2d367d26a134403da9a330697de6ddb0",
      "67858f2e3ad442b2bf09546bdc12892e",
      "063de17d24e64d2e997e155903c13bad",
      "a210775f51d04f9691718c4a1b74d753",
      "e4cdf5a625544fab81d8ca7cee2459e6",
      "7f71d86d2c77443faab86da273e238a1",
      "99d27bb891e24ad2ae525ec9538e471f",
      "90210ff21b8c4819b9be677b093b4279",
      "0bad9ce6ac6f460b901882493127b566",
      "2725c40daca747b69c1ef1a0ddc5ca8f",
      "46285eab2e304e29838f2586c502c025",
      "2d77549aaa854dad82aaebaadc2f910c",
      "502a3c90ce4140febf765ebc8cb6b220",
      "216861f61ad643cf93d1d9790605390b",
      "ec4b1efae10042848bf089694bfa529b",
      "bd40ca40d2fb4b83848f3ff5b412c352",
      "00bb348c6e094afda85dd53d2392a865",
      "14ae40fc8b4349b1b241e79b2b605870",
      "0f197254c63a43f6bd19934e41f57b67",
      "5ced9a27ba9240e9bbba4ec42517960b",
      "ed6cd737d7984d92acfd09342dcae33b",
      "9e3750a4964840d1acdc30c4782379c9",
      "5b03fba3362a487faa2adf5a99cf1e79",
      "ef907a7e7d564107b7a274764c51f37c",
      "10d082d7a4ef41f0943e89bcff47ab1b",
      "63a0405714724c7c90048517bdf1560d",
      "bc30a1befee14735a98b91443f466991",
      "1b2bc5737bdd4919925a1a28f9f4f3a5",
      "b90167340c3e43428932458ebd9c70eb",
      "3efc9a7b6dd443839e6bc68e6be11ab6",
      "ed9675951f2c4dc8a0d48cc4ef157169",
      "8330ac4398a9483b928e296c41d9a98a",
      "6709ed51895a4234a7262b41bc7cae1b",
      "6a4d616b65e449dd992831ab3778eed1",
      "412d56e632564a6cbae07f6df9401b70",
      "937449a64a7f42b196f8d584238a13c1",
      "795c22e4f613459e8f113aff04699753",
      "64b8db82880f4cdab5c47c4741bf1eb9",
      "a3efae9854a949d082d5113a47c27d38",
      "f8da75a994e34b40bb173c751ece7049",
      "cf401440397b46f08903e0cc6869a33a",
      "3f7b96401afd4f68aa60e2a464bfc2cf",
      "138e28bd4b464791aec73114af009bc3",
      "62d03a2e140848eba89c5a24cdc996ed",
      "18f9b697eb614cafaa516525e70fe6bd",
      "3f2950ed8da64cf6aa643fcd1002074a",
      "726dc2235445476ebc6814ddb5525cf7",
      "9f22ba75eb054e6e920a7faab34cdeab",
      "bf442b31dd6d4fba82a0071adf451af7",
      "b0684d1f80684cdba7822de683a8c8f9",
      "07c894e0f872456785f5c5d6ff1d3ce3",
      "726b639d68f24a778c9986e88cb9fa26",
      "0f66f673eca346f290b9e77321d891be",
      "478fcd15db7248958a35565b2092993f",
      "11a1bff351c74d04b19d0b7b1b40a636",
      "ba2f2b1c21294279bea10097c94f8560",
      "db8ef9755fb94d34893e32ca4fcfc09a",
      "be3196965e6d491faf530d4718c3ee91",
      "dbc93f2645bc4ab4ba6c694a567bfe15",
      "db1b7ffed2ee46e7a0916189a2230f96",
      "8082b162fee6438799a071558d5728a9",
      "5912231483aa4ebfb792cbe6d307005e",
      "afb96602b7a8486081f64facd7e0a8ee",
      "bb4efa9fb7844f119db176e8711f90df",
      "45cc3d865d814b8c89e3442882bbf5bc",
      "be1d117541994d19a4504f72bd8fdc88",
      "3ce8a43f379b45a2959552a8ccf91eab",
      "ec9f6996c7e54492976c5708e9c3b38b",
      "478838dc93bf453aa1555dcb2acd7252",
      "71d1bfefbd094d69b712a9c8987097a7",
      "becbe9e252b441fc99ec6aaeda0dcf54",
      "9e5085a0e39f415eb5b21e29fea05bd6",
      "aac541f5ee4049b8af44145507fd1d33",
      "da9deec462a54579a8d8302740d64149",
      "7cd695e3ebd24532bc07cc1a5f17c6a8",
      "d09d5a3670dc4bd4927a7bfd8319e8be",
      "d0cb0053e9814a46bf1f092000c29862",
      "71c611cca6d6496e98b892ebe3474618",
      "05186d01ee3343a79be5d4574725b457",
      "bf228c644b8a4ec186a25e4c52c2c77d",
      "3bcd5d83a84944e69cd271f71f413883",
      "ae1a4af0b45e46c6b446a49690e29fa6",
      "6aff7b1a80084f6692d8a1b0481dc2f7",
      "b68f10be21a641628f0ca2df98e3498c",
      "f9e1b604388548d7bcfd8412d50895b6",
      "13eb5bb5e9154fcd86e322b445e55764",
      "faf38002a49c4caea48c68f9497a48a5",
      "db3afd5b1496408db34ad2e13f2aeef7",
      "4d2a40db60a240e89971d7da65bd0e2a",
      "c20579cad5bd4478993ee5c9563d29de",
      "56dbaf4ee7ff45f2be7d5221f556b7a4",
      "5e68bf48ff9f40ddb81c18c21aa55169",
      "c60776769ea84dadb16beca07ddbbf8c",
      "f97a1aa3bbea4ecfbe06129bc1e58e9d",
      "888207d2aa324084bb01104cdce606ed",
      "ed7cf2d4ecba4e65befa6333927aff18",
      "ed6ee94ac0724916ad3793924cfdb851",
      "11d0cef6056a483ea69aac40bb4ec7d0",
      "091e55ce61cf4b3f9607626b37d5a858",
      "7f99b23428b84397a454a636347a650a",
      "eef994d286d54039a99f3d2323726dc6",
      "a0b1f416835943eba1a0ffc1f9d5a953",
      "50e5d3eb241b48cb9931ab86e00783a5",
      "4116a868b2d84231bfb751e0837c141b",
      "316ff38f821d471a829a7b8018f5e8e8",
      "e321ea690f7545239245765d9242f532",
      "5d17939597da47e0b96e620f972a1b06",
      "77b33739a2974caf98bf962c3a7d2cba",
      "aa00014a09e844baa414efa78f3ee1c6",
      "31028c6304a64b9d9ef6edb468302a6b",
      "9f7792a6697e4a17b1dfea0b1c6076ec",
      "28e74ca1444545a5adc43b1ba16d5146",
      "dda3b89168494d90a83b0b4bfe83d1c6",
      "15804585109a4ebf84be2c2f9165070a",
      "9aa3f6238cf44af3bc91336d46697fbb",
      "277c7c0d98a54ec6b761fecfd6386b42",
      "ffbe75b741214fe2a516bd9c718927ca",
      "2d9c2890aecd45dab1455fd3c6dfde6c",
      "a0a782974f1a4e6dad7cf170bf49d955",
      "b1e66074e95a4857ae6d86c503fefaed",
      "bc179adf02cf4fa2ad39ebc0d1558bf4",
      "c89ed0f6c4b54bf58b54e51cfbea78f8",
      "68e5e1abd9c144499e9a0d5bcd2ac7b9",
      "a93d390f94324e769133bf1e508df64c",
      "ce9685deafae47aa8438766d01f02272",
      "405679bfebe949d8a17bc72a2eb3ca60",
      "69a7693f6e504a66aa276245489868af",
      "2356fa59aa864d2985c3aec716042ca0",
      "d1a0cba7c987424bb9ba68f62cc75f8d",
      "97cd564ecb884344950fd84dd50f55e0",
      "17ac49f0042349d9affa318cee33c7e0",
      "15d0ba3c34d740f6abbbc80a116e5b25",
      "b219490b70e84753b7f2efd5c0863e21",
      "5b06e6c077b64b31af6fed9b8c427a3b",
      "c5353be4e34e4aa2b54034e392cce00c",
      "44aac2ec7edf4bbbaf660809acb3a485",
      "198e3cfac022489a885ee896b0a19028",
      "c0fa370e4c064bd193d488667481364a",
      "d6cfd825e8dc48f0858507c314ee3a6e",
      "6fe5e818723e4ea6af889b9ecb04f14d",
      "44c8914b8ff34596bf74cd6800cf55a3",
      "e6e94f51a074427b8368f11160c6eccc",
      "22e52865a804429297ed8d2c58aa593f",
      "51c791ffe7c84d48865afb323e64a189",
      "744c043e618146c4bc1b4704a3abedcd",
      "1be49e15e64b43a8a9be5746ccecdbd9",
      "2509eec9eb6d48c38cff9bd1889de0bb",
      "0e5ffde0a3744010b38cc5cfdcb629b3",
      "84ede0c67b314501b53d54990e57714c",
      "cfeb7ebdeede412d88a57126ea5203d9",
      "bfd6ff8c608543d2ab130415272a5a73",
      "bd3c98da8221484caff8f2fc39fc26b5",
      "0b50e6e26cde4e7d9ee673b00d87a4f2",
      "f599cd55556b4a64a1ed622313731a58",
      "66995ee00895449ba1bf9e88e0e65f45",
      "33419007fa1444d39aa1802de9386a46",
      "6d056ce5e0be4d0fa991f50c7dd5dd8e",
      "6cfb3820d98f4ea7b6b2c7cd5bff90cd",
      "472b43c4975c472b987e95c0588d7961",
      "020b865514d046c58791239fd2778daa",
      "e22af88b791d4b72a4f8decef088806c",
      "133afa9160384337815604672c3bd32e",
      "8aa045dbcff645d4ae6c56370a305628",
      "1bf1625dee904ffba007a69eec9db5a6",
      "1d7e486289a64411b8c2025279e0128f",
      "c6be35d7bc4748b18e7e5d50b68562f4",
      "1c405530b07c435985a595071baa13ee",
      "c02ad3f58c0e4bd99e7ea154a2bf9872",
      "55447b52b98b4f628d800066183e7158",
      "0e17b23f666c4a3d90ef3a64ea3a3ba0",
      "49c187b537484bc98c9b3dc4bce417ef",
      "6974b4c625254f4aac5507976d7ea0d8",
      "2d6844d1469d49a59d9255e5640c728a",
      "61cc40fe242f4fa6b7b2dca4cfca1007",
      "485b00eb519e426290548541593e2ad0",
      "7bd3ec101dc14b76a9187397d91deb0b",
      "cca9d41b42944af78126e1f4b3500309",
      "1151ff2edb7c4b99abf73e08a3987750",
      "2f569a3f1e90491f8c738e071e45a25a",
      "28b29e345f484dd9bea157822eb6c773",
      "b64a2cc2341a404988e9ebe2e9447a97",
      "884156d85994434e881df87f2463dfbd",
      "a133dc11f0af4af4ad60b8cf3f8c6b7a",
      "c4b4ec1e0dcc497d8e39b48d93ca01a8",
      "85e0d86a95b04adcbf2b0bc6208300b1",
      "eab06e6108c6457995e931613335ef16",
      "4948e295ff264e1ebc282ebde7ad3635",
      "f0aad76e120142019da92959247f1fd8",
      "1e069fed511f4b33982292e5a8359e2f",
      "79c341a63dc6420899b15ad74801fe83",
      "0c6db216846c4c25933f6ab17bde2740",
      "4c57e94fc4e847fca9c4240986fe61fc",
      "add7c4b9da0245609a8139200c3eb507",
      "7aa3d5a36a134ed08065a985033aabac",
      "7bf9b798fc5d4ea98e7f054fe9cc010b",
      "347c192933c44bfab08ed51d04ab970b",
      "016378942c484cecbbb8d15765fb5bab",
      "94c5885e65d446f8916ec466f8e70157",
      "09725b373e3b4b268d87502605193f73",
      "adba5dc4f62847f8857fa4398127c136",
      "dfbf0192f0044379a63558dff697b66e",
      "d0c8a9876d4c44db825f9f7b4e876b46",
      "f42dad5a17c14ac8b01defaf70cc9d71",
      "d81b9052b48b407b98a3ab06f22cd486",
      "f275ae9a2a0945b9898044636d499fc7",
      "50ac3847234b43a9a95cf54a9148f9ca",
      "ade319275aca4df086ba56294cc57d59",
      "d11827a1797a412196a79f8427bc8672",
      "b8b915deccb94258beed37d04bca4ce6",
      "6d91c9fe7575467ab74b9ed09a4ea935",
      "176a90f1eeee4c34a8e6ef2e01fcf932",
      "9a6edcc641ab443aaf6ccb86c8c4560f",
      "b70b5a4766064886b22d42ebd0867b13",
      "36d9a430922b49d2993dff29bbd9d9d1",
      "ce7ad7c7a28d47a2bf3aaeffca7a7717",
      "d8d6d888788148fe90e9b096b87ea3f2",
      "5903b25f5fe248adb924b231bd358655",
      "ad2e9af0292d4a8da7db27139ed64afd",
      "da2bec813d664bf981d0f035f154c6b3",
      "3cb1e8093d3f43ceae112d3198354870",
      "d53d6b509c054980bfae6f7dbe80e5e6",
      "ee01cd9810294bd1840d2723526ce814",
      "c2c6823c540c4c84830dde4a08097fb9",
      "e5ff4b79388b4fc48b9bc25b53e40b92",
      "5d7061aedbe54742b3699ff0967a9a73",
      "1ad1a1c41ea64f6ba97e4a61f32437b1",
      "59a78a02db144a5fab939a4ac8bd4951",
      "b598db6855e14b9ebb611131211625a5",
      "8f0070508f624af9b42ea034570b10a4",
      "4d757a8dbb09445bb85cd7ac2e5bced9",
      "72586b4eb0c5415f93940f6d4c7430c5",
      "286ba9348c174da487e336a7db6c3826",
      "f20999af72094de6964c421fc69e86aa",
      "777ca66d3e8841518cf4d3a77b24a366",
      "a2ca30bde54743c39bb3813ce36d060d",
      "abe1e8530cf14893af4e857785aded0d",
      "97142555952a4188a5c02f4ed8521c54",
      "935803b678444b4482a4bcd61a4034cd",
      "b4051a37c3034d1791d923d133785e2a",
      "69176f06266a4fb0b11cd61b65590a62",
      "aa5670cc7c3e4d07a7211ac712040e1d",
      "8b136666ac594a189fa8503ed243c24a",
      "b93492973e134ba7967d639d8318b9a5",
      "5af38a3e47804720aec67ef5e5f793d4",
      "37b82b2192384566b94362b13a6dcc56",
      "0dedde8f07534d529eddfcaca2ce7221",
      "75d51bd787994edabf2fadcab71d6681",
      "63fe9da412e94412be082115242007b3",
      "17172ee379a14ea9812459fcb42fc711",
      "d13e8d8ef22c4431a1674ea546e4bc23",
      "8874783eb17245079aaa53b51d6f0716",
      "f96e46ced308493a9484c3296d82ebdb",
      "28b99c79e09941629d0d6002592a25ea",
      "e8ff182e24a8459c9f34848d146db5e8",
      "ce950878178d466aada2a393907aa8ca",
      "68c858194acd4c3eb0b980a9098233b8",
      "00c89e50bd294671b7cb6c541ce6e683",
      "096b7ccc4ffe47b1a9fc5d0428370cba",
      "e92e9b67d5c547b4910af633b59b8927",
      "121c0fd653384811937c89d5cbc6424c",
      "cebf82c2496c45789e0cef7a092f2d05",
      "2e0f8463c5754c12a264c5d68cfa502e",
      "acd51a90a8154ccab9d153ad1e64d68e",
      "8060df253f454af49f52465dc7c52993",
      "d24ef209075b458c86d38d5e4f645977",
      "565899fbc947419c87c10882b75fdcc2",
      "2d05b0259b0d4d939d463526da528f41",
      "b4ed5297f0e349faabe2d8fbac352ba0",
      "34444c9916a6422692316dd3582b2657",
      "a23da11f283b489cbb60e1b887ccd409",
      "85c8e8f5ad80431b86bfab3594e14d0f",
      "b00b6f19698c424cb98be42c0a716ca5",
      "2b36aca21db9478ca63d8b1fa5ba2a0d",
      "db3ac7626e244e709193e85ecddc2e44",
      "d82e42c594fd431abffe2640b6e24da0",
      "40963ed7997a4c3f913cefb6fa93488f",
      "0953bc76f4ef420595bc843d04005002",
      "0d531e4fe34c48fdbb731b5df556441a",
      "14cca40b768347c1a47c47a6cce15991",
      "4eab0e1cbcd641a0b8beddb54963f145",
      "d18ca5272bc04089b893fb1f61f8bec1",
      "d63607266f774855a25c12a0b1437c76",
      "3319283e892f47258f0b7a4aabd95bea",
      "423f5239f13d41519507d894a961991b",
      "165e634030364fb28309e7fb9ba7822a",
      "6bff4421bfee4db2bb07827f2db8f6af",
      "c01238912cac45aca36eeb8c32f62cbc",
      "c424059e8949480c8d6120be5f1e4e6f",
      "677e52e8a0814e87bd24059cb1a4ddc5",
      "355a2f9f5e784e32b88e0003acd07444",
      "9b11747f77154fd8abc0a52d56dc4e9d",
      "faec8b4642d24b3c94ff1e98ded63031",
      "fe046056af4a4ae092818b155039d974",
      "c690d95fb88146d5afc3c6ecc2493b8c",
      "8db296259d0948f49d4e84e03af388db",
      "fc1758e399004d7c9789fbfbbc64cc44",
      "cf6843c283d24b5da011c68fa249f95a",
      "385aa3ea13d84d27a9aed36d61840b19",
      "0d384e4d5e1740218bd37f7b13cb74bf",
      "8785ed5085d644c89ca983c33c403a34",
      "53dae01c6e554ac783f5ccb5109a99f5",
      "48b4869be8ee4bca8f28e5918ddd6505",
      "4d6468a3675441e58663db4104f8d560",
      "c2af1eaffee247b5bbfdbe2233f7cbeb",
      "1b021b09b003490793f4ed72c77c7a5e",
      "05505760135b487d9408be242589b97a",
      "d5564ac530d240d69c78bef001873657",
      "c633f69afd89416d880bb3c641539eac",
      "b894c129c8e640139907dbd844703297",
      "7cad670817e64e429cc267c5cab002e3",
      "2763bf6a7b2a46548496438d57c9f536",
      "9d5f6e30ad9d4eb2909bc0461deb1f20",
      "03e672677a8240e79d59c7e3cde25329",
      "7031d84afba04ed6bad01302f1f7a637",
      "3330e46abb064c5a88a6268cbfb7c8b6",
      "b65cf92419bb4ab684bc408f87a68f4f",
      "ffece91224c846ac96ff54dee7031d86",
      "ab660e167f6448739f3ee9016d392493",
      "250c289cc7ee4382b2d52b0a46d8e05d",
      "ba2d7556d1b042a99abbf1dea22b6d20",
      "7cab2a85182c4ea1bfe5c1e201a3ce6c",
      "6b7e56ecc2bd4dc3bd639a57cfdfdc60",
      "da7ea69fa84d4bbaa11d89d411e70a0a",
      "c4e16e91fe4f49739b33a4cdc4721f81",
      "b4fe8458be51405e82a9ddfce8d742d1",
      "822c43c42c254044ab23bd1fe24cb582",
      "cba413a02c7148fbb59cb085d7ebb1a9",
      "bf10e2e12ea046dd8fbd276c451ebcf8",
      "cb262663093942cd84b586152bd7f421",
      "da35d6dab2ae47bbb8a8456105e67d25",
      "1ca729060e224b3ca589ff1ab818f7c4",
      "9b9745fa23be44428736a926140e86f8",
      "10f25b4e8e0b48d0b5fbdca7cb029fc6",
      "986059d5a39c41dab405bfc12c1d1da0",
      "c84fedfda7d24bf9bc2dd2fa4aaeb6fc",
      "f3ec5245333140f3b620c328d9bbd285",
      "ae91fd3f62a04e639d37046650e7b455",
      "ace4d7557acc49f9a208fd57da541fe9",
      "69e773037db742f4ae45de9e43f60a16",
      "fab2d53503cb432f8b927b211a86bbcf",
      "fab61ce1a514460cac46b111658f655d",
      "3c8de66a6f0d41f5a7fd069ceeb8d7af",
      "e34e045f8feb4af58b3c83b310065734",
      "31d98654bc954db6b761bc136bf26ca3",
      "2648ce0c2b384a7d92194bf028a4e8f6",
      "1bf150c59f6e4b6593a4e3e7798ad977",
      "c2a45da5595240f2be16802a1a9e9a00",
      "9da369a837094ccb89d8b2aec80fd9f5",
      "fabfd187f17340fe830c67e8d1e4f569",
      "4ee6c4393b154a1da9a31dfab0dee93c",
      "496ef949d8ba4755bf6233673745d525",
      "2a5f2e8c8eb94bb0913089a27810b4ff",
      "27820f0a00af450a8d9e3f1e3031bf00",
      "7124651964224071a8256b6b2e441eb7",
      "dccff0e934274bf6bab19f6a30d61359",
      "260c79cd0bba4ef48df1518118f6faa4",
      "4206d4a02265436c9923b705d9a6bb99",
      "0b5715f20e8f4421807265a9e4eb39c7",
      "81d2254687e5448d98096e67809dca5f",
      "3c8ad09ac6be499f94a234cdcd778ca0",
      "e079371a7b30411fa92c96a227bc7b1d",
      "00bbc853c05c4e6d9c326e8096884df8",
      "af6f6701d8f04b4193794b753c015e45",
      "54bb95610e80474b8aa38d2ec8bde197",
      "4877cc2b10884c5e824a32c5e35a4942",
      "e1802ad8ec22469d8b8b95bd654c45d9",
      "508f66138c3249b9bd6360769c716c0a",
      "f8d60d98bdcc42428ea78eb64bce883d",
      "9824defaeb3c44af874401a41073ad0c",
      "94ae2908fed84e668ab254e8af6f5564",
      "55119d74ff864dd5b9603011f28d21f4",
      "6bf7a031a3134aa5969b40ae1e5959cf",
      "17def3d6c41a4e5b8358033f0ba1cefb",
      "57ac9a4cb644475a9df56d5a5fccfd13",
      "3f6230a07c1c479ab81a8a41edd62396",
      "252a2c3208c1429ca6891c2feae774da",
      "5551a1a993f34b3b89b7531676571f14",
      "4da88095ecd24730aa83b4d388df0ab3",
      "8ee025f65e714cd89d4a105eee7d4d16",
      "1aa755d8d2a64f87aa76826cf78c229e",
      "a9b61cbf45cd4f4d813eff98e7d3518c",
      "98e125fb53934a05a28fed1bfe301aab",
      "7b11eb0e530a45ceb27dc4c93de242e6",
      "2266d968e2594ec6a236294e00a5b0fb",
      "e991fe95163a4b3bbd5f4029489fdbe3",
      "a449f006cfe7493f92ea4a184dd349dc",
      "83ef4229fd66417a963b4a1286d623fa",
      "8163994fcf2843bdb187a910e0216d16",
      "8678ba7b3f6a4543be7221221ed580c0",
      "be88b79df743447bb74e3791640738eb",
      "7c24d6ea2c4749609968dfae3112a6b0",
      "5a97f9e092704a898234b929bc83226f",
      "78f8350b39b44a308224be7f4d38ba3a",
      "cc7d6c5103484ebda85cb3e56edc069f",
      "e1d1a4fa17e9497fa52289c68f4b9c84",
      "984c25ab3bb9419e837a03a2ea1086eb",
      "6a8e7093459946bd89f1cd4ab8873f02",
      "434b0869b21a4fe0a1d386a5cadf6af5",
      "5658dace08e94058ad88c42f68110c1e",
      "fa99d20192404ec2ac4affb74874b2c8",
      "05c89c4a6e364d2992b5b02ff739f184",
      "181dcb6d10c24e2f86804e7f79089d8d",
      "c00174d4a811409fb4c42a88bafd3fa1",
      "d104532779464d7a8ffe55632df6d9b3",
      "8d1a1c9d23a54ee1a411b39d0c02ca97",
      "b4a94f1d5d0e4eb19d35a2cd23e0efde",
      "f873719dcc8a41678e7837c1a229d236",
      "b6e2403180f74cd0b925e69085015001",
      "6be6e60e53944b18a767f93badfc1372",
      "bc09af4c48c74365b26e9c0d68919de4",
      "1cc02e96a018470aa10d53483829a5c3",
      "1cac71cd918b416fbc358cd6a56050d4",
      "f7ff3e013136429e8052fee7ba88db47",
      "7135ce249ec34e6a8562fcf7325503b8",
      "c68cef890b744dabba062b8ae5ec1905",
      "e9df1cdccf0d47de83d6bd0a56b5386a",
      "10df384fd59e4b3984c462bcf96f8ec7",
      "8a42bfda29214138858a3549af3e6782",
      "3b3c21ddea4d4ed2985da5d52f6fa36d",
      "a938ca02924a435c9ddade1fae21f6bf",
      "5d82c77fc76741abbd8aa458daca4168",
      "71e42f6a0cfe4a028ae5ec2322b0816a",
      "6501465c1bc643189b170b81bf0a2777",
      "6933e3b424da46e496f7ae2ee7218589",
      "9e25775505a342a490603aa0ff5eaa67",
      "8cba0f35ca4344638ac9f337541f00ad",
      "4b77b4d57fcc4f7bab897c04a8e2f73f",
      "f61e46b699b84c03ab68a0bb32398d1e",
      "023dd490080c4b15b8e781581cffff59",
      "bd93cf48266c4f8eb22156aec0b1a225",
      "3365fbbe0355495d95689fb7cf2007f8",
      "d47ed93efe4a46cbadbd6900c2e6d2bc",
      "d6f4894d604f4e128a0268079a59c1c6",
      "b83b83b7073c44589d4dd7d4daee5550",
      "2eaa0bb9064c442bb87dee1bba6113c7",
      "f6844414b7da46de83f1e37c11c41be3",
      "97e0f7295ed04ecd988cb401dd1e6fdb",
      "bca1dcde77884cd59deadde5100d2021",
      "fd06840223684a469b0113058886fd94",
      "d6f29eab012d43caadbf5e53f5951f1a",
      "3493e9b235674280a32d47c07beae760",
      "4e9ea35021664770b23cd8e35ae18f6e",
      "b0f4f53f198d47699cf3bfdac2b1d11b",
      "2101215b744145b1b84bdb1d27f329ad",
      "1ad6177ed140449ea466c3265d2fd181",
      "de030d5c9c89434ea29ffac0916c883a",
      "0989fc9f459e43b4b66b8afbcf0187ff",
      "5a46cc8c05a4407ab42222bd8c3ebc7c",
      "062c4e1e2bb64eaca75406c4340712ee",
      "1996e6a471774fa1ad31f377f2223ae6",
      "9ec1581f75924525b4af490aabc739b4",
      "c095720dec0248acb398150437f072b0",
      "08f4daf87b9a4ece8411c0a9a1aba156",
      "ab2cf6e18de64247bfcb7857876ab56f",
      "6e0ae48810464e40af38c56aaa0043b4",
      "e728c10781f3403ab2d1d1d2b2af4b70",
      "ebc3a99835d846558ed580f2769131ba",
      "dd0627bad4bb45749f2c268ee7a6df88",
      "e59fa971253144b28501bd593d2a2091",
      "6bbb2af0978343128329088c4e15937c",
      "9aa9fc1297d14830bc931bbf16609851",
      "9e9bac5004874fdf978914434df63dce",
      "83ce34a0bb5a457f8241cc0540506eaa",
      "fdf8842a03b54bf08e3ba9a75caed71b",
      "a3f5e5fe9b7743efa7b808844768cfb3",
      "9c79f06bd6e64132be67c6be9643d8cf",
      "4b560669ba224b968806b180f5a5cbb6",
      "4a516e5553a74a71afb72ef104079763",
      "0c79b284b5264254a7edf9f982a0726c",
      "51fc53d2265947f4beed4cee54cb58bd",
      "23b6e588adf04f309d98dab92fd61436",
      "083fb6eb652c45b3b45560722b279ecc",
      "e38b95b521324c0a9b7229e201d4a1d9",
      "bad554c74fad4efebb0d0e0055f4dd22",
      "c00d3bc7f0ed4c7c86eb8e9961388b36",
      "ab14867e0fe84886a752111264fcbe92",
      "bdf5736f80984e25bcdf97f4f573a6a0",
      "c0d1e7bf6baf479081b89805dd17a95d",
      "7685106c769a4ba98dd90dbad5461c3e",
      "73576cc23f5b41d5b9274110c11ecec9",
      "5ad48a77d44a4b90ab0f5d55c136d94b",
      "c8ad83ce71594c7dade7a7a8df265269",
      "8b95bd7b7c3f49e8a1537aa52ee4c4b1",
      "63d6d306c644439a84e4b18ad7b4260f",
      "1fdd4c60fdae446686c43cdc7d535d74",
      "5b34b903066d4f779c3367a307aeaefc",
      "2b2a2d0638c142b5981945b54155fc92",
      "103183e84b3d4e3088e7e713dcc3fae9",
      "9d2fb1e680aa4d0e8b8900bd59a79ad6",
      "4b3e6dee450e40abb3caff7c4204f187",
      "80133ccfe7ea4b9c93051feaeb8020a3",
      "c45f45af0f0d4a5a8042f60168a9f96c",
      "3198b8972ba44c27ac5207dcebcde8ad",
      "0ce3d552ec2e4f8793475d856392c8de",
      "9c0ed02ea6ea4d5eb018363a337dece7",
      "2dc0f40ec533427c81f3148342624dce",
      "2858cfb3164c47c7ad8cd77c9cdc5fc4",
      "c230ad7af1cf4611a53d74f362f92dce",
      "9f255ac41df449a8b6283918e642a226",
      "92f895e5f1544c35a5403388ee6e51a8",
      "8ddf14ba11384ab78d586746a39a010c",
      "2ca59b4e867c4f6b9d473d373aff9417",
      "43b8df1fdf6849f1922ebee1746cf1a1",
      "b80d71bdaf1c4f89af4d501672b95ef7",
      "61fbb413301044c3a2bfe42fb79befdf",
      "07a5f4e48ba1451d88bdba304cfdff48",
      "165a903c448d44f28ddfc33ef1827306",
      "c0adcd3dd51a408db367ab9a65be475a",
      "8cb4f86eb2ae414abf197c61605469c1",
      "5912501b3e864237b5dc7689c918fba0",
      "cce85c4f00614f82833512b1cf63e605",
      "e6fdc5059b8d4f038106201a77adf43a",
      "c9c5e7b659c4497f91ecd8729f1ba0b7",
      "f895f5bda1d244abad0469160597de77",
      "2672382e6ebe430899423c738dfa7588",
      "9e4d6a02b0524f40be97f49cd3baec79",
      "f96ff593cd814ef0970dfd4ea27b9565",
      "13a304a04ebd457a8ca0d739ead06608",
      "fff2f5e7a9d44b649d7c97a7daf90d28",
      "52d766fa0ae84cc3ae25f1dffdc1af28",
      "3baf98fb537a4f30a003a60343385bc9",
      "eebbf04558014b0a98909fa0edb142a6",
      "3e27da1bda4f40ab91f2a2bbdee7319f",
      "c8ca7ec5acd94ce989555331e997957a",
      "e81ebcd28afd43fdb9cd18e05c100e69",
      "ee0a8d7c88ae4eca913db667ae968ccf",
      "319c1bc9df5f4530a8bd9ac99c46d1db",
      "6d629ffcfebf467ba6bd10ea35d78306",
      "28438e92f42746f0943be5eb19b92319",
      "0eddfa9ba04f4e59a5ca7304704f831b",
      "729de0b44024413d9ea00a43afd09979",
      "569a416716dd46778d2e6c902cc5a22b",
      "11fe67121b7448fe9907e8ea2f95380a",
      "33f6df2ea69b4861a19e41b3497ec7ea",
      "27755342c79d4c8893a6d15f8ab7e72a",
      "5fb4e3bbbc9947b9917d3eb4a66fc14e",
      "a9dc4d53df4f442498bfd23e45320a90",
      "f1b85ac8ec4043f182a83b8933a447c6",
      "5be4a36d42e64a5b89b8704b261016d6",
      "6a79a3c117c74f3da86e572603af115e",
      "d190504242ec4f7c8f6f267050075966",
      "489813ea81af44459af9ee3641c4fbce",
      "2c00a690970b44dfad8d5fa3dd3c3e2f",
      "7765afd8bd8046db9a33b75ed3bd17b2",
      "e132963d7c4d4bfc8b0ede2ad16545b1",
      "aec3fc6884b54b31bfc2d2ecb7c4ade4",
      "ac1f7faeea8d42709e5691868fd7a22f",
      "0ca9abf3eed34a30aa754aa4634fdfff",
      "0c04fe1d66724ea29c09e98e97a57a0f",
      "9bb8151aece3405ba52d4f5f61bc0dac",
      "571e9521052742e19550db07ffd0f6d5",
      "ec580d6649124c4bb3ac87d00e8a417e",
      "4347b3f6eca44eb486cfcc24bb60020c",
      "f2abe7e9961a443e9a29c20724942585",
      "0c545445027a4c938c1ed1c6981731a3",
      "14d9c8e300794c64bd5d3c4359295616",
      "777f2f6675a9474595aae4e44286a47f",
      "3a9acbea6f87482e8d7448ec78d80988",
      "12f2d27d12664ddc8be596240b82b5af",
      "0f6071d5598d4b2e99f16d2a97779494",
      "1e1ffcc7d706479ca0828a5bd819160d",
      "74395cb84e7c457cb5dd026d78d4d7c5",
      "32df8bc7e0ef4dd8bed77c5d108d375d",
      "a5b19ad6b5044d3f855e6781e510a004",
      "e61d8ada0b714d8799a87de42e4ca025",
      "9abca7977ed8442fbf29be5f0528fcb8",
      "c3d2c54da6ea4ba09d05e34660f4f87a",
      "5044cd01067540068d50705bf9f9ff72",
      "973b2338e2294d0ea9b8701e3578a196",
      "897664af248d46ed96510fa78347292f",
      "107947816d464a43aa4e6b14f4cd9977",
      "bb6d1efb16914e79b52bb8028188fac2",
      "c1fa1b054fa34210b223626eeeee3374",
      "13900de4aaea40a09114136a9b4cabca",
      "0f8d6546df6044c2a3b542f0cf3d43b7",
      "7f00c2e88d4546ce80fd85b01d7bbd7c",
      "6ea61e57e4a8419c8f0719ede6a5d965",
      "052fdfb6292546f3bafdc8b19b6ec07e",
      "78e900a1859d49bcb480377f3ee49c97",
      "27e46c492caf480696e411340fd66fa9",
      "8056d252ace84d57986f01302606cfa5",
      "cd3f6636af1c4e419204ba915f466972",
      "fddd1512548e4acf9d650ea981863986",
      "534498291ae341adafd7d2a2f376753c",
      "2668fd0f6e9740b1805682933b0f4d96",
      "d562bc1d94e84293b03b4003f53cd754",
      "b225202b18e04453b3a0ae855bc830f7",
      "64f84cf62f3f43aa8901bafa8fe16258",
      "e19344ad0a4844b59fc390dd851c6238",
      "9adea3c85eb044e0a58554e154bbf55b",
      "a884a658ecce4ca9917fc6b83feed1e5",
      "11c83cde50cf45968e23f6e757067c42",
      "4aaae154858a4020af833d8ae0971259",
      "b6167daeb90f40aabb783263519783e1",
      "06745b3cf36a4201b0e3b8167e74bf49",
      "749ef195089744e399b7ec53fec61e88",
      "5f9fabb8f1294f43b7fede9a38a4f51b",
      "0fe53bac86f24e65999d3d8c30cd5ad6",
      "fce394913ebb447ca3f3c6c43b970ea6",
      "e9c279630ffe42eab2d78da00ab63cf4",
      "8558cfc6159a4c86a5283a4315f901ec",
      "369ef27d8fbf4545ab9525d844f76b6c",
      "46841938869f4717914cfa746496362d",
      "62049ec81dc542ad8799e708dca5e7e9",
      "7d180fb51d6e4eaa846b74eb8b85db45",
      "b7527b6f6c9c439a8c509e8a747d8d04",
      "57ffb571d16745eebd8f8b753a13a36d",
      "931ee1c26f5a44899e07157260ee138e",
      "0c0f65497db3484d9408e92b2b66859e",
      "dfaf7815c5e74d0486eda1de2af9b31b",
      "00b13d42f84e488fb47d0271340569c9",
      "0e54712eb5fb45efad6beca200faac95",
      "2f8797e62f00458782b3bd80c46866be",
      "c06ab6aaa4854d018910bec47f43d68d",
      "c948b12e4df145c882a308a2a2a8ae0b",
      "a30638a050e04b6a982ef58b2526ed89",
      "28088fdd999b47e4ae80fdc294934896",
      "4bef6f836bbb41059dc941d1ca681f4c",
      "be2ea6dba4e44f77a1ad0237d33603bd",
      "0e79836604b04120bb2179f53cd21c09",
      "8e75b5284477434a97aa67e06c94ebd8",
      "a942e84a0f7c470099cd271b9d6ce402",
      "8f8d6f5f1b024be7b84ff6f4d0291c08",
      "afef33cb1d884e95a90d82771c642cda",
      "8eaf5108524849f7bf479914d2482335",
      "1d4da49f234c44a88eb7441c263d93fe",
      "dcfe9787420143469dce5cd31b8ad7ff",
      "8185207960eb4630b61329b3ab4e1dea",
      "0f0e8126b85c42ebb02128e1f7bb7135",
      "385b574bfc0b4e5e932e609c34db8271",
      "095fdb49365a4b589c07aa108d0d859b",
      "10fb853443614a5394189fe7e398bc1a",
      "52925ebec3aa41f09959b4db174e5682",
      "717cec5ba3174bbbac881f11253fa734",
      "d08a077060124c6ca94fc693525c4e2e",
      "5232691b2dfe419b85f809af3a2fd7bb",
      "9c4a56be703e48189dfd56a70702f5c5",
      "4998f64b0b044e9c9151fe3fbfad6fc1",
      "ddc783974dd74c63a83477cd06be69c6",
      "4f4a4023c4954a7587fe20998e90e975",
      "520810cb9142482e9a2e779ca9da1bba",
      "c9f264d8524c42d1a28b4ce2d587f779",
      "caddbdaecde349829faa3e0ca2a76966",
      "6c4db8d0188141e38ee501ed51c1bec5",
      "3e4deb231b04444180c8591eeab5e53d",
      "d9d940d5e6384f42ae7de793be35a0a4",
      "209fb40423374fd1811106547207872e",
      "22cbffd141a544e1849f7a60cd3320f1",
      "1bb7ef9240cc426a82ae7722b87ea811",
      "169ed3ef4ca04a5cbfc37b23b3eab240",
      "91ffde7957ca40f3bf2dab465a59f787",
      "34fc41c17f2f4c08ae9787cbc3229778",
      "ee2983b9630241a7880f08197c7979e1",
      "7a478499c3f94de28d56636cdf5cea26",
      "b9a4e95eefc54153aa6c90df7bacaff0",
      "2e77e618b2804372a0f2c1a3f8462a30",
      "12781165c65f498ca361b4ccc072e4c8",
      "a0663c16246f4a18bf5754ff55d237f5",
      "b7c7914035654e798da51e0618119022",
      "c3272524fdeb4a13856e4d4f1106d6cf",
      "92da765ac9d34984b2f123273b13b159",
      "9e49fc7d8a954fb3a6a9aab280a7eed0",
      "4be5adba0dc441428c2e446787a3dbb7",
      "c1b40156c89c433a84ac89244f895ce4",
      "95b6131fc98f4c93814d8867d3a206d4",
      "2d38ea01b943450cb803f0e1f758da51",
      "5099b00bb5734ccdbfaa16a685f07feb",
      "bd1d583408524287946225208a04e15b",
      "b3aca71a52e84bffa1bbe24e3c8c1b28",
      "2829cf1805544a1ab6eb98913d64d1aa",
      "da06108fb94c4ac1bd0c0d1db46b8f8e",
      "3a8ad25c42224298a499d38263358581",
      "63042cd028c04bfeb06ee34d0ef998d8",
      "5683d4616d70483a954accc8ba0913dd",
      "28e6145876554933999b4c84e1c8ff77",
      "04247489462744b1bcf41f1ce689734f",
      "82feb98b626a44478addc3eb8d02a459",
      "f77aa839a9d44dcaa0f636d08d4f3c88",
      "258674054e8c4e869ea733c9e3011fff",
      "6e8e8b47cb3e4d04a4d4aff91eb5988d",
      "591041c810114df0a0a555eb4477fd3f",
      "c4537c2c9f204035b928c74e4c003b2f",
      "2ea851202e4546f38810a3df2e7eb62e",
      "a102e9fe4c96450a93a430fb07769807",
      "2f439292f8494ee4aeec26cfade76109",
      "26d6380a9b60420a8f4b97a2afd01e5b",
      "39051342624e42aa8ffa16a322cf9aab",
      "517871c8b8984b5fb4dfe57a26288110",
      "2ef7b043f96643a6903cb2b14fda0222",
      "3992cb99d4e5410d89b90f356fbd1a67",
      "ae411bf0dbc0473981e31d4ce782a5ba",
      "716429d3561b4841be08fb68967f9862",
      "209f02f5f02e43bd9070489b137ce855",
      "b55c4ba88b954d87980ec0330061a357",
      "6db33a1b93de4153bd045639b7c596e3",
      "966486714ced40a7888f2924dcc7e647",
      "3d990aeeec0345fb91e076d518d31fbd",
      "1b854965d7ca4f12a24fcda6ce73f649",
      "bf9bf69dd681428ea00208735c4ddb57",
      "dc6b6ce7e255464e98af8f39db66559f",
      "989691920763445f94131809162e04bf",
      "bfcf6efd0da7496e9c1fa7ffd823cd45",
      "ff12075a761d459db2958c0b079b8f31",
      "1c15e78c223d4c0b9578b7cf22e77c9b",
      "67ead48289aa44c580ab9c23899bc59d",
      "018a11322f13479589a8c5704adb6274",
      "3b02db22407d4994883a499264d1d96a",
      "d3aaa5b6c4464b559f53e8774a965d5e",
      "2e409e09dc314b36b80076afb3f1d60e",
      "b59f63231bf14963afcdf5ea6fcdabe7",
      "de7bae6bc7254c5fbeb04aea9731b2d5",
      "b0c43e4bbe9f42069efc4c28352a6f25",
      "0ecdf06a4013491da0922af4a218928c",
      "578de0a6652546b8935c4f78ec2563d1",
      "c7005368c788425ba8d262242dd99b30",
      "7a3e1d5a40bb4177a28c0dcee8d35215",
      "fb6ee28fd07a49b7bf7861523cc74668",
      "55376f8f74544708bec4bdead2fe061a",
      "02dbdae4079e4c9b87b13562fc6ab4bb",
      "8e2f9dacfef940d5a0bf310f07401a5b",
      "42c981f7bad54236b97ee1d73d2210da",
      "ed61ed81461d4cf0b4943f70877b827e",
      "50eac568826c46db8600ca0c91503b98",
      "c7135a8114b24be8a539cf1518f7cd5a",
      "34fca69f76c94592be6a200851bef56b",
      "63c4e96228224d3480076f232bc7ec6e",
      "972314f6933944eeaea9b3948744c3ca",
      "970c11569fc94b869b3b2ebe8ab4fc82",
      "30ac528be7a94f349521ddd7abb0cefc",
      "e7c83945d34e47e58756d1ea3198d3e0",
      "6b10f51f74f048a6bc34fce04827d095",
      "06ee6920a4f341a5b891c39333d611fa",
      "904cefd4ddfc41928e1a24da014ed9e4",
      "1e01fa4a96bf46e1a7f07e23e537490d",
      "1a7711f6470b4aa0b3bd04ec07ee1bf6",
      "863a9c1279fe4202a31ed553379dec7f",
      "3a9e8c884f074c699d0f91d5c713c852",
      "5b78e6dfff214655a23c5cf5c5920d3b",
      "3087c66feb504b07b6740042b3aa4090",
      "f4698bcd6d0542ff94c6bd757b199f75",
      "981ef0937f874c539af36c7f2faa1e62",
      "5ca0209641324ddd9a217f234c55052d",
      "bb683685ec7243f882f194b0b14d21a9",
      "0a96258a13314548affb1c6770e29980",
      "5ce6b4592eff4a85aed580343c3af5a2",
      "627ef276528945d1b24926a372f40fd4",
      "2f9feb752441434f9d30e38e39a23aee",
      "0e0bd78b6968420480eb1793cdb17de1",
      "49d59124b2ff4fad9aa415379a0c6519",
      "8124b9e759994d3ea264fd2e723231e9",
      "37723fa6b6094da1999e9c731da92a55",
      "befc827962e947bcbc492d1c07db0f19",
      "f0b188e8f732445a861ff60c9cb1a63d",
      "26c9281f196f4f0abddfae2c0d8ab956",
      "88edc320bf0040b89c0e9086494aaf0c",
      "118b8edde6584fd6bd990d732196e311",
      "a9ee987895b24991aa6dca3df0aefbc1",
      "7341699159b24e6aa63f1d0164b9fbce",
      "0d5c3b174a104e1cb2f999c33e1b659c",
      "0185bb5ce054417bb0395c9ab4ebcc3e",
      "2add7d26cf0944c792e10c94a6f44965",
      "e2f38c57876d4672ad811b004746ca49",
      "2ae802dfae87472a936b3d8f1b6083c2",
      "86b9b8d72c6440c9a94cadca103fcc4a",
      "4ec373f93cee4015ae9f64dd06b75057",
      "61c04b9b1e7f47f7b6f4986dbc79c5cf",
      "34baa090cf684ea2b0c122c532195952",
      "3cdd92d4ae9045a68c4ecbfb453381ab",
      "bafc80a71ea0407c84711581b265b8fc",
      "99604eb8ff014abd8d129b5eb84630fe",
      "b1683c3bb4ac4a818b6382991f8f197d",
      "68744cc66d844281838f4bc2fc620c99",
      "ff1f1206cbd740949791fe91f8bbc3a2",
      "c98b80fee02a4e0fbf7365b8540aca5a",
      "339d7710996e46728a97a239874f51a9",
      "64fe0a6b4d6440ef994a0d865ea1321e",
      "fa8e6dc18519418d877487352d39e930",
      "e5c545aa65a847e3a7985a9092bc9c37",
      "99b3a085a5af4360bdfd1a0043304b09",
      "315a12bfdb184113a2e29e77198baadb",
      "7ffcc7a10b6b47409180e22664265ba4",
      "edde840966e84b75a9f7052e61acc6fd",
      "895377e73e064632a5ce6a6d733c2a04",
      "42c4a29fe454412783987d735659a173",
      "80691b3c12aa45d0b1999ef85e495853",
      "7e3bc3a354dc4ad89ff272ea93d45757",
      "f0cbd535bcfa4b0ea3f0aa825296ce94",
      "f74482903cfb4ba8817da3a900e392cb",
      "4b564493ef264260a0335733af0bb8cc",
      "2caf04c097ca46e2921d0167b60bf5ae",
      "04c6a80308364cc9ace0cb545aa53140",
      "179ae3d44be648b69e000b967d51b67b",
      "fdcd2b5e33a345bea9a16d92c1e963d9",
      "ce3dbde4b4014d4daf9d49b3fa73118f",
      "535372800f924448949d11755f2be4bc",
      "c33709127bdb47c391b6c6fafded1895",
      "8844fbc8126d4c7b86e042b3295997a2",
      "d67382b6b9404b83888ff14ab4c2dd7e",
      "101e348e56dc4d62a7853da9fb412be0",
      "b10b4204b03b4361bac88112f2654b09",
      "d9c3388349314c3489e1f794e8b400c9",
      "495e28381bde431b8a30157bd36cd9e0",
      "8f10c0485c994e03aa9ebf7be58e0b09",
      "367e64cd26af44bb9ab91d719470d6a7",
      "9e978518cee1498ca91b3fd31a60bffd",
      "9fd9e32a31534e21be3f43c4db4cb3be",
      "dc145be7149a4932a79b9646edcac3bf",
      "539194f5c83c4521bbb41c96c5f365c0",
      "1ce3f5d3b27d4e5f9dbcbf694cf45190",
      "e6e370fbbb9445578409bdb32db098e4",
      "fd93293ae2a24040bffaf86ca05f21f3",
      "d7a168ff0d6f45da975d9beb715bd7fe",
      "10c88c82a7a14dfcb8389b8b6546fb10",
      "75a9ceb4b8354cdba746c9c5883c1fb9",
      "f9736ba863b347b59db1c5ab20b59f3e",
      "e21a0c66e9e442489894dfe4e2d9ae65",
      "37e08d3a7ead4293afc30de3b52d7b89",
      "d13eec1406e2409a9c4c578ba435c551",
      "7f7e9291e8d2432ea18048b40a2cff6f",
      "ddc0bdb640714bcab8265415c9b6d1c1",
      "df4ac38521bb41e09961e17306f56426",
      "38fcb6a1a0754417ae5447524988a90b",
      "18718a7b0d8e43fb84dfe488b1517fa5",
      "6c04cb62cdf74347b7ca417cbb40aee3",
      "d9d0a6b381524a19885865a387b8a407",
      "5ae565b7d20f4615b6b4f28a857e6f41",
      "75e3f6ec9adf443792cf990b2d09e825"
     ]
    },
    "executionInfo": {
     "elapsed": 270511,
     "status": "ok",
     "timestamp": 1745490550540,
     "user": {
      "displayName": "Bo Kwok",
      "userId": "02865672638441406614"
     },
     "user_tz": -60
    },
    "id": "TwSQlx-VNTJc",
    "outputId": "7ada9552-a2b1-4b21-a736-dc772e863e8a"
   },
   "outputs": [
    {
     "name": "stdout",
     "output_type": "stream",
     "text": [
      "\n",
      "Tuning learning rate: 0.1\n"
     ]
    },
    {
     "data": {
      "application/vnd.jupyter.widget-view+json": {
       "model_id": "533cebceebd740339d886cb58b0fe568",
       "version_major": 2,
       "version_minor": 0
      },
      "text/plain": [
       "Epochs:   0%|          | 0/20 [00:00<?, ?it/s]"
      ]
     },
     "metadata": {},
     "output_type": "display_data"
    },
    {
     "data": {
      "application/vnd.jupyter.widget-view+json": {
       "model_id": "3c630157a7c04e05b7fdf2c10c065933",
       "version_major": 2,
       "version_minor": 0
      },
      "text/plain": [
       "Training:   0%|          | 0/20 [00:00<?, ?it/s]"
      ]
     },
     "metadata": {},
     "output_type": "display_data"
    },
    {
     "data": {
      "application/vnd.jupyter.widget-view+json": {
       "model_id": "a1ebebf22a9a41eaafd64fdf13278ff6",
       "version_major": 2,
       "version_minor": 0
      },
      "text/plain": [
       "Evaluating:   0%|          | 0/5 [00:00<?, ?it/s]"
      ]
     },
     "metadata": {},
     "output_type": "display_data"
    },
    {
     "name": "stdout",
     "output_type": "stream",
     "text": [
      "Epoch: 01 | Epoch Time: 0m 5s\n",
      "\tTrain Loss: 91857902500.672 | Train Acc: 57.97%\n",
      "\t Val. Loss: 207318.369 |  Val. Acc: 25.00%\n"
     ]
    },
    {
     "data": {
      "application/vnd.jupyter.widget-view+json": {
       "model_id": "f1a897d477274428b828bdd0ebe271ab",
       "version_major": 2,
       "version_minor": 0
      },
      "text/plain": [
       "Training:   0%|          | 0/20 [00:00<?, ?it/s]"
      ]
     },
     "metadata": {},
     "output_type": "display_data"
    },
    {
     "data": {
      "application/vnd.jupyter.widget-view+json": {
       "model_id": "92c8666a96ae4d35bc58dacf8a6693e8",
       "version_major": 2,
       "version_minor": 0
      },
      "text/plain": [
       "Evaluating:   0%|          | 0/5 [00:00<?, ?it/s]"
      ]
     },
     "metadata": {},
     "output_type": "display_data"
    },
    {
     "name": "stdout",
     "output_type": "stream",
     "text": [
      "Epoch: 02 | Epoch Time: 0m 3s\n",
      "\tTrain Loss: 56056.366 | Train Acc: 47.19%\n",
      "\t Val. Loss: 4318.205 |  Val. Acc: 74.38%\n"
     ]
    },
    {
     "data": {
      "application/vnd.jupyter.widget-view+json": {
       "model_id": "9fc8e6538a0c4763a8ae0088904176a0",
       "version_major": 2,
       "version_minor": 0
      },
      "text/plain": [
       "Training:   0%|          | 0/20 [00:00<?, ?it/s]"
      ]
     },
     "metadata": {},
     "output_type": "display_data"
    },
    {
     "data": {
      "application/vnd.jupyter.widget-view+json": {
       "model_id": "ea3e14ae9bd840409cadcf7c684dc9a8",
       "version_major": 2,
       "version_minor": 0
      },
      "text/plain": [
       "Evaluating:   0%|          | 0/5 [00:00<?, ?it/s]"
      ]
     },
     "metadata": {},
     "output_type": "display_data"
    },
    {
     "name": "stdout",
     "output_type": "stream",
     "text": [
      "Epoch: 03 | Epoch Time: 0m 3s\n",
      "\tTrain Loss: 2638539.281 | Train Acc: 52.34%\n",
      "\t Val. Loss: 19051.556 |  Val. Acc: 26.25%\n"
     ]
    },
    {
     "data": {
      "application/vnd.jupyter.widget-view+json": {
       "model_id": "c10266bed37147d288fc1084855c0a7f",
       "version_major": 2,
       "version_minor": 0
      },
      "text/plain": [
       "Training:   0%|          | 0/20 [00:00<?, ?it/s]"
      ]
     },
     "metadata": {},
     "output_type": "display_data"
    },
    {
     "data": {
      "application/vnd.jupyter.widget-view+json": {
       "model_id": "81b501c3e4b2481fb5be931c368a1e46",
       "version_major": 2,
       "version_minor": 0
      },
      "text/plain": [
       "Evaluating:   0%|          | 0/5 [00:00<?, ?it/s]"
      ]
     },
     "metadata": {},
     "output_type": "display_data"
    },
    {
     "name": "stdout",
     "output_type": "stream",
     "text": [
      "Epoch: 04 | Epoch Time: 0m 3s\n",
      "\tTrain Loss: 20776.042 | Train Acc: 51.25%\n",
      "\t Val. Loss: 8808.277 |  Val. Acc: 74.38%\n"
     ]
    },
    {
     "data": {
      "application/vnd.jupyter.widget-view+json": {
       "model_id": "26f818ef1baa4c13ad7e0ffd1885a6ed",
       "version_major": 2,
       "version_minor": 0
      },
      "text/plain": [
       "Training:   0%|          | 0/20 [00:00<?, ?it/s]"
      ]
     },
     "metadata": {},
     "output_type": "display_data"
    },
    {
     "data": {
      "application/vnd.jupyter.widget-view+json": {
       "model_id": "c71a4a811da14641815a3e0a838e381a",
       "version_major": 2,
       "version_minor": 0
      },
      "text/plain": [
       "Evaluating:   0%|          | 0/5 [00:00<?, ?it/s]"
      ]
     },
     "metadata": {},
     "output_type": "display_data"
    },
    {
     "name": "stdout",
     "output_type": "stream",
     "text": [
      "Epoch: 05 | Epoch Time: 0m 3s\n",
      "\tTrain Loss: 34173.747 | Train Acc: 47.50%\n",
      "\t Val. Loss: 19794.545 |  Val. Acc: 73.75%\n"
     ]
    },
    {
     "data": {
      "application/vnd.jupyter.widget-view+json": {
       "model_id": "ac2985049f0d42afaaf506e6b6bbdeda",
       "version_major": 2,
       "version_minor": 0
      },
      "text/plain": [
       "Training:   0%|          | 0/20 [00:00<?, ?it/s]"
      ]
     },
     "metadata": {},
     "output_type": "display_data"
    },
    {
     "data": {
      "application/vnd.jupyter.widget-view+json": {
       "model_id": "f99014f6df1d4eeca720510bad19aee1",
       "version_major": 2,
       "version_minor": 0
      },
      "text/plain": [
       "Evaluating:   0%|          | 0/5 [00:00<?, ?it/s]"
      ]
     },
     "metadata": {},
     "output_type": "display_data"
    },
    {
     "name": "stdout",
     "output_type": "stream",
     "text": [
      "Epoch: 06 | Epoch Time: 0m 3s\n",
      "\tTrain Loss: 12308.051 | Train Acc: 51.72%\n",
      "\t Val. Loss: 0.806 |  Val. Acc: 25.62%\n"
     ]
    },
    {
     "data": {
      "application/vnd.jupyter.widget-view+json": {
       "model_id": "6dc64fb98729484d9614f23058405a5b",
       "version_major": 2,
       "version_minor": 0
      },
      "text/plain": [
       "Training:   0%|          | 0/20 [00:00<?, ?it/s]"
      ]
     },
     "metadata": {},
     "output_type": "display_data"
    },
    {
     "data": {
      "application/vnd.jupyter.widget-view+json": {
       "model_id": "0d623b5e62284882a396f32f9a116934",
       "version_major": 2,
       "version_minor": 0
      },
      "text/plain": [
       "Evaluating:   0%|          | 0/5 [00:00<?, ?it/s]"
      ]
     },
     "metadata": {},
     "output_type": "display_data"
    },
    {
     "name": "stdout",
     "output_type": "stream",
     "text": [
      "Epoch: 07 | Epoch Time: 0m 3s\n",
      "\tTrain Loss: 1356.847 | Train Acc: 51.25%\n",
      "\t Val. Loss: 5.138 |  Val. Acc: 74.38%\n"
     ]
    },
    {
     "data": {
      "application/vnd.jupyter.widget-view+json": {
       "model_id": "4f9817fe954b4b47ae50f40592e44cee",
       "version_major": 2,
       "version_minor": 0
      },
      "text/plain": [
       "Training:   0%|          | 0/20 [00:00<?, ?it/s]"
      ]
     },
     "metadata": {},
     "output_type": "display_data"
    },
    {
     "data": {
      "application/vnd.jupyter.widget-view+json": {
       "model_id": "c30f13b1e1c14dafaf0bd6de0880892c",
       "version_major": 2,
       "version_minor": 0
      },
      "text/plain": [
       "Evaluating:   0%|          | 0/5 [00:00<?, ?it/s]"
      ]
     },
     "metadata": {},
     "output_type": "display_data"
    },
    {
     "name": "stdout",
     "output_type": "stream",
     "text": [
      "Epoch: 08 | Epoch Time: 0m 3s\n",
      "\tTrain Loss: 32.699 | Train Acc: 51.25%\n",
      "\t Val. Loss: 17.352 |  Val. Acc: 74.38%\n"
     ]
    },
    {
     "data": {
      "application/vnd.jupyter.widget-view+json": {
       "model_id": "56061e5f3466406e8135615c4e1b0747",
       "version_major": 2,
       "version_minor": 0
      },
      "text/plain": [
       "Training:   0%|          | 0/20 [00:00<?, ?it/s]"
      ]
     },
     "metadata": {},
     "output_type": "display_data"
    },
    {
     "data": {
      "application/vnd.jupyter.widget-view+json": {
       "model_id": "718a3ec7271a40b8b8011d9659a11197",
       "version_major": 2,
       "version_minor": 0
      },
      "text/plain": [
       "Evaluating:   0%|          | 0/5 [00:00<?, ?it/s]"
      ]
     },
     "metadata": {},
     "output_type": "display_data"
    },
    {
     "name": "stdout",
     "output_type": "stream",
     "text": [
      "Epoch: 09 | Epoch Time: 0m 3s\n",
      "\tTrain Loss: 30.678 | Train Acc: 47.81%\n",
      "\t Val. Loss: 29.531 |  Val. Acc: 25.62%\n"
     ]
    },
    {
     "data": {
      "application/vnd.jupyter.widget-view+json": {
       "model_id": "dc15ceb047434a5288678006c04a7638",
       "version_major": 2,
       "version_minor": 0
      },
      "text/plain": [
       "Training:   0%|          | 0/20 [00:00<?, ?it/s]"
      ]
     },
     "metadata": {},
     "output_type": "display_data"
    },
    {
     "data": {
      "application/vnd.jupyter.widget-view+json": {
       "model_id": "d3c356bbf80e462a83247b425b128890",
       "version_major": 2,
       "version_minor": 0
      },
      "text/plain": [
       "Evaluating:   0%|          | 0/5 [00:00<?, ?it/s]"
      ]
     },
     "metadata": {},
     "output_type": "display_data"
    },
    {
     "name": "stdout",
     "output_type": "stream",
     "text": [
      "Epoch: 10 | Epoch Time: 0m 3s\n",
      "\tTrain Loss: 7807.943 | Train Acc: 53.59%\n",
      "\t Val. Loss: 27.781 |  Val. Acc: 74.38%\n"
     ]
    },
    {
     "data": {
      "application/vnd.jupyter.widget-view+json": {
       "model_id": "986d65d4250c422697c9b171ef8f7484",
       "version_major": 2,
       "version_minor": 0
      },
      "text/plain": [
       "Training:   0%|          | 0/20 [00:00<?, ?it/s]"
      ]
     },
     "metadata": {},
     "output_type": "display_data"
    },
    {
     "data": {
      "application/vnd.jupyter.widget-view+json": {
       "model_id": "bd3e9427d4004efd8ff3fcb4869a859d",
       "version_major": 2,
       "version_minor": 0
      },
      "text/plain": [
       "Evaluating:   0%|          | 0/5 [00:00<?, ?it/s]"
      ]
     },
     "metadata": {},
     "output_type": "display_data"
    },
    {
     "name": "stdout",
     "output_type": "stream",
     "text": [
      "Epoch: 11 | Epoch Time: 0m 3s\n",
      "\tTrain Loss: 59.475 | Train Acc: 51.09%\n",
      "\t Val. Loss: 25.534 |  Val. Acc: 74.38%\n"
     ]
    },
    {
     "data": {
      "application/vnd.jupyter.widget-view+json": {
       "model_id": "35208fbcbb7c4cd89805ca0f1b968d61",
       "version_major": 2,
       "version_minor": 0
      },
      "text/plain": [
       "Training:   0%|          | 0/20 [00:00<?, ?it/s]"
      ]
     },
     "metadata": {},
     "output_type": "display_data"
    },
    {
     "data": {
      "application/vnd.jupyter.widget-view+json": {
       "model_id": "de105d8c208e43d5a8c97ce90ebc1a09",
       "version_major": 2,
       "version_minor": 0
      },
      "text/plain": [
       "Evaluating:   0%|          | 0/5 [00:00<?, ?it/s]"
      ]
     },
     "metadata": {},
     "output_type": "display_data"
    },
    {
     "name": "stdout",
     "output_type": "stream",
     "text": [
      "Epoch: 12 | Epoch Time: 0m 3s\n",
      "\tTrain Loss: 51.731 | Train Acc: 50.78%\n",
      "\t Val. Loss: 17.394 |  Val. Acc: 25.62%\n"
     ]
    },
    {
     "data": {
      "application/vnd.jupyter.widget-view+json": {
       "model_id": "2b6d81c7fb2347a7b6d7222af25632f7",
       "version_major": 2,
       "version_minor": 0
      },
      "text/plain": [
       "Training:   0%|          | 0/20 [00:00<?, ?it/s]"
      ]
     },
     "metadata": {},
     "output_type": "display_data"
    },
    {
     "data": {
      "application/vnd.jupyter.widget-view+json": {
       "model_id": "92c80fd78f6e42319b8017bae0c34071",
       "version_major": 2,
       "version_minor": 0
      },
      "text/plain": [
       "Evaluating:   0%|          | 0/5 [00:00<?, ?it/s]"
      ]
     },
     "metadata": {},
     "output_type": "display_data"
    },
    {
     "name": "stdout",
     "output_type": "stream",
     "text": [
      "Epoch: 13 | Epoch Time: 0m 3s\n",
      "\tTrain Loss: 41.098 | Train Acc: 55.31%\n",
      "\t Val. Loss: 2.593 |  Val. Acc: 74.38%\n"
     ]
    },
    {
     "data": {
      "application/vnd.jupyter.widget-view+json": {
       "model_id": "532a861a1b684888bd394f28a18a0049",
       "version_major": 2,
       "version_minor": 0
      },
      "text/plain": [
       "Training:   0%|          | 0/20 [00:00<?, ?it/s]"
      ]
     },
     "metadata": {},
     "output_type": "display_data"
    },
    {
     "data": {
      "application/vnd.jupyter.widget-view+json": {
       "model_id": "02f1c0f195814f7fb77ce48d9269bd94",
       "version_major": 2,
       "version_minor": 0
      },
      "text/plain": [
       "Evaluating:   0%|          | 0/5 [00:00<?, ?it/s]"
      ]
     },
     "metadata": {},
     "output_type": "display_data"
    },
    {
     "name": "stdout",
     "output_type": "stream",
     "text": [
      "Epoch: 14 | Epoch Time: 0m 3s\n",
      "\tTrain Loss: 36.234 | Train Acc: 50.62%\n",
      "\t Val. Loss: 17.286 |  Val. Acc: 74.38%\n"
     ]
    },
    {
     "data": {
      "application/vnd.jupyter.widget-view+json": {
       "model_id": "9baf965551c0405fb9032462e93d12cc",
       "version_major": 2,
       "version_minor": 0
      },
      "text/plain": [
       "Training:   0%|          | 0/20 [00:00<?, ?it/s]"
      ]
     },
     "metadata": {},
     "output_type": "display_data"
    },
    {
     "data": {
      "application/vnd.jupyter.widget-view+json": {
       "model_id": "8d9609bfac554ffeb59c03456a329c54",
       "version_major": 2,
       "version_minor": 0
      },
      "text/plain": [
       "Evaluating:   0%|          | 0/5 [00:00<?, ?it/s]"
      ]
     },
     "metadata": {},
     "output_type": "display_data"
    },
    {
     "name": "stdout",
     "output_type": "stream",
     "text": [
      "Epoch: 15 | Epoch Time: 0m 3s\n",
      "\tTrain Loss: 24.628 | Train Acc: 56.25%\n",
      "\t Val. Loss: 7.179 |  Val. Acc: 74.38%\n"
     ]
    },
    {
     "data": {
      "application/vnd.jupyter.widget-view+json": {
       "model_id": "ae9682a9f16e4a0e9d408f4f25fa7c4e",
       "version_major": 2,
       "version_minor": 0
      },
      "text/plain": [
       "Training:   0%|          | 0/20 [00:00<?, ?it/s]"
      ]
     },
     "metadata": {},
     "output_type": "display_data"
    },
    {
     "data": {
      "application/vnd.jupyter.widget-view+json": {
       "model_id": "a3521c79109748a394d6db4861c2f47b",
       "version_major": 2,
       "version_minor": 0
      },
      "text/plain": [
       "Evaluating:   0%|          | 0/5 [00:00<?, ?it/s]"
      ]
     },
     "metadata": {},
     "output_type": "display_data"
    },
    {
     "name": "stdout",
     "output_type": "stream",
     "text": [
      "Epoch: 16 | Epoch Time: 0m 3s\n",
      "\tTrain Loss: 24.255 | Train Acc: 51.56%\n",
      "\t Val. Loss: 8.088 |  Val. Acc: 74.38%\n"
     ]
    },
    {
     "data": {
      "application/vnd.jupyter.widget-view+json": {
       "model_id": "225ccc921d464b5d85ad734ce939d0b4",
       "version_major": 2,
       "version_minor": 0
      },
      "text/plain": [
       "Training:   0%|          | 0/20 [00:00<?, ?it/s]"
      ]
     },
     "metadata": {},
     "output_type": "display_data"
    },
    {
     "data": {
      "application/vnd.jupyter.widget-view+json": {
       "model_id": "0458c3e119c841bd84bf0766162637ae",
       "version_major": 2,
       "version_minor": 0
      },
      "text/plain": [
       "Evaluating:   0%|          | 0/5 [00:00<?, ?it/s]"
      ]
     },
     "metadata": {},
     "output_type": "display_data"
    },
    {
     "name": "stdout",
     "output_type": "stream",
     "text": [
      "Epoch: 17 | Epoch Time: 0m 3s\n",
      "\tTrain Loss: 19.746 | Train Acc: 53.75%\n",
      "\t Val. Loss: 35.501 |  Val. Acc: 25.62%\n"
     ]
    },
    {
     "data": {
      "application/vnd.jupyter.widget-view+json": {
       "model_id": "fb2103401dbe4c3ebaebdf6650457fb3",
       "version_major": 2,
       "version_minor": 0
      },
      "text/plain": [
       "Training:   0%|          | 0/20 [00:00<?, ?it/s]"
      ]
     },
     "metadata": {},
     "output_type": "display_data"
    },
    {
     "data": {
      "application/vnd.jupyter.widget-view+json": {
       "model_id": "2f6cd64b07cb453aa8255d53c7251625",
       "version_major": 2,
       "version_minor": 0
      },
      "text/plain": [
       "Evaluating:   0%|          | 0/5 [00:00<?, ?it/s]"
      ]
     },
     "metadata": {},
     "output_type": "display_data"
    },
    {
     "name": "stdout",
     "output_type": "stream",
     "text": [
      "Epoch: 18 | Epoch Time: 0m 3s\n",
      "\tTrain Loss: 19.978 | Train Acc: 55.00%\n",
      "\t Val. Loss: 1.684 |  Val. Acc: 74.38%\n"
     ]
    },
    {
     "data": {
      "application/vnd.jupyter.widget-view+json": {
       "model_id": "280f59c3583545c3970f17688f464a45",
       "version_major": 2,
       "version_minor": 0
      },
      "text/plain": [
       "Training:   0%|          | 0/20 [00:00<?, ?it/s]"
      ]
     },
     "metadata": {},
     "output_type": "display_data"
    },
    {
     "data": {
      "application/vnd.jupyter.widget-view+json": {
       "model_id": "e7f992fbc1224eed834b39ed58311e57",
       "version_major": 2,
       "version_minor": 0
      },
      "text/plain": [
       "Evaluating:   0%|          | 0/5 [00:00<?, ?it/s]"
      ]
     },
     "metadata": {},
     "output_type": "display_data"
    },
    {
     "name": "stdout",
     "output_type": "stream",
     "text": [
      "Epoch: 19 | Epoch Time: 0m 3s\n",
      "\tTrain Loss: 13.420 | Train Acc: 52.97%\n",
      "\t Val. Loss: 1.947 |  Val. Acc: 74.38%\n"
     ]
    },
    {
     "data": {
      "application/vnd.jupyter.widget-view+json": {
       "model_id": "354d37f75b534ff5988ad5532573ee75",
       "version_major": 2,
       "version_minor": 0
      },
      "text/plain": [
       "Training:   0%|          | 0/20 [00:00<?, ?it/s]"
      ]
     },
     "metadata": {},
     "output_type": "display_data"
    },
    {
     "data": {
      "application/vnd.jupyter.widget-view+json": {
       "model_id": "8d20f7474266453292362376efbe2855",
       "version_major": 2,
       "version_minor": 0
      },
      "text/plain": [
       "Evaluating:   0%|          | 0/5 [00:00<?, ?it/s]"
      ]
     },
     "metadata": {},
     "output_type": "display_data"
    },
    {
     "name": "stdout",
     "output_type": "stream",
     "text": [
      "Epoch: 20 | Epoch Time: 0m 3s\n",
      "\tTrain Loss: 11.466 | Train Acc: 50.78%\n",
      "\t Val. Loss: 5.914 |  Val. Acc: 74.38%\n",
      "\n",
      "Tuning learning rate: 0.01\n"
     ]
    },
    {
     "data": {
      "application/vnd.jupyter.widget-view+json": {
       "model_id": "5cd6b8bd6257425ba0415b0f74239b2b",
       "version_major": 2,
       "version_minor": 0
      },
      "text/plain": [
       "Epochs:   0%|          | 0/20 [00:00<?, ?it/s]"
      ]
     },
     "metadata": {},
     "output_type": "display_data"
    },
    {
     "data": {
      "application/vnd.jupyter.widget-view+json": {
       "model_id": "8d778516c5a749e199d302af61601189",
       "version_major": 2,
       "version_minor": 0
      },
      "text/plain": [
       "Training:   0%|          | 0/20 [00:00<?, ?it/s]"
      ]
     },
     "metadata": {},
     "output_type": "display_data"
    },
    {
     "data": {
      "application/vnd.jupyter.widget-view+json": {
       "model_id": "b7fefa218bb94dd988cbe46734082530",
       "version_major": 2,
       "version_minor": 0
      },
      "text/plain": [
       "Evaluating:   0%|          | 0/5 [00:00<?, ?it/s]"
      ]
     },
     "metadata": {},
     "output_type": "display_data"
    },
    {
     "name": "stdout",
     "output_type": "stream",
     "text": [
      "Epoch: 01 | Epoch Time: 0m 3s\n",
      "\tTrain Loss: 42288.963 | Train Acc: 57.81%\n",
      "\t Val. Loss: 0.959 |  Val. Acc: 73.75%\n"
     ]
    },
    {
     "data": {
      "application/vnd.jupyter.widget-view+json": {
       "model_id": "2cfc80ae6adb4981a88c23b3e2e9f466",
       "version_major": 2,
       "version_minor": 0
      },
      "text/plain": [
       "Training:   0%|          | 0/20 [00:00<?, ?it/s]"
      ]
     },
     "metadata": {},
     "output_type": "display_data"
    },
    {
     "data": {
      "application/vnd.jupyter.widget-view+json": {
       "model_id": "9f4ba79bc92e4409b3074f8f77bed3d1",
       "version_major": 2,
       "version_minor": 0
      },
      "text/plain": [
       "Evaluating:   0%|          | 0/5 [00:00<?, ?it/s]"
      ]
     },
     "metadata": {},
     "output_type": "display_data"
    },
    {
     "name": "stdout",
     "output_type": "stream",
     "text": [
      "Epoch: 02 | Epoch Time: 0m 3s\n",
      "\tTrain Loss: 1.612 | Train Acc: 57.81%\n",
      "\t Val. Loss: 0.750 |  Val. Acc: 25.62%\n"
     ]
    },
    {
     "data": {
      "application/vnd.jupyter.widget-view+json": {
       "model_id": "962411f89a7b43b599da003c383c8636",
       "version_major": 2,
       "version_minor": 0
      },
      "text/plain": [
       "Training:   0%|          | 0/20 [00:00<?, ?it/s]"
      ]
     },
     "metadata": {},
     "output_type": "display_data"
    },
    {
     "data": {
      "application/vnd.jupyter.widget-view+json": {
       "model_id": "b6e3abc803fc44e292a32cc6a3920471",
       "version_major": 2,
       "version_minor": 0
      },
      "text/plain": [
       "Evaluating:   0%|          | 0/5 [00:00<?, ?it/s]"
      ]
     },
     "metadata": {},
     "output_type": "display_data"
    },
    {
     "name": "stdout",
     "output_type": "stream",
     "text": [
      "Epoch: 03 | Epoch Time: 0m 3s\n",
      "\tTrain Loss: 0.686 | Train Acc: 56.25%\n",
      "\t Val. Loss: 0.631 |  Val. Acc: 74.38%\n"
     ]
    },
    {
     "data": {
      "application/vnd.jupyter.widget-view+json": {
       "model_id": "2c85f7692cac4007b77f2fe66ba3c095",
       "version_major": 2,
       "version_minor": 0
      },
      "text/plain": [
       "Training:   0%|          | 0/20 [00:00<?, ?it/s]"
      ]
     },
     "metadata": {},
     "output_type": "display_data"
    },
    {
     "data": {
      "application/vnd.jupyter.widget-view+json": {
       "model_id": "ea36bdb68a954c379759f3bc9ae1dd12",
       "version_major": 2,
       "version_minor": 0
      },
      "text/plain": [
       "Evaluating:   0%|          | 0/5 [00:00<?, ?it/s]"
      ]
     },
     "metadata": {},
     "output_type": "display_data"
    },
    {
     "name": "stdout",
     "output_type": "stream",
     "text": [
      "Epoch: 04 | Epoch Time: 0m 4s\n",
      "\tTrain Loss: 0.691 | Train Acc: 57.50%\n",
      "\t Val. Loss: 0.618 |  Val. Acc: 74.38%\n"
     ]
    },
    {
     "data": {
      "application/vnd.jupyter.widget-view+json": {
       "model_id": "32c23e8ff56a4ee7aa6d7362c3580f95",
       "version_major": 2,
       "version_minor": 0
      },
      "text/plain": [
       "Training:   0%|          | 0/20 [00:00<?, ?it/s]"
      ]
     },
     "metadata": {},
     "output_type": "display_data"
    },
    {
     "data": {
      "application/vnd.jupyter.widget-view+json": {
       "model_id": "68ee92532ad742cf9a14c964b1326daf",
       "version_major": 2,
       "version_minor": 0
      },
      "text/plain": [
       "Evaluating:   0%|          | 0/5 [00:00<?, ?it/s]"
      ]
     },
     "metadata": {},
     "output_type": "display_data"
    },
    {
     "name": "stdout",
     "output_type": "stream",
     "text": [
      "Epoch: 05 | Epoch Time: 0m 3s\n",
      "\tTrain Loss: 0.692 | Train Acc: 59.06%\n",
      "\t Val. Loss: 0.614 |  Val. Acc: 74.38%\n"
     ]
    },
    {
     "data": {
      "application/vnd.jupyter.widget-view+json": {
       "model_id": "296eda102edd449f80925b3849acdaaf",
       "version_major": 2,
       "version_minor": 0
      },
      "text/plain": [
       "Training:   0%|          | 0/20 [00:00<?, ?it/s]"
      ]
     },
     "metadata": {},
     "output_type": "display_data"
    },
    {
     "data": {
      "application/vnd.jupyter.widget-view+json": {
       "model_id": "382cc33fbb3540f396c718c5826e6840",
       "version_major": 2,
       "version_minor": 0
      },
      "text/plain": [
       "Evaluating:   0%|          | 0/5 [00:00<?, ?it/s]"
      ]
     },
     "metadata": {},
     "output_type": "display_data"
    },
    {
     "name": "stdout",
     "output_type": "stream",
     "text": [
      "Epoch: 06 | Epoch Time: 0m 3s\n",
      "\tTrain Loss: 0.680 | Train Acc: 59.38%\n",
      "\t Val. Loss: 0.596 |  Val. Acc: 74.38%\n"
     ]
    },
    {
     "data": {
      "application/vnd.jupyter.widget-view+json": {
       "model_id": "c752048ba96f4a08aaeff095bd409121",
       "version_major": 2,
       "version_minor": 0
      },
      "text/plain": [
       "Training:   0%|          | 0/20 [00:00<?, ?it/s]"
      ]
     },
     "metadata": {},
     "output_type": "display_data"
    },
    {
     "data": {
      "application/vnd.jupyter.widget-view+json": {
       "model_id": "3df929575cc74cde881be9433e71c3e8",
       "version_major": 2,
       "version_minor": 0
      },
      "text/plain": [
       "Evaluating:   0%|          | 0/5 [00:00<?, ?it/s]"
      ]
     },
     "metadata": {},
     "output_type": "display_data"
    },
    {
     "name": "stdout",
     "output_type": "stream",
     "text": [
      "Epoch: 07 | Epoch Time: 0m 3s\n",
      "\tTrain Loss: 0.680 | Train Acc: 59.69%\n",
      "\t Val. Loss: 0.638 |  Val. Acc: 74.38%\n"
     ]
    },
    {
     "data": {
      "application/vnd.jupyter.widget-view+json": {
       "model_id": "0f81524b42004e8eb8c50ed2bef6c8df",
       "version_major": 2,
       "version_minor": 0
      },
      "text/plain": [
       "Training:   0%|          | 0/20 [00:00<?, ?it/s]"
      ]
     },
     "metadata": {},
     "output_type": "display_data"
    },
    {
     "data": {
      "application/vnd.jupyter.widget-view+json": {
       "model_id": "9ac7cba1097b41c997825c15eabd5aa6",
       "version_major": 2,
       "version_minor": 0
      },
      "text/plain": [
       "Evaluating:   0%|          | 0/5 [00:00<?, ?it/s]"
      ]
     },
     "metadata": {},
     "output_type": "display_data"
    },
    {
     "name": "stdout",
     "output_type": "stream",
     "text": [
      "Epoch: 08 | Epoch Time: 0m 3s\n",
      "\tTrain Loss: 0.676 | Train Acc: 59.22%\n",
      "\t Val. Loss: 0.609 |  Val. Acc: 74.38%\n"
     ]
    },
    {
     "data": {
      "application/vnd.jupyter.widget-view+json": {
       "model_id": "2ed7f32358d04afda9b4ddb4895270cc",
       "version_major": 2,
       "version_minor": 0
      },
      "text/plain": [
       "Training:   0%|          | 0/20 [00:00<?, ?it/s]"
      ]
     },
     "metadata": {},
     "output_type": "display_data"
    },
    {
     "data": {
      "application/vnd.jupyter.widget-view+json": {
       "model_id": "6a7f1535d894465daf929d2b1d293bb1",
       "version_major": 2,
       "version_minor": 0
      },
      "text/plain": [
       "Evaluating:   0%|          | 0/5 [00:00<?, ?it/s]"
      ]
     },
     "metadata": {},
     "output_type": "display_data"
    },
    {
     "name": "stdout",
     "output_type": "stream",
     "text": [
      "Epoch: 09 | Epoch Time: 0m 3s\n",
      "\tTrain Loss: 0.681 | Train Acc: 58.91%\n",
      "\t Val. Loss: 0.616 |  Val. Acc: 74.38%\n"
     ]
    },
    {
     "data": {
      "application/vnd.jupyter.widget-view+json": {
       "model_id": "659b49fbf0df4e82b8b954717623c254",
       "version_major": 2,
       "version_minor": 0
      },
      "text/plain": [
       "Training:   0%|          | 0/20 [00:00<?, ?it/s]"
      ]
     },
     "metadata": {},
     "output_type": "display_data"
    },
    {
     "data": {
      "application/vnd.jupyter.widget-view+json": {
       "model_id": "b1f530aac2b8428589df6b861a971fa2",
       "version_major": 2,
       "version_minor": 0
      },
      "text/plain": [
       "Evaluating:   0%|          | 0/5 [00:00<?, ?it/s]"
      ]
     },
     "metadata": {},
     "output_type": "display_data"
    },
    {
     "name": "stdout",
     "output_type": "stream",
     "text": [
      "Epoch: 10 | Epoch Time: 0m 3s\n",
      "\tTrain Loss: 0.683 | Train Acc: 57.97%\n",
      "\t Val. Loss: 0.629 |  Val. Acc: 74.38%\n"
     ]
    },
    {
     "data": {
      "application/vnd.jupyter.widget-view+json": {
       "model_id": "c2575bf6db6b46eea3aa2b651b400705",
       "version_major": 2,
       "version_minor": 0
      },
      "text/plain": [
       "Training:   0%|          | 0/20 [00:00<?, ?it/s]"
      ]
     },
     "metadata": {},
     "output_type": "display_data"
    },
    {
     "data": {
      "application/vnd.jupyter.widget-view+json": {
       "model_id": "1627467e15ef4d3d9ee33fe42ba2bb5a",
       "version_major": 2,
       "version_minor": 0
      },
      "text/plain": [
       "Evaluating:   0%|          | 0/5 [00:00<?, ?it/s]"
      ]
     },
     "metadata": {},
     "output_type": "display_data"
    },
    {
     "name": "stdout",
     "output_type": "stream",
     "text": [
      "Epoch: 11 | Epoch Time: 0m 3s\n",
      "\tTrain Loss: 0.682 | Train Acc: 58.75%\n",
      "\t Val. Loss: 0.646 |  Val. Acc: 74.38%\n"
     ]
    },
    {
     "data": {
      "application/vnd.jupyter.widget-view+json": {
       "model_id": "1bc185e29b444d4586de6229a6842d1e",
       "version_major": 2,
       "version_minor": 0
      },
      "text/plain": [
       "Training:   0%|          | 0/20 [00:00<?, ?it/s]"
      ]
     },
     "metadata": {},
     "output_type": "display_data"
    },
    {
     "data": {
      "application/vnd.jupyter.widget-view+json": {
       "model_id": "0a06cd66fab8448c80e45f1a0d5c79c8",
       "version_major": 2,
       "version_minor": 0
      },
      "text/plain": [
       "Evaluating:   0%|          | 0/5 [00:00<?, ?it/s]"
      ]
     },
     "metadata": {},
     "output_type": "display_data"
    },
    {
     "name": "stdout",
     "output_type": "stream",
     "text": [
      "Epoch: 12 | Epoch Time: 0m 3s\n",
      "\tTrain Loss: 0.682 | Train Acc: 58.59%\n",
      "\t Val. Loss: 0.610 |  Val. Acc: 74.38%\n"
     ]
    },
    {
     "data": {
      "application/vnd.jupyter.widget-view+json": {
       "model_id": "3efc7f523a364e68b8d547c2e75454cd",
       "version_major": 2,
       "version_minor": 0
      },
      "text/plain": [
       "Training:   0%|          | 0/20 [00:00<?, ?it/s]"
      ]
     },
     "metadata": {},
     "output_type": "display_data"
    },
    {
     "data": {
      "application/vnd.jupyter.widget-view+json": {
       "model_id": "97bd4dd1ca8c4ddcbd4d470d10b57e4f",
       "version_major": 2,
       "version_minor": 0
      },
      "text/plain": [
       "Evaluating:   0%|          | 0/5 [00:00<?, ?it/s]"
      ]
     },
     "metadata": {},
     "output_type": "display_data"
    },
    {
     "name": "stdout",
     "output_type": "stream",
     "text": [
      "Epoch: 13 | Epoch Time: 0m 3s\n",
      "\tTrain Loss: 0.680 | Train Acc: 59.22%\n",
      "\t Val. Loss: 0.612 |  Val. Acc: 74.38%\n"
     ]
    },
    {
     "data": {
      "application/vnd.jupyter.widget-view+json": {
       "model_id": "b87da1b0d0ff4b6d9ac077163e52887f",
       "version_major": 2,
       "version_minor": 0
      },
      "text/plain": [
       "Training:   0%|          | 0/20 [00:00<?, ?it/s]"
      ]
     },
     "metadata": {},
     "output_type": "display_data"
    },
    {
     "data": {
      "application/vnd.jupyter.widget-view+json": {
       "model_id": "28c98faf54e2421fabb437dd9f79f444",
       "version_major": 2,
       "version_minor": 0
      },
      "text/plain": [
       "Evaluating:   0%|          | 0/5 [00:00<?, ?it/s]"
      ]
     },
     "metadata": {},
     "output_type": "display_data"
    },
    {
     "name": "stdout",
     "output_type": "stream",
     "text": [
      "Epoch: 14 | Epoch Time: 0m 3s\n",
      "\tTrain Loss: 0.678 | Train Acc: 59.38%\n",
      "\t Val. Loss: 0.615 |  Val. Acc: 74.38%\n"
     ]
    },
    {
     "data": {
      "application/vnd.jupyter.widget-view+json": {
       "model_id": "a188f734233d470fadd1fd1b754cda22",
       "version_major": 2,
       "version_minor": 0
      },
      "text/plain": [
       "Training:   0%|          | 0/20 [00:00<?, ?it/s]"
      ]
     },
     "metadata": {},
     "output_type": "display_data"
    },
    {
     "data": {
      "application/vnd.jupyter.widget-view+json": {
       "model_id": "2ee48b114fb34aa2bb294d959af7237d",
       "version_major": 2,
       "version_minor": 0
      },
      "text/plain": [
       "Evaluating:   0%|          | 0/5 [00:00<?, ?it/s]"
      ]
     },
     "metadata": {},
     "output_type": "display_data"
    },
    {
     "name": "stdout",
     "output_type": "stream",
     "text": [
      "Epoch: 15 | Epoch Time: 0m 3s\n",
      "\tTrain Loss: 0.680 | Train Acc: 58.91%\n",
      "\t Val. Loss: 0.639 |  Val. Acc: 74.38%\n"
     ]
    },
    {
     "data": {
      "application/vnd.jupyter.widget-view+json": {
       "model_id": "61259e8a359f4943902da9470a6cd89c",
       "version_major": 2,
       "version_minor": 0
      },
      "text/plain": [
       "Training:   0%|          | 0/20 [00:00<?, ?it/s]"
      ]
     },
     "metadata": {},
     "output_type": "display_data"
    },
    {
     "data": {
      "application/vnd.jupyter.widget-view+json": {
       "model_id": "8dffa52f54514ca79d8630b540e0f1c1",
       "version_major": 2,
       "version_minor": 0
      },
      "text/plain": [
       "Evaluating:   0%|          | 0/5 [00:00<?, ?it/s]"
      ]
     },
     "metadata": {},
     "output_type": "display_data"
    },
    {
     "name": "stdout",
     "output_type": "stream",
     "text": [
      "Epoch: 16 | Epoch Time: 0m 3s\n",
      "\tTrain Loss: 0.685 | Train Acc: 58.75%\n",
      "\t Val. Loss: 0.638 |  Val. Acc: 74.38%\n"
     ]
    },
    {
     "data": {
      "application/vnd.jupyter.widget-view+json": {
       "model_id": "5b410d7e4b1c4cc680dd951c9e2548bc",
       "version_major": 2,
       "version_minor": 0
      },
      "text/plain": [
       "Training:   0%|          | 0/20 [00:00<?, ?it/s]"
      ]
     },
     "metadata": {},
     "output_type": "display_data"
    },
    {
     "data": {
      "application/vnd.jupyter.widget-view+json": {
       "model_id": "76c9e13bc555468181607ad822619332",
       "version_major": 2,
       "version_minor": 0
      },
      "text/plain": [
       "Evaluating:   0%|          | 0/5 [00:00<?, ?it/s]"
      ]
     },
     "metadata": {},
     "output_type": "display_data"
    },
    {
     "name": "stdout",
     "output_type": "stream",
     "text": [
      "Epoch: 17 | Epoch Time: 0m 3s\n",
      "\tTrain Loss: 0.681 | Train Acc: 58.75%\n",
      "\t Val. Loss: 0.626 |  Val. Acc: 74.38%\n"
     ]
    },
    {
     "data": {
      "application/vnd.jupyter.widget-view+json": {
       "model_id": "5b40e8fd07d84c6d90ee3a24d2ced821",
       "version_major": 2,
       "version_minor": 0
      },
      "text/plain": [
       "Training:   0%|          | 0/20 [00:00<?, ?it/s]"
      ]
     },
     "metadata": {},
     "output_type": "display_data"
    },
    {
     "data": {
      "application/vnd.jupyter.widget-view+json": {
       "model_id": "1c73ca8f6d474718b3bab5800042bffc",
       "version_major": 2,
       "version_minor": 0
      },
      "text/plain": [
       "Evaluating:   0%|          | 0/5 [00:00<?, ?it/s]"
      ]
     },
     "metadata": {},
     "output_type": "display_data"
    },
    {
     "name": "stdout",
     "output_type": "stream",
     "text": [
      "Epoch: 18 | Epoch Time: 0m 3s\n",
      "\tTrain Loss: 0.677 | Train Acc: 59.22%\n",
      "\t Val. Loss: 0.612 |  Val. Acc: 74.38%\n"
     ]
    },
    {
     "data": {
      "application/vnd.jupyter.widget-view+json": {
       "model_id": "ff0531e0edff4a1592a8f5eee27c315b",
       "version_major": 2,
       "version_minor": 0
      },
      "text/plain": [
       "Training:   0%|          | 0/20 [00:00<?, ?it/s]"
      ]
     },
     "metadata": {},
     "output_type": "display_data"
    },
    {
     "data": {
      "application/vnd.jupyter.widget-view+json": {
       "model_id": "56639739232542689a667b65800baa74",
       "version_major": 2,
       "version_minor": 0
      },
      "text/plain": [
       "Evaluating:   0%|          | 0/5 [00:00<?, ?it/s]"
      ]
     },
     "metadata": {},
     "output_type": "display_data"
    },
    {
     "name": "stdout",
     "output_type": "stream",
     "text": [
      "Epoch: 19 | Epoch Time: 0m 3s\n",
      "\tTrain Loss: 0.678 | Train Acc: 59.38%\n",
      "\t Val. Loss: 0.630 |  Val. Acc: 74.38%\n"
     ]
    },
    {
     "data": {
      "application/vnd.jupyter.widget-view+json": {
       "model_id": "9a0bd271deea4360b426042da2446c69",
       "version_major": 2,
       "version_minor": 0
      },
      "text/plain": [
       "Training:   0%|          | 0/20 [00:00<?, ?it/s]"
      ]
     },
     "metadata": {},
     "output_type": "display_data"
    },
    {
     "data": {
      "application/vnd.jupyter.widget-view+json": {
       "model_id": "2c2e55e7a98c48f0a5a9e7ffbe4a6038",
       "version_major": 2,
       "version_minor": 0
      },
      "text/plain": [
       "Evaluating:   0%|          | 0/5 [00:00<?, ?it/s]"
      ]
     },
     "metadata": {},
     "output_type": "display_data"
    },
    {
     "name": "stdout",
     "output_type": "stream",
     "text": [
      "Epoch: 20 | Epoch Time: 0m 3s\n",
      "\tTrain Loss: 0.677 | Train Acc: 59.22%\n",
      "\t Val. Loss: 0.618 |  Val. Acc: 74.38%\n",
      "\n",
      "Tuning learning rate: 0.001\n"
     ]
    },
    {
     "data": {
      "application/vnd.jupyter.widget-view+json": {
       "model_id": "221228892f7c4d969c3258372a7a670b",
       "version_major": 2,
       "version_minor": 0
      },
      "text/plain": [
       "Epochs:   0%|          | 0/20 [00:00<?, ?it/s]"
      ]
     },
     "metadata": {},
     "output_type": "display_data"
    },
    {
     "data": {
      "application/vnd.jupyter.widget-view+json": {
       "model_id": "ca4f3e3e42a8424d8ab74e5245d23a6f",
       "version_major": 2,
       "version_minor": 0
      },
      "text/plain": [
       "Training:   0%|          | 0/20 [00:00<?, ?it/s]"
      ]
     },
     "metadata": {},
     "output_type": "display_data"
    },
    {
     "data": {
      "application/vnd.jupyter.widget-view+json": {
       "model_id": "ea44a42b95ab45fbaa629ea1731ecc71",
       "version_major": 2,
       "version_minor": 0
      },
      "text/plain": [
       "Evaluating:   0%|          | 0/5 [00:00<?, ?it/s]"
      ]
     },
     "metadata": {},
     "output_type": "display_data"
    },
    {
     "name": "stdout",
     "output_type": "stream",
     "text": [
      "Epoch: 01 | Epoch Time: 0m 3s\n",
      "\tTrain Loss: 18.684 | Train Acc: 50.16%\n",
      "\t Val. Loss: 0.689 |  Val. Acc: 56.88%\n"
     ]
    },
    {
     "data": {
      "application/vnd.jupyter.widget-view+json": {
       "model_id": "9dcca17eab0b48d5a14fac7c0e4824ab",
       "version_major": 2,
       "version_minor": 0
      },
      "text/plain": [
       "Training:   0%|          | 0/20 [00:00<?, ?it/s]"
      ]
     },
     "metadata": {},
     "output_type": "display_data"
    },
    {
     "data": {
      "application/vnd.jupyter.widget-view+json": {
       "model_id": "b066c026c2e44680a2c6789388196314",
       "version_major": 2,
       "version_minor": 0
      },
      "text/plain": [
       "Evaluating:   0%|          | 0/5 [00:00<?, ?it/s]"
      ]
     },
     "metadata": {},
     "output_type": "display_data"
    },
    {
     "name": "stdout",
     "output_type": "stream",
     "text": [
      "Epoch: 02 | Epoch Time: 0m 3s\n",
      "\tTrain Loss: 0.706 | Train Acc: 53.91%\n",
      "\t Val. Loss: 0.672 |  Val. Acc: 76.25%\n"
     ]
    },
    {
     "data": {
      "application/vnd.jupyter.widget-view+json": {
       "model_id": "ad03b76405e846038fc5c9defe0197e2",
       "version_major": 2,
       "version_minor": 0
      },
      "text/plain": [
       "Training:   0%|          | 0/20 [00:00<?, ?it/s]"
      ]
     },
     "metadata": {},
     "output_type": "display_data"
    },
    {
     "data": {
      "application/vnd.jupyter.widget-view+json": {
       "model_id": "4ad505f8efa64d938aa44a6ba39fb669",
       "version_major": 2,
       "version_minor": 0
      },
      "text/plain": [
       "Evaluating:   0%|          | 0/5 [00:00<?, ?it/s]"
      ]
     },
     "metadata": {},
     "output_type": "display_data"
    },
    {
     "name": "stdout",
     "output_type": "stream",
     "text": [
      "Epoch: 03 | Epoch Time: 0m 3s\n",
      "\tTrain Loss: 0.666 | Train Acc: 61.41%\n",
      "\t Val. Loss: 0.671 |  Val. Acc: 73.75%\n"
     ]
    },
    {
     "data": {
      "application/vnd.jupyter.widget-view+json": {
       "model_id": "063de17d24e64d2e997e155903c13bad",
       "version_major": 2,
       "version_minor": 0
      },
      "text/plain": [
       "Training:   0%|          | 0/20 [00:00<?, ?it/s]"
      ]
     },
     "metadata": {},
     "output_type": "display_data"
    },
    {
     "data": {
      "application/vnd.jupyter.widget-view+json": {
       "model_id": "216861f61ad643cf93d1d9790605390b",
       "version_major": 2,
       "version_minor": 0
      },
      "text/plain": [
       "Evaluating:   0%|          | 0/5 [00:00<?, ?it/s]"
      ]
     },
     "metadata": {},
     "output_type": "display_data"
    },
    {
     "name": "stdout",
     "output_type": "stream",
     "text": [
      "Epoch: 04 | Epoch Time: 0m 3s\n",
      "\tTrain Loss: 0.660 | Train Acc: 63.75%\n",
      "\t Val. Loss: 0.626 |  Val. Acc: 75.00%\n"
     ]
    },
    {
     "data": {
      "application/vnd.jupyter.widget-view+json": {
       "model_id": "10d082d7a4ef41f0943e89bcff47ab1b",
       "version_major": 2,
       "version_minor": 0
      },
      "text/plain": [
       "Training:   0%|          | 0/20 [00:00<?, ?it/s]"
      ]
     },
     "metadata": {},
     "output_type": "display_data"
    },
    {
     "data": {
      "application/vnd.jupyter.widget-view+json": {
       "model_id": "937449a64a7f42b196f8d584238a13c1",
       "version_major": 2,
       "version_minor": 0
      },
      "text/plain": [
       "Evaluating:   0%|          | 0/5 [00:00<?, ?it/s]"
      ]
     },
     "metadata": {},
     "output_type": "display_data"
    },
    {
     "name": "stdout",
     "output_type": "stream",
     "text": [
      "Epoch: 05 | Epoch Time: 0m 3s\n",
      "\tTrain Loss: 0.671 | Train Acc: 62.97%\n",
      "\t Val. Loss: 0.613 |  Val. Acc: 76.25%\n"
     ]
    },
    {
     "data": {
      "application/vnd.jupyter.widget-view+json": {
       "model_id": "726dc2235445476ebc6814ddb5525cf7",
       "version_major": 2,
       "version_minor": 0
      },
      "text/plain": [
       "Training:   0%|          | 0/20 [00:00<?, ?it/s]"
      ]
     },
     "metadata": {},
     "output_type": "display_data"
    },
    {
     "data": {
      "application/vnd.jupyter.widget-view+json": {
       "model_id": "be3196965e6d491faf530d4718c3ee91",
       "version_major": 2,
       "version_minor": 0
      },
      "text/plain": [
       "Evaluating:   0%|          | 0/5 [00:00<?, ?it/s]"
      ]
     },
     "metadata": {},
     "output_type": "display_data"
    },
    {
     "name": "stdout",
     "output_type": "stream",
     "text": [
      "Epoch: 06 | Epoch Time: 0m 3s\n",
      "\tTrain Loss: 0.659 | Train Acc: 62.50%\n",
      "\t Val. Loss: 0.616 |  Val. Acc: 75.62%\n"
     ]
    },
    {
     "data": {
      "application/vnd.jupyter.widget-view+json": {
       "model_id": "478838dc93bf453aa1555dcb2acd7252",
       "version_major": 2,
       "version_minor": 0
      },
      "text/plain": [
       "Training:   0%|          | 0/20 [00:00<?, ?it/s]"
      ]
     },
     "metadata": {},
     "output_type": "display_data"
    },
    {
     "data": {
      "application/vnd.jupyter.widget-view+json": {
       "model_id": "bf228c644b8a4ec186a25e4c52c2c77d",
       "version_major": 2,
       "version_minor": 0
      },
      "text/plain": [
       "Evaluating:   0%|          | 0/5 [00:00<?, ?it/s]"
      ]
     },
     "metadata": {},
     "output_type": "display_data"
    },
    {
     "name": "stdout",
     "output_type": "stream",
     "text": [
      "Epoch: 07 | Epoch Time: 0m 3s\n",
      "\tTrain Loss: 0.628 | Train Acc: 66.56%\n",
      "\t Val. Loss: 0.645 |  Val. Acc: 66.88%\n"
     ]
    },
    {
     "data": {
      "application/vnd.jupyter.widget-view+json": {
       "model_id": "56dbaf4ee7ff45f2be7d5221f556b7a4",
       "version_major": 2,
       "version_minor": 0
      },
      "text/plain": [
       "Training:   0%|          | 0/20 [00:00<?, ?it/s]"
      ]
     },
     "metadata": {},
     "output_type": "display_data"
    },
    {
     "data": {
      "application/vnd.jupyter.widget-view+json": {
       "model_id": "a0b1f416835943eba1a0ffc1f9d5a953",
       "version_major": 2,
       "version_minor": 0
      },
      "text/plain": [
       "Evaluating:   0%|          | 0/5 [00:00<?, ?it/s]"
      ]
     },
     "metadata": {},
     "output_type": "display_data"
    },
    {
     "name": "stdout",
     "output_type": "stream",
     "text": [
      "Epoch: 08 | Epoch Time: 0m 3s\n",
      "\tTrain Loss: 0.583 | Train Acc: 70.00%\n",
      "\t Val. Loss: 0.592 |  Val. Acc: 76.88%\n"
     ]
    },
    {
     "data": {
      "application/vnd.jupyter.widget-view+json": {
       "model_id": "dda3b89168494d90a83b0b4bfe83d1c6",
       "version_major": 2,
       "version_minor": 0
      },
      "text/plain": [
       "Training:   0%|          | 0/20 [00:00<?, ?it/s]"
      ]
     },
     "metadata": {},
     "output_type": "display_data"
    },
    {
     "data": {
      "application/vnd.jupyter.widget-view+json": {
       "model_id": "a93d390f94324e769133bf1e508df64c",
       "version_major": 2,
       "version_minor": 0
      },
      "text/plain": [
       "Evaluating:   0%|          | 0/5 [00:00<?, ?it/s]"
      ]
     },
     "metadata": {},
     "output_type": "display_data"
    },
    {
     "name": "stdout",
     "output_type": "stream",
     "text": [
      "Epoch: 09 | Epoch Time: 0m 3s\n",
      "\tTrain Loss: 0.611 | Train Acc: 67.81%\n",
      "\t Val. Loss: 0.515 |  Val. Acc: 75.62%\n"
     ]
    },
    {
     "data": {
      "application/vnd.jupyter.widget-view+json": {
       "model_id": "c5353be4e34e4aa2b54034e392cce00c",
       "version_major": 2,
       "version_minor": 0
      },
      "text/plain": [
       "Training:   0%|          | 0/20 [00:00<?, ?it/s]"
      ]
     },
     "metadata": {},
     "output_type": "display_data"
    },
    {
     "data": {
      "application/vnd.jupyter.widget-view+json": {
       "model_id": "1be49e15e64b43a8a9be5746ccecdbd9",
       "version_major": 2,
       "version_minor": 0
      },
      "text/plain": [
       "Evaluating:   0%|          | 0/5 [00:00<?, ?it/s]"
      ]
     },
     "metadata": {},
     "output_type": "display_data"
    },
    {
     "name": "stdout",
     "output_type": "stream",
     "text": [
      "Epoch: 10 | Epoch Time: 0m 3s\n",
      "\tTrain Loss: 0.611 | Train Acc: 69.53%\n",
      "\t Val. Loss: 0.595 |  Val. Acc: 76.25%\n"
     ]
    },
    {
     "data": {
      "application/vnd.jupyter.widget-view+json": {
       "model_id": "6d056ce5e0be4d0fa991f50c7dd5dd8e",
       "version_major": 2,
       "version_minor": 0
      },
      "text/plain": [
       "Training:   0%|          | 0/20 [00:00<?, ?it/s]"
      ]
     },
     "metadata": {},
     "output_type": "display_data"
    },
    {
     "data": {
      "application/vnd.jupyter.widget-view+json": {
       "model_id": "c02ad3f58c0e4bd99e7ea154a2bf9872",
       "version_major": 2,
       "version_minor": 0
      },
      "text/plain": [
       "Evaluating:   0%|          | 0/5 [00:00<?, ?it/s]"
      ]
     },
     "metadata": {},
     "output_type": "display_data"
    },
    {
     "name": "stdout",
     "output_type": "stream",
     "text": [
      "Epoch: 11 | Epoch Time: 0m 3s\n",
      "\tTrain Loss: 0.552 | Train Acc: 71.56%\n",
      "\t Val. Loss: 0.630 |  Val. Acc: 65.00%\n"
     ]
    },
    {
     "data": {
      "application/vnd.jupyter.widget-view+json": {
       "model_id": "2f569a3f1e90491f8c738e071e45a25a",
       "version_major": 2,
       "version_minor": 0
      },
      "text/plain": [
       "Training:   0%|          | 0/20 [00:00<?, ?it/s]"
      ]
     },
     "metadata": {},
     "output_type": "display_data"
    },
    {
     "data": {
      "application/vnd.jupyter.widget-view+json": {
       "model_id": "79c341a63dc6420899b15ad74801fe83",
       "version_major": 2,
       "version_minor": 0
      },
      "text/plain": [
       "Evaluating:   0%|          | 0/5 [00:00<?, ?it/s]"
      ]
     },
     "metadata": {},
     "output_type": "display_data"
    },
    {
     "name": "stdout",
     "output_type": "stream",
     "text": [
      "Epoch: 12 | Epoch Time: 0m 3s\n",
      "\tTrain Loss: 0.554 | Train Acc: 73.75%\n",
      "\t Val. Loss: 0.502 |  Val. Acc: 76.25%\n"
     ]
    },
    {
     "data": {
      "application/vnd.jupyter.widget-view+json": {
       "model_id": "dfbf0192f0044379a63558dff697b66e",
       "version_major": 2,
       "version_minor": 0
      },
      "text/plain": [
       "Training:   0%|          | 0/20 [00:00<?, ?it/s]"
      ]
     },
     "metadata": {},
     "output_type": "display_data"
    },
    {
     "data": {
      "application/vnd.jupyter.widget-view+json": {
       "model_id": "9a6edcc641ab443aaf6ccb86c8c4560f",
       "version_major": 2,
       "version_minor": 0
      },
      "text/plain": [
       "Evaluating:   0%|          | 0/5 [00:00<?, ?it/s]"
      ]
     },
     "metadata": {},
     "output_type": "display_data"
    },
    {
     "name": "stdout",
     "output_type": "stream",
     "text": [
      "Epoch: 13 | Epoch Time: 0m 3s\n",
      "\tTrain Loss: 0.541 | Train Acc: 73.28%\n",
      "\t Val. Loss: 0.547 |  Val. Acc: 72.50%\n"
     ]
    },
    {
     "data": {
      "application/vnd.jupyter.widget-view+json": {
       "model_id": "c2c6823c540c4c84830dde4a08097fb9",
       "version_major": 2,
       "version_minor": 0
      },
      "text/plain": [
       "Training:   0%|          | 0/20 [00:00<?, ?it/s]"
      ]
     },
     "metadata": {},
     "output_type": "display_data"
    },
    {
     "data": {
      "application/vnd.jupyter.widget-view+json": {
       "model_id": "777ca66d3e8841518cf4d3a77b24a366",
       "version_major": 2,
       "version_minor": 0
      },
      "text/plain": [
       "Evaluating:   0%|          | 0/5 [00:00<?, ?it/s]"
      ]
     },
     "metadata": {},
     "output_type": "display_data"
    },
    {
     "name": "stdout",
     "output_type": "stream",
     "text": [
      "Epoch: 14 | Epoch Time: 0m 3s\n",
      "\tTrain Loss: 0.555 | Train Acc: 74.06%\n",
      "\t Val. Loss: 0.556 |  Val. Acc: 69.38%\n"
     ]
    },
    {
     "data": {
      "application/vnd.jupyter.widget-view+json": {
       "model_id": "37b82b2192384566b94362b13a6dcc56",
       "version_major": 2,
       "version_minor": 0
      },
      "text/plain": [
       "Training:   0%|          | 0/20 [00:00<?, ?it/s]"
      ]
     },
     "metadata": {},
     "output_type": "display_data"
    },
    {
     "data": {
      "application/vnd.jupyter.widget-view+json": {
       "model_id": "68c858194acd4c3eb0b980a9098233b8",
       "version_major": 2,
       "version_minor": 0
      },
      "text/plain": [
       "Evaluating:   0%|          | 0/5 [00:00<?, ?it/s]"
      ]
     },
     "metadata": {},
     "output_type": "display_data"
    },
    {
     "name": "stdout",
     "output_type": "stream",
     "text": [
      "Epoch: 15 | Epoch Time: 0m 3s\n",
      "\tTrain Loss: 0.544 | Train Acc: 72.19%\n",
      "\t Val. Loss: 0.459 |  Val. Acc: 82.50%\n"
     ]
    },
    {
     "data": {
      "application/vnd.jupyter.widget-view+json": {
       "model_id": "2d05b0259b0d4d939d463526da528f41",
       "version_major": 2,
       "version_minor": 0
      },
      "text/plain": [
       "Training:   0%|          | 0/20 [00:00<?, ?it/s]"
      ]
     },
     "metadata": {},
     "output_type": "display_data"
    },
    {
     "data": {
      "application/vnd.jupyter.widget-view+json": {
       "model_id": "0d531e4fe34c48fdbb731b5df556441a",
       "version_major": 2,
       "version_minor": 0
      },
      "text/plain": [
       "Evaluating:   0%|          | 0/5 [00:00<?, ?it/s]"
      ]
     },
     "metadata": {},
     "output_type": "display_data"
    },
    {
     "name": "stdout",
     "output_type": "stream",
     "text": [
      "Epoch: 16 | Epoch Time: 0m 3s\n",
      "\tTrain Loss: 0.514 | Train Acc: 76.72%\n",
      "\t Val. Loss: 0.549 |  Val. Acc: 68.75%\n"
     ]
    },
    {
     "data": {
      "application/vnd.jupyter.widget-view+json": {
       "model_id": "677e52e8a0814e87bd24059cb1a4ddc5",
       "version_major": 2,
       "version_minor": 0
      },
      "text/plain": [
       "Training:   0%|          | 0/20 [00:00<?, ?it/s]"
      ]
     },
     "metadata": {},
     "output_type": "display_data"
    },
    {
     "data": {
      "application/vnd.jupyter.widget-view+json": {
       "model_id": "8785ed5085d644c89ca983c33c403a34",
       "version_major": 2,
       "version_minor": 0
      },
      "text/plain": [
       "Evaluating:   0%|          | 0/5 [00:00<?, ?it/s]"
      ]
     },
     "metadata": {},
     "output_type": "display_data"
    },
    {
     "name": "stdout",
     "output_type": "stream",
     "text": [
      "Epoch: 17 | Epoch Time: 0m 3s\n",
      "\tTrain Loss: 0.521 | Train Acc: 75.00%\n",
      "\t Val. Loss: 0.462 |  Val. Acc: 83.75%\n"
     ]
    },
    {
     "data": {
      "application/vnd.jupyter.widget-view+json": {
       "model_id": "2763bf6a7b2a46548496438d57c9f536",
       "version_major": 2,
       "version_minor": 0
      },
      "text/plain": [
       "Training:   0%|          | 0/20 [00:00<?, ?it/s]"
      ]
     },
     "metadata": {},
     "output_type": "display_data"
    },
    {
     "data": {
      "application/vnd.jupyter.widget-view+json": {
       "model_id": "6b7e56ecc2bd4dc3bd639a57cfdfdc60",
       "version_major": 2,
       "version_minor": 0
      },
      "text/plain": [
       "Evaluating:   0%|          | 0/5 [00:00<?, ?it/s]"
      ]
     },
     "metadata": {},
     "output_type": "display_data"
    },
    {
     "name": "stdout",
     "output_type": "stream",
     "text": [
      "Epoch: 18 | Epoch Time: 0m 3s\n",
      "\tTrain Loss: 0.473 | Train Acc: 77.97%\n",
      "\t Val. Loss: 0.416 |  Val. Acc: 81.88%\n"
     ]
    },
    {
     "data": {
      "application/vnd.jupyter.widget-view+json": {
       "model_id": "10f25b4e8e0b48d0b5fbdca7cb029fc6",
       "version_major": 2,
       "version_minor": 0
      },
      "text/plain": [
       "Training:   0%|          | 0/20 [00:00<?, ?it/s]"
      ]
     },
     "metadata": {},
     "output_type": "display_data"
    },
    {
     "data": {
      "application/vnd.jupyter.widget-view+json": {
       "model_id": "31d98654bc954db6b761bc136bf26ca3",
       "version_major": 2,
       "version_minor": 0
      },
      "text/plain": [
       "Evaluating:   0%|          | 0/5 [00:00<?, ?it/s]"
      ]
     },
     "metadata": {},
     "output_type": "display_data"
    },
    {
     "name": "stdout",
     "output_type": "stream",
     "text": [
      "Epoch: 19 | Epoch Time: 0m 3s\n",
      "\tTrain Loss: 0.518 | Train Acc: 75.31%\n",
      "\t Val. Loss: 0.438 |  Val. Acc: 79.38%\n"
     ]
    },
    {
     "data": {
      "application/vnd.jupyter.widget-view+json": {
       "model_id": "dccff0e934274bf6bab19f6a30d61359",
       "version_major": 2,
       "version_minor": 0
      },
      "text/plain": [
       "Training:   0%|          | 0/20 [00:00<?, ?it/s]"
      ]
     },
     "metadata": {},
     "output_type": "display_data"
    },
    {
     "data": {
      "application/vnd.jupyter.widget-view+json": {
       "model_id": "e1802ad8ec22469d8b8b95bd654c45d9",
       "version_major": 2,
       "version_minor": 0
      },
      "text/plain": [
       "Evaluating:   0%|          | 0/5 [00:00<?, ?it/s]"
      ]
     },
     "metadata": {},
     "output_type": "display_data"
    },
    {
     "name": "stdout",
     "output_type": "stream",
     "text": [
      "Epoch: 20 | Epoch Time: 0m 3s\n",
      "\tTrain Loss: 0.480 | Train Acc: 77.66%\n",
      "\t Val. Loss: 0.410 |  Val. Acc: 81.88%\n",
      "\n",
      "Tuning learning rate: 0.0001\n"
     ]
    },
    {
     "data": {
      "application/vnd.jupyter.widget-view+json": {
       "model_id": "5551a1a993f34b3b89b7531676571f14",
       "version_major": 2,
       "version_minor": 0
      },
      "text/plain": [
       "Epochs:   0%|          | 0/20 [00:00<?, ?it/s]"
      ]
     },
     "metadata": {},
     "output_type": "display_data"
    },
    {
     "data": {
      "application/vnd.jupyter.widget-view+json": {
       "model_id": "8163994fcf2843bdb187a910e0216d16",
       "version_major": 2,
       "version_minor": 0
      },
      "text/plain": [
       "Training:   0%|          | 0/20 [00:00<?, ?it/s]"
      ]
     },
     "metadata": {},
     "output_type": "display_data"
    },
    {
     "data": {
      "application/vnd.jupyter.widget-view+json": {
       "model_id": "5658dace08e94058ad88c42f68110c1e",
       "version_major": 2,
       "version_minor": 0
      },
      "text/plain": [
       "Evaluating:   0%|          | 0/5 [00:00<?, ?it/s]"
      ]
     },
     "metadata": {},
     "output_type": "display_data"
    },
    {
     "name": "stdout",
     "output_type": "stream",
     "text": [
      "Epoch: 01 | Epoch Time: 0m 3s\n",
      "\tTrain Loss: 5.059 | Train Acc: 51.72%\n",
      "\t Val. Loss: 1.005 |  Val. Acc: 41.88%\n"
     ]
    },
    {
     "data": {
      "application/vnd.jupyter.widget-view+json": {
       "model_id": "bc09af4c48c74365b26e9c0d68919de4",
       "version_major": 2,
       "version_minor": 0
      },
      "text/plain": [
       "Training:   0%|          | 0/20 [00:00<?, ?it/s]"
      ]
     },
     "metadata": {},
     "output_type": "display_data"
    },
    {
     "data": {
      "application/vnd.jupyter.widget-view+json": {
       "model_id": "5d82c77fc76741abbd8aa458daca4168",
       "version_major": 2,
       "version_minor": 0
      },
      "text/plain": [
       "Evaluating:   0%|          | 0/5 [00:00<?, ?it/s]"
      ]
     },
     "metadata": {},
     "output_type": "display_data"
    },
    {
     "name": "stdout",
     "output_type": "stream",
     "text": [
      "Epoch: 02 | Epoch Time: 0m 3s\n",
      "\tTrain Loss: 1.852 | Train Acc: 55.78%\n",
      "\t Val. Loss: 2.038 |  Val. Acc: 25.62%\n"
     ]
    },
    {
     "data": {
      "application/vnd.jupyter.widget-view+json": {
       "model_id": "d47ed93efe4a46cbadbd6900c2e6d2bc",
       "version_major": 2,
       "version_minor": 0
      },
      "text/plain": [
       "Training:   0%|          | 0/20 [00:00<?, ?it/s]"
      ]
     },
     "metadata": {},
     "output_type": "display_data"
    },
    {
     "data": {
      "application/vnd.jupyter.widget-view+json": {
       "model_id": "b0f4f53f198d47699cf3bfdac2b1d11b",
       "version_major": 2,
       "version_minor": 0
      },
      "text/plain": [
       "Evaluating:   0%|          | 0/5 [00:00<?, ?it/s]"
      ]
     },
     "metadata": {},
     "output_type": "display_data"
    },
    {
     "name": "stdout",
     "output_type": "stream",
     "text": [
      "Epoch: 03 | Epoch Time: 0m 3s\n",
      "\tTrain Loss: 1.396 | Train Acc: 58.13%\n",
      "\t Val. Loss: 0.977 |  Val. Acc: 36.88%\n"
     ]
    },
    {
     "data": {
      "application/vnd.jupyter.widget-view+json": {
       "model_id": "ab2cf6e18de64247bfcb7857876ab56f",
       "version_major": 2,
       "version_minor": 0
      },
      "text/plain": [
       "Training:   0%|          | 0/20 [00:00<?, ?it/s]"
      ]
     },
     "metadata": {},
     "output_type": "display_data"
    },
    {
     "data": {
      "application/vnd.jupyter.widget-view+json": {
       "model_id": "a3f5e5fe9b7743efa7b808844768cfb3",
       "version_major": 2,
       "version_minor": 0
      },
      "text/plain": [
       "Evaluating:   0%|          | 0/5 [00:00<?, ?it/s]"
      ]
     },
     "metadata": {},
     "output_type": "display_data"
    },
    {
     "name": "stdout",
     "output_type": "stream",
     "text": [
      "Epoch: 04 | Epoch Time: 0m 3s\n",
      "\tTrain Loss: 0.944 | Train Acc: 59.22%\n",
      "\t Val. Loss: 1.040 |  Val. Acc: 31.87%\n"
     ]
    },
    {
     "data": {
      "application/vnd.jupyter.widget-view+json": {
       "model_id": "ab14867e0fe84886a752111264fcbe92",
       "version_major": 2,
       "version_minor": 0
      },
      "text/plain": [
       "Training:   0%|          | 0/20 [00:00<?, ?it/s]"
      ]
     },
     "metadata": {},
     "output_type": "display_data"
    },
    {
     "data": {
      "application/vnd.jupyter.widget-view+json": {
       "model_id": "2b2a2d0638c142b5981945b54155fc92",
       "version_major": 2,
       "version_minor": 0
      },
      "text/plain": [
       "Evaluating:   0%|          | 0/5 [00:00<?, ?it/s]"
      ]
     },
     "metadata": {},
     "output_type": "display_data"
    },
    {
     "name": "stdout",
     "output_type": "stream",
     "text": [
      "Epoch: 05 | Epoch Time: 0m 3s\n",
      "\tTrain Loss: 0.914 | Train Acc: 58.59%\n",
      "\t Val. Loss: 0.547 |  Val. Acc: 72.50%\n"
     ]
    },
    {
     "data": {
      "application/vnd.jupyter.widget-view+json": {
       "model_id": "c230ad7af1cf4611a53d74f362f92dce",
       "version_major": 2,
       "version_minor": 0
      },
      "text/plain": [
       "Training:   0%|          | 0/20 [00:00<?, ?it/s]"
      ]
     },
     "metadata": {},
     "output_type": "display_data"
    },
    {
     "data": {
      "application/vnd.jupyter.widget-view+json": {
       "model_id": "8cb4f86eb2ae414abf197c61605469c1",
       "version_major": 2,
       "version_minor": 0
      },
      "text/plain": [
       "Evaluating:   0%|          | 0/5 [00:00<?, ?it/s]"
      ]
     },
     "metadata": {},
     "output_type": "display_data"
    },
    {
     "name": "stdout",
     "output_type": "stream",
     "text": [
      "Epoch: 06 | Epoch Time: 0m 3s\n",
      "\tTrain Loss: 0.854 | Train Acc: 60.94%\n",
      "\t Val. Loss: 0.683 |  Val. Acc: 64.38%\n"
     ]
    },
    {
     "data": {
      "application/vnd.jupyter.widget-view+json": {
       "model_id": "52d766fa0ae84cc3ae25f1dffdc1af28",
       "version_major": 2,
       "version_minor": 0
      },
      "text/plain": [
       "Training:   0%|          | 0/20 [00:00<?, ?it/s]"
      ]
     },
     "metadata": {},
     "output_type": "display_data"
    },
    {
     "data": {
      "application/vnd.jupyter.widget-view+json": {
       "model_id": "729de0b44024413d9ea00a43afd09979",
       "version_major": 2,
       "version_minor": 0
      },
      "text/plain": [
       "Evaluating:   0%|          | 0/5 [00:00<?, ?it/s]"
      ]
     },
     "metadata": {},
     "output_type": "display_data"
    },
    {
     "name": "stdout",
     "output_type": "stream",
     "text": [
      "Epoch: 07 | Epoch Time: 0m 3s\n",
      "\tTrain Loss: 0.705 | Train Acc: 67.19%\n",
      "\t Val. Loss: 0.618 |  Val. Acc: 66.88%\n"
     ]
    },
    {
     "data": {
      "application/vnd.jupyter.widget-view+json": {
       "model_id": "489813ea81af44459af9ee3641c4fbce",
       "version_major": 2,
       "version_minor": 0
      },
      "text/plain": [
       "Training:   0%|          | 0/20 [00:00<?, ?it/s]"
      ]
     },
     "metadata": {},
     "output_type": "display_data"
    },
    {
     "data": {
      "application/vnd.jupyter.widget-view+json": {
       "model_id": "4347b3f6eca44eb486cfcc24bb60020c",
       "version_major": 2,
       "version_minor": 0
      },
      "text/plain": [
       "Evaluating:   0%|          | 0/5 [00:00<?, ?it/s]"
      ]
     },
     "metadata": {},
     "output_type": "display_data"
    },
    {
     "name": "stdout",
     "output_type": "stream",
     "text": [
      "Epoch: 08 | Epoch Time: 0m 3s\n",
      "\tTrain Loss: 0.772 | Train Acc: 62.66%\n",
      "\t Val. Loss: 0.746 |  Val. Acc: 59.38%\n"
     ]
    },
    {
     "data": {
      "application/vnd.jupyter.widget-view+json": {
       "model_id": "a5b19ad6b5044d3f855e6781e510a004",
       "version_major": 2,
       "version_minor": 0
      },
      "text/plain": [
       "Training:   0%|          | 0/20 [00:00<?, ?it/s]"
      ]
     },
     "metadata": {},
     "output_type": "display_data"
    },
    {
     "data": {
      "application/vnd.jupyter.widget-view+json": {
       "model_id": "0f8d6546df6044c2a3b542f0cf3d43b7",
       "version_major": 2,
       "version_minor": 0
      },
      "text/plain": [
       "Evaluating:   0%|          | 0/5 [00:00<?, ?it/s]"
      ]
     },
     "metadata": {},
     "output_type": "display_data"
    },
    {
     "name": "stdout",
     "output_type": "stream",
     "text": [
      "Epoch: 09 | Epoch Time: 0m 3s\n",
      "\tTrain Loss: 0.768 | Train Acc: 63.91%\n",
      "\t Val. Loss: 0.673 |  Val. Acc: 67.50%\n"
     ]
    },
    {
     "data": {
      "application/vnd.jupyter.widget-view+json": {
       "model_id": "d562bc1d94e84293b03b4003f53cd754",
       "version_major": 2,
       "version_minor": 0
      },
      "text/plain": [
       "Training:   0%|          | 0/20 [00:00<?, ?it/s]"
      ]
     },
     "metadata": {},
     "output_type": "display_data"
    },
    {
     "data": {
      "application/vnd.jupyter.widget-view+json": {
       "model_id": "5f9fabb8f1294f43b7fede9a38a4f51b",
       "version_major": 2,
       "version_minor": 0
      },
      "text/plain": [
       "Evaluating:   0%|          | 0/5 [00:00<?, ?it/s]"
      ]
     },
     "metadata": {},
     "output_type": "display_data"
    },
    {
     "name": "stdout",
     "output_type": "stream",
     "text": [
      "Epoch: 10 | Epoch Time: 0m 3s\n",
      "\tTrain Loss: 0.714 | Train Acc: 64.69%\n",
      "\t Val. Loss: 0.630 |  Val. Acc: 70.62%\n"
     ]
    },
    {
     "data": {
      "application/vnd.jupyter.widget-view+json": {
       "model_id": "931ee1c26f5a44899e07157260ee138e",
       "version_major": 2,
       "version_minor": 0
      },
      "text/plain": [
       "Training:   0%|          | 0/20 [00:00<?, ?it/s]"
      ]
     },
     "metadata": {},
     "output_type": "display_data"
    },
    {
     "data": {
      "application/vnd.jupyter.widget-view+json": {
       "model_id": "be2ea6dba4e44f77a1ad0237d33603bd",
       "version_major": 2,
       "version_minor": 0
      },
      "text/plain": [
       "Evaluating:   0%|          | 0/5 [00:00<?, ?it/s]"
      ]
     },
     "metadata": {},
     "output_type": "display_data"
    },
    {
     "name": "stdout",
     "output_type": "stream",
     "text": [
      "Epoch: 11 | Epoch Time: 0m 3s\n",
      "\tTrain Loss: 0.626 | Train Acc: 68.59%\n",
      "\t Val. Loss: 0.682 |  Val. Acc: 66.25%\n"
     ]
    },
    {
     "data": {
      "application/vnd.jupyter.widget-view+json": {
       "model_id": "385b574bfc0b4e5e932e609c34db8271",
       "version_major": 2,
       "version_minor": 0
      },
      "text/plain": [
       "Training:   0%|          | 0/20 [00:00<?, ?it/s]"
      ]
     },
     "metadata": {},
     "output_type": "display_data"
    },
    {
     "data": {
      "application/vnd.jupyter.widget-view+json": {
       "model_id": "520810cb9142482e9a2e779ca9da1bba",
       "version_major": 2,
       "version_minor": 0
      },
      "text/plain": [
       "Evaluating:   0%|          | 0/5 [00:00<?, ?it/s]"
      ]
     },
     "metadata": {},
     "output_type": "display_data"
    },
    {
     "name": "stdout",
     "output_type": "stream",
     "text": [
      "Epoch: 12 | Epoch Time: 0m 3s\n",
      "\tTrain Loss: 0.705 | Train Acc: 66.25%\n",
      "\t Val. Loss: 0.801 |  Val. Acc: 53.75%\n"
     ]
    },
    {
     "data": {
      "application/vnd.jupyter.widget-view+json": {
       "model_id": "34fc41c17f2f4c08ae9787cbc3229778",
       "version_major": 2,
       "version_minor": 0
      },
      "text/plain": [
       "Training:   0%|          | 0/20 [00:00<?, ?it/s]"
      ]
     },
     "metadata": {},
     "output_type": "display_data"
    },
    {
     "data": {
      "application/vnd.jupyter.widget-view+json": {
       "model_id": "4be5adba0dc441428c2e446787a3dbb7",
       "version_major": 2,
       "version_minor": 0
      },
      "text/plain": [
       "Evaluating:   0%|          | 0/5 [00:00<?, ?it/s]"
      ]
     },
     "metadata": {},
     "output_type": "display_data"
    },
    {
     "name": "stdout",
     "output_type": "stream",
     "text": [
      "Epoch: 13 | Epoch Time: 0m 3s\n",
      "\tTrain Loss: 0.799 | Train Acc: 61.72%\n",
      "\t Val. Loss: 0.498 |  Val. Acc: 80.00%\n"
     ]
    },
    {
     "data": {
      "application/vnd.jupyter.widget-view+json": {
       "model_id": "5683d4616d70483a954accc8ba0913dd",
       "version_major": 2,
       "version_minor": 0
      },
      "text/plain": [
       "Training:   0%|          | 0/20 [00:00<?, ?it/s]"
      ]
     },
     "metadata": {},
     "output_type": "display_data"
    },
    {
     "data": {
      "application/vnd.jupyter.widget-view+json": {
       "model_id": "2f439292f8494ee4aeec26cfade76109",
       "version_major": 2,
       "version_minor": 0
      },
      "text/plain": [
       "Evaluating:   0%|          | 0/5 [00:00<?, ?it/s]"
      ]
     },
     "metadata": {},
     "output_type": "display_data"
    },
    {
     "name": "stdout",
     "output_type": "stream",
     "text": [
      "Epoch: 14 | Epoch Time: 0m 3s\n",
      "\tTrain Loss: 0.644 | Train Acc: 67.03%\n",
      "\t Val. Loss: 0.601 |  Val. Acc: 71.88%\n"
     ]
    },
    {
     "data": {
      "application/vnd.jupyter.widget-view+json": {
       "model_id": "966486714ced40a7888f2924dcc7e647",
       "version_major": 2,
       "version_minor": 0
      },
      "text/plain": [
       "Training:   0%|          | 0/20 [00:00<?, ?it/s]"
      ]
     },
     "metadata": {},
     "output_type": "display_data"
    },
    {
     "data": {
      "application/vnd.jupyter.widget-view+json": {
       "model_id": "3b02db22407d4994883a499264d1d96a",
       "version_major": 2,
       "version_minor": 0
      },
      "text/plain": [
       "Evaluating:   0%|          | 0/5 [00:00<?, ?it/s]"
      ]
     },
     "metadata": {},
     "output_type": "display_data"
    },
    {
     "name": "stdout",
     "output_type": "stream",
     "text": [
      "Epoch: 15 | Epoch Time: 0m 3s\n",
      "\tTrain Loss: 0.590 | Train Acc: 71.56%\n",
      "\t Val. Loss: 0.555 |  Val. Acc: 75.62%\n"
     ]
    },
    {
     "data": {
      "application/vnd.jupyter.widget-view+json": {
       "model_id": "55376f8f74544708bec4bdead2fe061a",
       "version_major": 2,
       "version_minor": 0
      },
      "text/plain": [
       "Training:   0%|          | 0/20 [00:00<?, ?it/s]"
      ]
     },
     "metadata": {},
     "output_type": "display_data"
    },
    {
     "data": {
      "application/vnd.jupyter.widget-view+json": {
       "model_id": "30ac528be7a94f349521ddd7abb0cefc",
       "version_major": 2,
       "version_minor": 0
      },
      "text/plain": [
       "Evaluating:   0%|          | 0/5 [00:00<?, ?it/s]"
      ]
     },
     "metadata": {},
     "output_type": "display_data"
    },
    {
     "name": "stdout",
     "output_type": "stream",
     "text": [
      "Epoch: 16 | Epoch Time: 0m 3s\n",
      "\tTrain Loss: 0.609 | Train Acc: 72.03%\n",
      "\t Val. Loss: 0.492 |  Val. Acc: 78.75%\n"
     ]
    },
    {
     "data": {
      "application/vnd.jupyter.widget-view+json": {
       "model_id": "f4698bcd6d0542ff94c6bd757b199f75",
       "version_major": 2,
       "version_minor": 0
      },
      "text/plain": [
       "Training:   0%|          | 0/20 [00:00<?, ?it/s]"
      ]
     },
     "metadata": {},
     "output_type": "display_data"
    },
    {
     "data": {
      "application/vnd.jupyter.widget-view+json": {
       "model_id": "37723fa6b6094da1999e9c731da92a55",
       "version_major": 2,
       "version_minor": 0
      },
      "text/plain": [
       "Evaluating:   0%|          | 0/5 [00:00<?, ?it/s]"
      ]
     },
     "metadata": {},
     "output_type": "display_data"
    },
    {
     "name": "stdout",
     "output_type": "stream",
     "text": [
      "Epoch: 17 | Epoch Time: 0m 3s\n",
      "\tTrain Loss: 0.595 | Train Acc: 71.09%\n",
      "\t Val. Loss: 0.683 |  Val. Acc: 65.62%\n"
     ]
    },
    {
     "data": {
      "application/vnd.jupyter.widget-view+json": {
       "model_id": "e2f38c57876d4672ad811b004746ca49",
       "version_major": 2,
       "version_minor": 0
      },
      "text/plain": [
       "Training:   0%|          | 0/20 [00:00<?, ?it/s]"
      ]
     },
     "metadata": {},
     "output_type": "display_data"
    },
    {
     "data": {
      "application/vnd.jupyter.widget-view+json": {
       "model_id": "ff1f1206cbd740949791fe91f8bbc3a2",
       "version_major": 2,
       "version_minor": 0
      },
      "text/plain": [
       "Evaluating:   0%|          | 0/5 [00:00<?, ?it/s]"
      ]
     },
     "metadata": {},
     "output_type": "display_data"
    },
    {
     "name": "stdout",
     "output_type": "stream",
     "text": [
      "Epoch: 18 | Epoch Time: 0m 3s\n",
      "\tTrain Loss: 0.621 | Train Acc: 70.16%\n",
      "\t Val. Loss: 0.729 |  Val. Acc: 60.62%\n"
     ]
    },
    {
     "data": {
      "application/vnd.jupyter.widget-view+json": {
       "model_id": "42c4a29fe454412783987d735659a173",
       "version_major": 2,
       "version_minor": 0
      },
      "text/plain": [
       "Training:   0%|          | 0/20 [00:00<?, ?it/s]"
      ]
     },
     "metadata": {},
     "output_type": "display_data"
    },
    {
     "data": {
      "application/vnd.jupyter.widget-view+json": {
       "model_id": "535372800f924448949d11755f2be4bc",
       "version_major": 2,
       "version_minor": 0
      },
      "text/plain": [
       "Evaluating:   0%|          | 0/5 [00:00<?, ?it/s]"
      ]
     },
     "metadata": {},
     "output_type": "display_data"
    },
    {
     "name": "stdout",
     "output_type": "stream",
     "text": [
      "Epoch: 19 | Epoch Time: 0m 3s\n",
      "\tTrain Loss: 0.628 | Train Acc: 69.84%\n",
      "\t Val. Loss: 0.507 |  Val. Acc: 78.12%\n"
     ]
    },
    {
     "data": {
      "application/vnd.jupyter.widget-view+json": {
       "model_id": "9fd9e32a31534e21be3f43c4db4cb3be",
       "version_major": 2,
       "version_minor": 0
      },
      "text/plain": [
       "Training:   0%|          | 0/20 [00:00<?, ?it/s]"
      ]
     },
     "metadata": {},
     "output_type": "display_data"
    },
    {
     "data": {
      "application/vnd.jupyter.widget-view+json": {
       "model_id": "37e08d3a7ead4293afc30de3b52d7b89",
       "version_major": 2,
       "version_minor": 0
      },
      "text/plain": [
       "Evaluating:   0%|          | 0/5 [00:00<?, ?it/s]"
      ]
     },
     "metadata": {},
     "output_type": "display_data"
    },
    {
     "name": "stdout",
     "output_type": "stream",
     "text": [
      "Epoch: 20 | Epoch Time: 0m 3s\n",
      "\tTrain Loss: 0.600 | Train Acc: 71.25%\n",
      "\t Val. Loss: 0.549 |  Val. Acc: 75.00%\n",
      "Best parameter: 0.001\n"
     ]
    }
   ],
   "source": [
    "EPOCHS = 20\n",
    "\n",
    "best_lr = None\n",
    "best_valid_loss = float('inf')\n",
    "best_model_state = None\n",
    "results = []\n",
    "lr_grid = [1e-1, 1e-2, 1e-3, 1e-4]\n",
    "\n",
    "for lr in lr_grid:\n",
    "    print(f\"\\nTuning learning rate: {lr}\")\n",
    "\n",
    "    model = AlexNet(OUTPUT_DIM).to (device)\n",
    "    model.apply(initialize_parameters)\n",
    "    optimizer = optim.Adam(model.parameters(), lr=lr)\n",
    "\n",
    "    train_losses = []\n",
    "    valid_losses = []\n",
    "\n",
    "\n",
    "    for epoch in trange(EPOCHS, desc=\"Epochs\"):\n",
    "\n",
    "        start_time = time.monotonic()\n",
    "\n",
    "        train_loss, train_acc = train(model, train_image_iter, optimizer, criterion, device)\n",
    "        valid_loss, valid_acc = evaluate(model, valid_image_iter, criterion, device)\n",
    "\n",
    "        train_losses.append(train_loss)\n",
    "        valid_losses.append(valid_loss)\n",
    "\n",
    "        if valid_loss < best_valid_loss:\n",
    "            best_valid_loss = valid_loss\n",
    "            best_lr = lr\n",
    "            best_model_state = model.state_dict()\n",
    "            torch.save(model.state_dict(), 'best-model.pt')\n",
    "\n",
    "        end_time = time.monotonic()\n",
    "\n",
    "        epoch_mins, epoch_secs = epoch_time(start_time, end_time)\n",
    "\n",
    "        print(f'Epoch: {epoch+1:02} | Epoch Time: {epoch_mins}m {epoch_secs}s')\n",
    "        print(f'\\tTrain Loss: {train_loss:.3f} | Train Acc: {train_acc*100:.2f}%')\n",
    "        print(f'\\t Val. Loss: {valid_loss:.3f} |  Val. Acc: {valid_acc*100:.2f}%')\n",
    "\n",
    "print(f\"Best parameter: {best_lr}\")"
   ]
  },
  {
   "cell_type": "markdown",
   "metadata": {
    "id": "1DGNuXua-XsD"
   },
   "source": [
    "**Training/Validation Loss Plot**"
   ]
  },
  {
   "cell_type": "code",
   "execution_count": 23,
   "metadata": {
    "colab": {
     "base_uri": "https://localhost:8080/",
     "height": 466
    },
    "executionInfo": {
     "elapsed": 1445,
     "status": "ok",
     "timestamp": 1745490589575,
     "user": {
      "displayName": "Bo Kwok",
      "userId": "02865672638441406614"
     },
     "user_tz": -60
    },
    "id": "FfDJJSYQbkk3",
    "outputId": "2b50428e-e047-4d92-a204-23fafb6c2186"
   },
   "outputs": [
    {
     "data": {
      "text/plain": [
       "<matplotlib.legend.Legend at 0x7ed6c9d38390>"
      ]
     },
     "execution_count": 23,
     "metadata": {},
     "output_type": "execute_result"
    },
    {
     "data": {
      "image/png": "[encoded data removed]",
      "text/plain": [
       "<Figure size 640x480 with 1 Axes>"
      ]
     },
     "metadata": {
      "image/png": {
       "height": 432,
       "width": 554
      }
     },
     "output_type": "display_data"
    }
   ],
   "source": [
    "%matplotlib inline\n",
    "%config InlineBackend.figure_format = 'retina'\n",
    "\n",
    "plt.plot(train_losses, label='Training loss')\n",
    "plt.plot(valid_losses, label='Validation loss')\n",
    "plt.xlabel(\"Epochs\")\n",
    "plt.ylabel(\"Loss\")\n",
    "plt.legend(frameon=False)"
   ]
  },
  {
   "cell_type": "markdown",
   "metadata": {
    "id": "8m4b4QeiBeYH"
   },
   "source": [
    "**Model Testing**"
   ]
  },
  {
   "cell_type": "code",
   "execution_count": 24,
   "metadata": {
    "colab": {
     "base_uri": "https://localhost:8080/"
    },
    "executionInfo": {
     "elapsed": 302,
     "status": "ok",
     "timestamp": 1745490597317,
     "user": {
      "displayName": "Bo Kwok",
      "userId": "02865672638441406614"
     },
     "user_tz": -60
    },
    "id": "VUVcujKzcUfb",
    "outputId": "0c54ebb8-4917-483f-d874-48c847d09d98"
   },
   "outputs": [
    {
     "data": {
      "text/plain": [
       "<All keys matched successfully>"
      ]
     },
     "execution_count": 24,
     "metadata": {},
     "output_type": "execute_result"
    }
   ],
   "source": [
    "model.load_state_dict(torch.load('best-model.pt'))"
   ]
  },
  {
   "cell_type": "code",
   "execution_count": 25,
   "metadata": {
    "executionInfo": {
     "elapsed": 1063,
     "status": "ok",
     "timestamp": 1745490601028,
     "user": {
      "displayName": "Bo Kwok",
      "userId": "02865672638441406614"
     },
     "user_tz": -60
    },
    "id": "inNnrwqnckPO"
   },
   "outputs": [],
   "source": [
    "images, labels, probs = get_predictions(model, test_image_iter, device)"
   ]
  },
  {
   "cell_type": "code",
   "execution_count": 26,
   "metadata": {
    "executionInfo": {
     "elapsed": 10,
     "status": "ok",
     "timestamp": 1745490602556,
     "user": {
      "displayName": "Bo Kwok",
      "userId": "02865672638441406614"
     },
     "user_tz": -60
    },
    "id": "GM6cU39GdGk5"
   },
   "outputs": [],
   "source": [
    "test = pd.read_csv('/content/drive/My Drive/Kwok_Bo_22454220_Code/test_image_isic_id_target.csv')\n",
    "y_test = np.array(test.drop(['isic_id'], axis=1))"
   ]
  },
  {
   "cell_type": "code",
   "execution_count": 27,
   "metadata": {
    "colab": {
     "base_uri": "https://localhost:8080/"
    },
    "executionInfo": {
     "elapsed": 7,
     "status": "ok",
     "timestamp": 1745490605909,
     "user": {
      "displayName": "Bo Kwok",
      "userId": "02865672638441406614"
     },
     "user_tz": -60
    },
    "id": "p1RYgG6bEE4P",
    "outputId": "d9d60cea-9223-4245-e050-ca865dd5914e"
   },
   "outputs": [
    {
     "name": "stdout",
     "output_type": "stream",
     "text": [
      "Accuracy for Test Set: 0.562\n"
     ]
    }
   ],
   "source": [
    "def calculate_accuracy_from_predictions(preds, labels):\n",
    "    correct = (preds == labels).sum()\n",
    "    return correct / len(labels)\n",
    "\n",
    "pred_class = np.argmax(probs, axis=1)\n",
    "true_class = y_test\n",
    "\n",
    "test_accuracy = calculate_accuracy_from_predictions(pred_class, true_class.flatten())\n",
    "print(f\"Accuracy for Test Set: {test_accuracy:.3f}\")"
   ]
  },
  {
   "cell_type": "markdown",
   "metadata": {
    "id": "o9YCbro2MFDG"
   },
   "source": [
    "**ROC & ROC Curve**"
   ]
  },
  {
   "cell_type": "code",
   "execution_count": 28,
   "metadata": {
    "colab": {
     "base_uri": "https://localhost:8080/",
     "height": 488
    },
    "executionInfo": {
     "elapsed": 479,
     "status": "ok",
     "timestamp": 1745490610950,
     "user": {
      "displayName": "Bo Kwok",
      "userId": "02865672638441406614"
     },
     "user_tz": -60
    },
    "id": "BRsdxUVteFN5",
    "outputId": "3377449e-cecf-4b18-e738-dd68e00a0a26"
   },
   "outputs": [
    {
     "name": "stdout",
     "output_type": "stream",
     "text": [
      "Test Set ROC-AUC Score: 0.581\n"
     ]
    },
    {
     "data": {
      "image/png": "[encoded data removed]",
      "text/plain": [
       "<Figure size 640x480 with 1 Axes>"
      ]
     },
     "metadata": {
      "image/png": {
       "height": 454,
       "width": 578
      }
     },
     "output_type": "display_data"
    }
   ],
   "source": [
    "fpr, tpr, _ = roc_curve(y_test, probs[:, 1])\n",
    "roc_auc =auc(fpr, tpr)\n",
    "print(f\"Test Set ROC-AUC Score: {roc_auc:.3f}\")\n",
    "\n",
    "plt.figure()\n",
    "lw=2\n",
    "plt.plot(fpr,tpr,color='darkorange', lw = lw, label =f'ROC curve (area =  {roc_auc:.3f}')\n",
    "plt.plot([0, 1],[0,1], color='navy', lw = lw, linestyle='--')\n",
    "plt.xlim([0.0, 1.0])\n",
    "plt.ylim([0.0, 1.05])\n",
    "plt.xlabel('False Positive Rate')\n",
    "plt.ylabel('True Positive Rate')\n",
    "plt.title('Receiver operating characteristic example')\n",
    "plt.legend(loc=\"lower right\")\n",
    "plt.show()"
   ]
  },
  {
   "cell_type": "markdown",
   "metadata": {
    "id": "6ukL9k45MguY"
   },
   "source": [
    "**Unnormalized and Normalized Confusion Matrix**"
   ]
  },
  {
   "cell_type": "code",
   "execution_count": 29,
   "metadata": {
    "colab": {
     "base_uri": "https://localhost:8080/",
     "height": 1000
    },
    "executionInfo": {
     "elapsed": 1282,
     "status": "ok",
     "timestamp": 1745490620028,
     "user": {
      "displayName": "Bo Kwok",
      "userId": "02865672638441406614"
     },
     "user_tz": -60
    },
    "id": "AjFXGRCQmeIB",
    "outputId": "b4af0bd6-d20e-4065-c592-bcce63571edb"
   },
   "outputs": [
    {
     "name": "stdout",
     "output_type": "stream",
     "text": [
      "[[36 22]\n",
      " [20 18]]\n",
      "Unnormalized Confusion Matrix for Test Set\n",
      "[0 1]\n"
     ]
    },
    {
     "data": {
      "image/png": "[encoded data removed]",
      "text/plain": [
       "<Figure size 640x480 with 2 Axes>"
      ]
     },
     "metadata": {
      "image/png": {
       "height": 454,
       "width": 498
      }
     },
     "output_type": "display_data"
    },
    {
     "name": "stdout",
     "output_type": "stream",
     "text": [
      "[58 38]\n",
      "[[58. 58.]\n",
      " [38. 38.]]\n",
      "Normalized Confusion Matrix for Test Set\n",
      "[[0.62 0.38]\n",
      " [0.53 0.47]]\n"
     ]
    },
    {
     "data": {
      "image/png": "[encoded data removed]",
      "text/plain": [
       "<Figure size 640x480 with 2 Axes>"
      ]
     },
     "metadata": {
      "image/png": {
       "height": 454,
       "width": 511
      }
     },
     "output_type": "display_data"
    }
   ],
   "source": [
    "cm = confusion_matrix(true_class, pred_class)\n",
    "class_names = unique_labels(true_class, pred_class)\n",
    "print(cm)\n",
    "print(\"Unnormalized Confusion Matrix for Test Set\")\n",
    "print(class_names)\n",
    "disp = ConfusionMatrixDisplay(cm, display_labels=class_names)\n",
    "disp.plot(cmap=plt.cm.Blues)\n",
    "plt.title(\"Unnormalized Confusion Matrix\")\n",
    "plt.show()\n",
    "\n",
    "C = cm\n",
    "divisor = np.zeros((2,2))\n",
    "divisor[0][:] = cm.sum(axis=1)[0]\n",
    "divisor[1][:] = cm.sum(axis=1)[1]\n",
    "cm_normalised = np.divide(cm, divisor)\n",
    "print(np.transpose((C.sum(axis=1))))\n",
    "print(divisor)\n",
    "\n",
    "cm_normalised = np.round(cm_normalised, 2)\n",
    "print(\"Normalized Confusion Matrix for Test Set\")\n",
    "print(cm_normalised)\n",
    "disp = ConfusionMatrixDisplay(cm_normalised, display_labels=class_names)\n",
    "disp.plot(cmap=plt.cm.Blues, values_format=\"\")\n",
    "plt.title(\"Normalized Confusion Matrix\")\n",
    "plt.show()\n"
   ]
  },
  {
   "cell_type": "markdown",
   "metadata": {
    "id": "Zw-eZHGiNLZd"
   },
   "source": [
    "**Precision, Recall, F1-score**"
   ]
  },
  {
   "cell_type": "code",
   "execution_count": 30,
   "metadata": {
    "colab": {
     "base_uri": "https://localhost:8080/"
    },
    "executionInfo": {
     "elapsed": 5,
     "status": "ok",
     "timestamp": 1745490634859,
     "user": {
      "displayName": "Bo Kwok",
      "userId": "02865672638441406614"
     },
     "user_tz": -60
    },
    "id": "9pBsc91TMyez",
    "outputId": "fae12e2b-89b3-443f-cb6f-e1fba9a5fa3f"
   },
   "outputs": [
    {
     "name": "stdout",
     "output_type": "stream",
     "text": [
      "Precision : 0.546\n",
      "Recall : 0.547\n",
      "F1-score : 0.547\n"
     ]
    }
   ],
   "source": [
    "TP = np.diag(cm)\n",
    "FP = cm.sum(axis=0) - TP\n",
    "FN = cm.sum(axis=1) - TP\n",
    "\n",
    "precision_per_class = TP / (TP + FP)\n",
    "recall_per_class = TP / (TP + FN)\n",
    "f1_per_class = 2 * (precision_per_class * recall_per_class) / (precision_per_class + recall_per_class)\n",
    "\n",
    "precision = np.mean(precision_per_class)\n",
    "recall = np.mean(recall_per_class)\n",
    "f1 = np.mean(f1_per_class)\n",
    "\n",
    "print(f\"Precision : {precision:.3f}\")\n",
    "print(f\"Recall : {recall:.3f}\")\n",
    "print(f\"F1-score : {f1:.3f}\")"
   ]
  }
 ],
 "metadata": {
  "accelerator": "GPU",
  "colab": {
   "authorship_tag": "ABX9TyMdrjHUQI/xHycerDq41dWw",
   "gpuType": "T4",
   "provenance": []
  },
  "kernelspec": {
   "display_name": "Python 3",
   "name": "python3"
  },
  "language_info": {
   "name": "python"
  }
 },
 "nbformat": 4,
 "nbformat_minor": 0
}
